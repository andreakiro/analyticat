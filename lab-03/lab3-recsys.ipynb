{
 "cells": [
  {
   "cell_type": "markdown",
   "metadata": {},
   "source": [
    "# Lab 3 — recommender systems"
   ]
  },
  {
   "cell_type": "code",
   "execution_count": 19,
   "metadata": {},
   "outputs": [
    {
     "data": {
      "text/html": [
       "\n",
       "    <div class=\"bk-root\">\n",
       "        <a href=\"https://bokeh.org\" target=\"_blank\" class=\"bk-logo bk-logo-small bk-logo-notebook\"></a>\n",
       "        <span id=\"1002\">Loading BokehJS ...</span>\n",
       "    </div>"
      ]
     },
     "metadata": {},
     "output_type": "display_data"
    },
    {
     "data": {
      "application/javascript": [
       "\n",
       "(function(root) {\n",
       "  function now() {\n",
       "    return new Date();\n",
       "  }\n",
       "\n",
       "  var force = true;\n",
       "\n",
       "  if (typeof root._bokeh_onload_callbacks === \"undefined\" || force === true) {\n",
       "    root._bokeh_onload_callbacks = [];\n",
       "    root._bokeh_is_loading = undefined;\n",
       "  }\n",
       "\n",
       "  var JS_MIME_TYPE = 'application/javascript';\n",
       "  var HTML_MIME_TYPE = 'text/html';\n",
       "  var EXEC_MIME_TYPE = 'application/vnd.bokehjs_exec.v0+json';\n",
       "  var CLASS_NAME = 'output_bokeh rendered_html';\n",
       "\n",
       "  /**\n",
       "   * Render data to the DOM node\n",
       "   */\n",
       "  function render(props, node) {\n",
       "    var script = document.createElement(\"script\");\n",
       "    node.appendChild(script);\n",
       "  }\n",
       "\n",
       "  /**\n",
       "   * Handle when an output is cleared or removed\n",
       "   */\n",
       "  function handleClearOutput(event, handle) {\n",
       "    var cell = handle.cell;\n",
       "\n",
       "    var id = cell.output_area._bokeh_element_id;\n",
       "    var server_id = cell.output_area._bokeh_server_id;\n",
       "    // Clean up Bokeh references\n",
       "    if (id != null && id in Bokeh.index) {\n",
       "      Bokeh.index[id].model.document.clear();\n",
       "      delete Bokeh.index[id];\n",
       "    }\n",
       "\n",
       "    if (server_id !== undefined) {\n",
       "      // Clean up Bokeh references\n",
       "      var cmd = \"from bokeh.io.state import curstate; print(curstate().uuid_to_server['\" + server_id + \"'].get_sessions()[0].document.roots[0]._id)\";\n",
       "      cell.notebook.kernel.execute(cmd, {\n",
       "        iopub: {\n",
       "          output: function(msg) {\n",
       "            var id = msg.content.text.trim();\n",
       "            if (id in Bokeh.index) {\n",
       "              Bokeh.index[id].model.document.clear();\n",
       "              delete Bokeh.index[id];\n",
       "            }\n",
       "          }\n",
       "        }\n",
       "      });\n",
       "      // Destroy server and session\n",
       "      var cmd = \"import bokeh.io.notebook as ion; ion.destroy_server('\" + server_id + \"')\";\n",
       "      cell.notebook.kernel.execute(cmd);\n",
       "    }\n",
       "  }\n",
       "\n",
       "  /**\n",
       "   * Handle when a new output is added\n",
       "   */\n",
       "  function handleAddOutput(event, handle) {\n",
       "    var output_area = handle.output_area;\n",
       "    var output = handle.output;\n",
       "\n",
       "    // limit handleAddOutput to display_data with EXEC_MIME_TYPE content only\n",
       "    if ((output.output_type != \"display_data\") || (!output.data.hasOwnProperty(EXEC_MIME_TYPE))) {\n",
       "      return\n",
       "    }\n",
       "\n",
       "    var toinsert = output_area.element.find(\".\" + CLASS_NAME.split(' ')[0]);\n",
       "\n",
       "    if (output.metadata[EXEC_MIME_TYPE][\"id\"] !== undefined) {\n",
       "      toinsert[toinsert.length - 1].firstChild.textContent = output.data[JS_MIME_TYPE];\n",
       "      // store reference to embed id on output_area\n",
       "      output_area._bokeh_element_id = output.metadata[EXEC_MIME_TYPE][\"id\"];\n",
       "    }\n",
       "    if (output.metadata[EXEC_MIME_TYPE][\"server_id\"] !== undefined) {\n",
       "      var bk_div = document.createElement(\"div\");\n",
       "      bk_div.innerHTML = output.data[HTML_MIME_TYPE];\n",
       "      var script_attrs = bk_div.children[0].attributes;\n",
       "      for (var i = 0; i < script_attrs.length; i++) {\n",
       "        toinsert[toinsert.length - 1].firstChild.setAttribute(script_attrs[i].name, script_attrs[i].value);\n",
       "      }\n",
       "      // store reference to server id on output_area\n",
       "      output_area._bokeh_server_id = output.metadata[EXEC_MIME_TYPE][\"server_id\"];\n",
       "    }\n",
       "  }\n",
       "\n",
       "  function register_renderer(events, OutputArea) {\n",
       "\n",
       "    function append_mime(data, metadata, element) {\n",
       "      // create a DOM node to render to\n",
       "      var toinsert = this.create_output_subarea(\n",
       "        metadata,\n",
       "        CLASS_NAME,\n",
       "        EXEC_MIME_TYPE\n",
       "      );\n",
       "      this.keyboard_manager.register_events(toinsert);\n",
       "      // Render to node\n",
       "      var props = {data: data, metadata: metadata[EXEC_MIME_TYPE]};\n",
       "      render(props, toinsert[toinsert.length - 1]);\n",
       "      element.append(toinsert);\n",
       "      return toinsert\n",
       "    }\n",
       "\n",
       "    /* Handle when an output is cleared or removed */\n",
       "    events.on('clear_output.CodeCell', handleClearOutput);\n",
       "    events.on('delete.Cell', handleClearOutput);\n",
       "\n",
       "    /* Handle when a new output is added */\n",
       "    events.on('output_added.OutputArea', handleAddOutput);\n",
       "\n",
       "    /**\n",
       "     * Register the mime type and append_mime function with output_area\n",
       "     */\n",
       "    OutputArea.prototype.register_mime_type(EXEC_MIME_TYPE, append_mime, {\n",
       "      /* Is output safe? */\n",
       "      safe: true,\n",
       "      /* Index of renderer in `output_area.display_order` */\n",
       "      index: 0\n",
       "    });\n",
       "  }\n",
       "\n",
       "  // register the mime type if in Jupyter Notebook environment and previously unregistered\n",
       "  if (root.Jupyter !== undefined) {\n",
       "    var events = require('base/js/events');\n",
       "    var OutputArea = require('notebook/js/outputarea').OutputArea;\n",
       "\n",
       "    if (OutputArea.prototype.mime_types().indexOf(EXEC_MIME_TYPE) == -1) {\n",
       "      register_renderer(events, OutputArea);\n",
       "    }\n",
       "  }\n",
       "\n",
       "  \n",
       "  if (typeof (root._bokeh_timeout) === \"undefined\" || force === true) {\n",
       "    root._bokeh_timeout = Date.now() + 5000;\n",
       "    root._bokeh_failed_load = false;\n",
       "  }\n",
       "\n",
       "  var NB_LOAD_WARNING = {'data': {'text/html':\n",
       "     \"<div style='background-color: #fdd'>\\n\"+\n",
       "     \"<p>\\n\"+\n",
       "     \"BokehJS does not appear to have successfully loaded. If loading BokehJS from CDN, this \\n\"+\n",
       "     \"may be due to a slow or bad network connection. Possible fixes:\\n\"+\n",
       "     \"</p>\\n\"+\n",
       "     \"<ul>\\n\"+\n",
       "     \"<li>re-rerun `output_notebook()` to attempt to load from CDN again, or</li>\\n\"+\n",
       "     \"<li>use INLINE resources instead, as so:</li>\\n\"+\n",
       "     \"</ul>\\n\"+\n",
       "     \"<code>\\n\"+\n",
       "     \"from bokeh.resources import INLINE\\n\"+\n",
       "     \"output_notebook(resources=INLINE)\\n\"+\n",
       "     \"</code>\\n\"+\n",
       "     \"</div>\"}};\n",
       "\n",
       "  function display_loaded() {\n",
       "    var el = document.getElementById(\"1002\");\n",
       "    if (el != null) {\n",
       "      el.textContent = \"BokehJS is loading...\";\n",
       "    }\n",
       "    if (root.Bokeh !== undefined) {\n",
       "      if (el != null) {\n",
       "        el.textContent = \"BokehJS \" + root.Bokeh.version + \" successfully loaded.\";\n",
       "      }\n",
       "    } else if (Date.now() < root._bokeh_timeout) {\n",
       "      setTimeout(display_loaded, 100)\n",
       "    }\n",
       "  }\n",
       "\n",
       "\n",
       "  function run_callbacks() {\n",
       "    try {\n",
       "      root._bokeh_onload_callbacks.forEach(function(callback) {\n",
       "        if (callback != null)\n",
       "          callback();\n",
       "      });\n",
       "    } finally {\n",
       "      delete root._bokeh_onload_callbacks\n",
       "    }\n",
       "    console.debug(\"Bokeh: all callbacks have finished\");\n",
       "  }\n",
       "\n",
       "  function load_libs(css_urls, js_urls, callback) {\n",
       "    if (css_urls == null) css_urls = [];\n",
       "    if (js_urls == null) js_urls = [];\n",
       "\n",
       "    root._bokeh_onload_callbacks.push(callback);\n",
       "    if (root._bokeh_is_loading > 0) {\n",
       "      console.debug(\"Bokeh: BokehJS is being loaded, scheduling callback at\", now());\n",
       "      return null;\n",
       "    }\n",
       "    if (js_urls == null || js_urls.length === 0) {\n",
       "      run_callbacks();\n",
       "      return null;\n",
       "    }\n",
       "    console.debug(\"Bokeh: BokehJS not loaded, scheduling load and callback at\", now());\n",
       "    root._bokeh_is_loading = css_urls.length + js_urls.length;\n",
       "\n",
       "    function on_load() {\n",
       "      root._bokeh_is_loading--;\n",
       "      if (root._bokeh_is_loading === 0) {\n",
       "        console.debug(\"Bokeh: all BokehJS libraries/stylesheets loaded\");\n",
       "        run_callbacks()\n",
       "      }\n",
       "    }\n",
       "\n",
       "    function on_error() {\n",
       "      console.error(\"failed to load \" + url);\n",
       "    }\n",
       "\n",
       "    for (var i = 0; i < css_urls.length; i++) {\n",
       "      var url = css_urls[i];\n",
       "      const element = document.createElement(\"link\");\n",
       "      element.onload = on_load;\n",
       "      element.onerror = on_error;\n",
       "      element.rel = \"stylesheet\";\n",
       "      element.type = \"text/css\";\n",
       "      element.href = url;\n",
       "      console.debug(\"Bokeh: injecting link tag for BokehJS stylesheet: \", url);\n",
       "      document.body.appendChild(element);\n",
       "    }\n",
       "\n",
       "    for (var i = 0; i < js_urls.length; i++) {\n",
       "      var url = js_urls[i];\n",
       "      var element = document.createElement('script');\n",
       "      element.onload = on_load;\n",
       "      element.onerror = on_error;\n",
       "      element.async = false;\n",
       "      element.src = url;\n",
       "      console.debug(\"Bokeh: injecting script tag for BokehJS library: \", url);\n",
       "      document.head.appendChild(element);\n",
       "    }\n",
       "  };var element = document.getElementById(\"1002\");\n",
       "  if (element == null) {\n",
       "    console.error(\"Bokeh: ERROR: autoload.js configured with elementid '1002' but no matching script tag was found. \")\n",
       "    return false;\n",
       "  }\n",
       "\n",
       "  function inject_raw_css(css) {\n",
       "    const element = document.createElement(\"style\");\n",
       "    element.appendChild(document.createTextNode(css));\n",
       "    document.body.appendChild(element);\n",
       "  }\n",
       "\n",
       "  \n",
       "  var js_urls = [\"https://cdn.pydata.org/bokeh/release/bokeh-1.4.0.min.js\", \"https://cdn.pydata.org/bokeh/release/bokeh-widgets-1.4.0.min.js\", \"https://cdn.pydata.org/bokeh/release/bokeh-tables-1.4.0.min.js\", \"https://cdn.pydata.org/bokeh/release/bokeh-gl-1.4.0.min.js\"];\n",
       "  var css_urls = [];\n",
       "  \n",
       "\n",
       "  var inline_js = [\n",
       "    function(Bokeh) {\n",
       "      Bokeh.set_log_level(\"info\");\n",
       "    },\n",
       "    function(Bokeh) {\n",
       "    \n",
       "    \n",
       "    }\n",
       "  ];\n",
       "\n",
       "  function run_inline_js() {\n",
       "    \n",
       "    if (root.Bokeh !== undefined || force === true) {\n",
       "      \n",
       "    for (var i = 0; i < inline_js.length; i++) {\n",
       "      inline_js[i].call(root, root.Bokeh);\n",
       "    }\n",
       "    if (force === true) {\n",
       "        display_loaded();\n",
       "      }} else if (Date.now() < root._bokeh_timeout) {\n",
       "      setTimeout(run_inline_js, 100);\n",
       "    } else if (!root._bokeh_failed_load) {\n",
       "      console.log(\"Bokeh: BokehJS failed to load within specified timeout.\");\n",
       "      root._bokeh_failed_load = true;\n",
       "    } else if (force !== true) {\n",
       "      var cell = $(document.getElementById(\"1002\")).parents('.cell').data().cell;\n",
       "      cell.output_area.append_execute_result(NB_LOAD_WARNING)\n",
       "    }\n",
       "\n",
       "  }\n",
       "\n",
       "  if (root._bokeh_is_loading === 0) {\n",
       "    console.debug(\"Bokeh: BokehJS loaded, going straight to plotting\");\n",
       "    run_inline_js();\n",
       "  } else {\n",
       "    load_libs(css_urls, js_urls, function() {\n",
       "      console.debug(\"Bokeh: BokehJS plotting callback run at\", now());\n",
       "      run_inline_js();\n",
       "    });\n",
       "  }\n",
       "}(window));"
      ],
      "application/vnd.bokehjs_load.v0+json": "\n(function(root) {\n  function now() {\n    return new Date();\n  }\n\n  var force = true;\n\n  if (typeof root._bokeh_onload_callbacks === \"undefined\" || force === true) {\n    root._bokeh_onload_callbacks = [];\n    root._bokeh_is_loading = undefined;\n  }\n\n  \n\n  \n  if (typeof (root._bokeh_timeout) === \"undefined\" || force === true) {\n    root._bokeh_timeout = Date.now() + 5000;\n    root._bokeh_failed_load = false;\n  }\n\n  var NB_LOAD_WARNING = {'data': {'text/html':\n     \"<div style='background-color: #fdd'>\\n\"+\n     \"<p>\\n\"+\n     \"BokehJS does not appear to have successfully loaded. If loading BokehJS from CDN, this \\n\"+\n     \"may be due to a slow or bad network connection. Possible fixes:\\n\"+\n     \"</p>\\n\"+\n     \"<ul>\\n\"+\n     \"<li>re-rerun `output_notebook()` to attempt to load from CDN again, or</li>\\n\"+\n     \"<li>use INLINE resources instead, as so:</li>\\n\"+\n     \"</ul>\\n\"+\n     \"<code>\\n\"+\n     \"from bokeh.resources import INLINE\\n\"+\n     \"output_notebook(resources=INLINE)\\n\"+\n     \"</code>\\n\"+\n     \"</div>\"}};\n\n  function display_loaded() {\n    var el = document.getElementById(\"1002\");\n    if (el != null) {\n      el.textContent = \"BokehJS is loading...\";\n    }\n    if (root.Bokeh !== undefined) {\n      if (el != null) {\n        el.textContent = \"BokehJS \" + root.Bokeh.version + \" successfully loaded.\";\n      }\n    } else if (Date.now() < root._bokeh_timeout) {\n      setTimeout(display_loaded, 100)\n    }\n  }\n\n\n  function run_callbacks() {\n    try {\n      root._bokeh_onload_callbacks.forEach(function(callback) {\n        if (callback != null)\n          callback();\n      });\n    } finally {\n      delete root._bokeh_onload_callbacks\n    }\n    console.debug(\"Bokeh: all callbacks have finished\");\n  }\n\n  function load_libs(css_urls, js_urls, callback) {\n    if (css_urls == null) css_urls = [];\n    if (js_urls == null) js_urls = [];\n\n    root._bokeh_onload_callbacks.push(callback);\n    if (root._bokeh_is_loading > 0) {\n      console.debug(\"Bokeh: BokehJS is being loaded, scheduling callback at\", now());\n      return null;\n    }\n    if (js_urls == null || js_urls.length === 0) {\n      run_callbacks();\n      return null;\n    }\n    console.debug(\"Bokeh: BokehJS not loaded, scheduling load and callback at\", now());\n    root._bokeh_is_loading = css_urls.length + js_urls.length;\n\n    function on_load() {\n      root._bokeh_is_loading--;\n      if (root._bokeh_is_loading === 0) {\n        console.debug(\"Bokeh: all BokehJS libraries/stylesheets loaded\");\n        run_callbacks()\n      }\n    }\n\n    function on_error() {\n      console.error(\"failed to load \" + url);\n    }\n\n    for (var i = 0; i < css_urls.length; i++) {\n      var url = css_urls[i];\n      const element = document.createElement(\"link\");\n      element.onload = on_load;\n      element.onerror = on_error;\n      element.rel = \"stylesheet\";\n      element.type = \"text/css\";\n      element.href = url;\n      console.debug(\"Bokeh: injecting link tag for BokehJS stylesheet: \", url);\n      document.body.appendChild(element);\n    }\n\n    for (var i = 0; i < js_urls.length; i++) {\n      var url = js_urls[i];\n      var element = document.createElement('script');\n      element.onload = on_load;\n      element.onerror = on_error;\n      element.async = false;\n      element.src = url;\n      console.debug(\"Bokeh: injecting script tag for BokehJS library: \", url);\n      document.head.appendChild(element);\n    }\n  };var element = document.getElementById(\"1002\");\n  if (element == null) {\n    console.error(\"Bokeh: ERROR: autoload.js configured with elementid '1002' but no matching script tag was found. \")\n    return false;\n  }\n\n  function inject_raw_css(css) {\n    const element = document.createElement(\"style\");\n    element.appendChild(document.createTextNode(css));\n    document.body.appendChild(element);\n  }\n\n  \n  var js_urls = [\"https://cdn.pydata.org/bokeh/release/bokeh-1.4.0.min.js\", \"https://cdn.pydata.org/bokeh/release/bokeh-widgets-1.4.0.min.js\", \"https://cdn.pydata.org/bokeh/release/bokeh-tables-1.4.0.min.js\", \"https://cdn.pydata.org/bokeh/release/bokeh-gl-1.4.0.min.js\"];\n  var css_urls = [];\n  \n\n  var inline_js = [\n    function(Bokeh) {\n      Bokeh.set_log_level(\"info\");\n    },\n    function(Bokeh) {\n    \n    \n    }\n  ];\n\n  function run_inline_js() {\n    \n    if (root.Bokeh !== undefined || force === true) {\n      \n    for (var i = 0; i < inline_js.length; i++) {\n      inline_js[i].call(root, root.Bokeh);\n    }\n    if (force === true) {\n        display_loaded();\n      }} else if (Date.now() < root._bokeh_timeout) {\n      setTimeout(run_inline_js, 100);\n    } else if (!root._bokeh_failed_load) {\n      console.log(\"Bokeh: BokehJS failed to load within specified timeout.\");\n      root._bokeh_failed_load = true;\n    } else if (force !== true) {\n      var cell = $(document.getElementById(\"1002\")).parents('.cell').data().cell;\n      cell.output_area.append_execute_result(NB_LOAD_WARNING)\n    }\n\n  }\n\n  if (root._bokeh_is_loading === 0) {\n    console.debug(\"Bokeh: BokehJS loaded, going straight to plotting\");\n    run_inline_js();\n  } else {\n    load_libs(css_urls, js_urls, function() {\n      console.debug(\"Bokeh: BokehJS plotting callback run at\", now());\n      run_inline_js();\n    });\n  }\n}(window));"
     },
     "metadata": {},
     "output_type": "display_data"
    }
   ],
   "source": [
    "import json\n",
    "import matplotlib.pyplot as plt\n",
    "import numpy as np\n",
    "import math\n",
    "import random\n",
    "import pickle\n",
    "import pyspark.mllib.recommendation as ml\n",
    "from pyspark.sql.functions import sqrt\n",
    "from bokeh.io import show, output_notebook\n",
    "from bokeh.plotting import figure, ColumnDataSource\n",
    "from bokeh.models import HoverTool, ResetTool, PanTool, WheelZoomTool, SaveTool\n",
    "import rate_movies\n",
    "output_notebook()\n",
    "\n",
    "%matplotlib inline\n",
    "plt.style.use(\"ggplot\")"
   ]
  },
  {
   "cell_type": "markdown",
   "metadata": {},
   "source": [
    "## Raw Data Visualization"
   ]
  },
  {
   "cell_type": "markdown",
   "metadata": {},
   "source": [
    "Before jumping in the exercices, let's see a bit how does the data look like!"
   ]
  },
  {
   "cell_type": "code",
   "execution_count": 20,
   "metadata": {},
   "outputs": [],
   "source": [
    "data = sc.textFile(\"/ix/ml-20m/ratings.txt\").map(json.loads)"
   ]
  },
  {
   "cell_type": "code",
   "execution_count": 21,
   "metadata": {},
   "outputs": [
    {
     "name": "stdout",
     "output_type": "stream",
     "text": [
      "The total number of ratings is 20000263, and some data entries look like so : \n",
      "0: {'movieId': 2, 'userId': 1, 'timestamp': 1112486027, 'rating': 3.5}\n",
      "1: {'movieId': 29, 'userId': 1, 'timestamp': 1112484676, 'rating': 3.5}\n",
      "2: {'movieId': 32, 'userId': 1, 'timestamp': 1112484819, 'rating': 3.5}\n",
      "3: {'movieId': 47, 'userId': 1, 'timestamp': 1112484727, 'rating': 3.5}\n",
      "4: {'movieId': 50, 'userId': 1, 'timestamp': 1112484580, 'rating': 3.5}\n",
      "5: {'movieId': 112, 'userId': 1, 'timestamp': 1094785740, 'rating': 3.5}\n",
      "6: {'movieId': 151, 'userId': 1, 'timestamp': 1094785734, 'rating': 4.0}\n",
      "7: {'movieId': 223, 'userId': 1, 'timestamp': 1112485573, 'rating': 4.0}\n",
      "8: {'movieId': 253, 'userId': 1, 'timestamp': 1112484940, 'rating': 4.0}\n",
      "9: {'movieId': 260, 'userId': 1, 'timestamp': 1112484826, 'rating': 4.0}\n"
     ]
    }
   ],
   "source": [
    "N = data.count()\n",
    "some_ratings = data.take(10)\n",
    "print(f\"The total number of ratings is {N}, and some data entries look like so : \")\n",
    "for i, rating in enumerate(some_ratings):\n",
    "    print(\"%d: %s\" % (i, rating))"
   ]
  },
  {
   "cell_type": "markdown",
   "metadata": {},
   "source": [
    "**Should we clear the database and if yes, how ?**"
   ]
  },
  {
   "cell_type": "markdown",
   "metadata": {
    "collapsed": true
   },
   "source": [
    "## Ex 3.4)"
   ]
  },
  {
   "cell_type": "markdown",
   "metadata": {},
   "source": [
    "Now we will try to get some basic statistics on this dataset to have a better idea of how the ratings are distributed among users and movies."
   ]
  },
  {
   "cell_type": "markdown",
   "metadata": {},
   "source": [
    "### User"
   ]
  },
  {
   "cell_type": "code",
   "execution_count": 22,
   "metadata": {},
   "outputs": [],
   "source": [
    "count_per_user = data.map(lambda rating : (rating[\"userId\"],1))\n",
    "count_per_user = count_per_user.reduceByKey(lambda a,b : a+b).sortByKey()\n",
    "rating_per_user = np.asarray(count_per_user.map(lambda u : u[1]).collect())"
   ]
  },
  {
   "cell_type": "code",
   "execution_count": 23,
   "metadata": {},
   "outputs": [
    {
     "data": {
      "image/png": "[encoded data removed]",
      "text/plain": [
       "<Figure size 1440x360 with 1 Axes>"
      ]
     },
     "metadata": {},
     "output_type": "display_data"
    }
   ],
   "source": [
    "fig, ax = plt.subplots(figsize=(20,5))\n",
    "ax.set_title('Number of ratings per user')\n",
    "ax.set_ylabel(\"Number of ratings\")\n",
    "ax.set_xlabel(\"UserId\")\n",
    "plot_users = ax.plot(rating_per_user)"
   ]
  },
  {
   "cell_type": "code",
   "execution_count": 24,
   "metadata": {},
   "outputs": [
    {
     "name": "stdout",
     "output_type": "stream",
     "text": [
      "There is 138493 users. The mean number of ratings per user is 144.4135299257002 and it has a standard deviation of 230.26642566347996\n"
     ]
    }
   ],
   "source": [
    "user_mean = rating_per_user.mean()\n",
    "user_std = rating_per_user.std()\n",
    "print(f\"There is {len(rating_per_user)} users. The mean number of ratings per user is {user_mean} and it has a standard deviation of {user_std}\")"
   ]
  },
  {
   "cell_type": "markdown",
   "metadata": {},
   "source": [
    "There is a pretty strong variance and the mean is pretty low compared to some peaks that we can observe. Thus there is clearly some outliers, i.e. users who have rated a lot of films or who have rated only a few. Let's do a boxlplot to have a better view of these outliers:"
   ]
  },
  {
   "cell_type": "code",
   "execution_count": 25,
   "metadata": {},
   "outputs": [
    {
     "data": {
      "image/png": "[encoded data removed]",
      "text/plain": [
       "<Figure size 1440x360 with 1 Axes>"
      ]
     },
     "metadata": {},
     "output_type": "display_data"
    }
   ],
   "source": [
    "fig, ax = plt.subplots(figsize=(20,5))\n",
    "ax.set_title('Boxplot for the number of ratings per user')\n",
    "ax.set_xlabel(\"Number of ratings\")\n",
    "plot_users = ax.boxplot(rating_per_user, vert=False)"
   ]
  },
  {
   "cell_type": "code",
   "execution_count": 26,
   "metadata": {},
   "outputs": [
    {
     "name": "stdout",
     "output_type": "stream",
     "text": [
      "The median of the number of ratings per user is 68.0 ratings\n"
     ]
    }
   ],
   "source": [
    "print(f\"The median of the number of ratings per user is {np.median(rating_per_user)} ratings\")"
   ]
  },
  {
   "cell_type": "markdown",
   "metadata": {},
   "source": [
    "Thus, with a low median compared to the mean together with the boxplot, we can see that the majority of users will rate only a few movies. Some outliers exists especially with a high number of ratings, and they shift the mean toward a higher number of ratings."
   ]
  },
  {
   "cell_type": "markdown",
   "metadata": {},
   "source": [
    "### Movie"
   ]
  },
  {
   "cell_type": "markdown",
   "metadata": {},
   "source": [
    "Let's focus on the movies now. Our first expectation would be that blockbusters will have a lot of ratings because they have a lot of audience. And some movies will have really a few because they are in a less popular genre or treat a really specific subject."
   ]
  },
  {
   "cell_type": "code",
   "execution_count": 27,
   "metadata": {},
   "outputs": [],
   "source": [
    "count_per_movie = data.map(lambda rating : (rating[\"movieId\"],1))\n",
    "count_per_movie = count_per_movie.reduceByKey(lambda a,b : a+b).sortByKey()\n",
    "rating_per_movie = np.asarray(count_per_movie.map(lambda u : u[1]).collect())"
   ]
  },
  {
   "cell_type": "code",
   "execution_count": 28,
   "metadata": {
    "scrolled": true
   },
   "outputs": [
    {
     "data": {
      "image/png": "[encoded data removed]",
      "text/plain": [
       "<Figure size 1440x360 with 1 Axes>"
      ]
     },
     "metadata": {},
     "output_type": "display_data"
    }
   ],
   "source": [
    "fig, ax = plt.subplots(figsize=(20,5))\n",
    "ax.set_title('Number of ratings per movie')\n",
    "ax.set_ylabel(\"Number of ratings\")\n",
    "ax.set_xlabel(\"Movie\")\n",
    "plot_movies = ax.plot(rating_per_movie)"
   ]
  },
  {
   "cell_type": "markdown",
   "metadata": {},
   "source": [
    "Note that the values on the x axis of this plot is not the movieId. This is because, as opposed to userId who range from 0 to #users, the movieIds can take values that are way higher than the number of movies. Thus we don't have a nice scale so we just plot the number of ratings for each movies without giving the one to one mapping to their ids."
   ]
  },
  {
   "cell_type": "code",
   "execution_count": 29,
   "metadata": {},
   "outputs": [
    {
     "name": "stdout",
     "output_type": "stream",
     "text": [
      "There is 26744 movies. The mean number of ratings per movie is 747.8411232425965 and it has a standard deviation of 3085.7605755779364\n"
     ]
    }
   ],
   "source": [
    "movie_mean = rating_per_movie.mean()\n",
    "movie_std = rating_per_movie.std()\n",
    "print(f\"There is {len(rating_per_movie)} movies. The mean number of ratings per movie is {movie_mean} and it has a standard deviation of {movie_std}\")"
   ]
  },
  {
   "cell_type": "markdown",
   "metadata": {},
   "source": [
    "We can see that the average number of ratings per movie is higher than per user. Which makes sense because there is less movies so they will be watched by a lot of users. We can see that the std is also higher, by a lot! Thus there must be a lot more of outliers, i.e. some films with a lot of ratings (top of box office probably) or with only a few. Let's see the boxplot :"
   ]
  },
  {
   "cell_type": "code",
   "execution_count": 30,
   "metadata": {},
   "outputs": [
    {
     "data": {
      "image/png": "[encoded data removed]",
      "text/plain": [
       "<Figure size 1440x360 with 1 Axes>"
      ]
     },
     "metadata": {},
     "output_type": "display_data"
    }
   ],
   "source": [
    "fig, ax = plt.subplots(figsize=(20,5))\n",
    "ax.set_title('Boxplot for the number of ratings per user')\n",
    "ax.set_xlabel(\"Number of ratings\")\n",
    "plot_users = ax.boxplot(rating_per_movie, vert=False)"
   ]
  },
  {
   "cell_type": "code",
   "execution_count": 31,
   "metadata": {},
   "outputs": [
    {
     "name": "stdout",
     "output_type": "stream",
     "text": [
      "The median of the number of ratings per movie is : 18.0\n"
     ]
    }
   ],
   "source": [
    "print(f\"The median of the number of ratings per movie is : {np.median(rating_per_movie)}\")"
   ]
  },
  {
   "cell_type": "markdown",
   "metadata": {},
   "source": [
    "We can see that most of the the movies has a moderate number of ratings, but there is some movies with a huge number of ratings, which shifts the mean toward something higher than the median. Let's see what type of films receive a lots of ratings:"
   ]
  },
  {
   "cell_type": "code",
   "execution_count": 32,
   "metadata": {},
   "outputs": [],
   "source": [
    "top_5_most_rated_movies = count_per_movie.takeOrdered(5, key = lambda x : -x[1])"
   ]
  },
  {
   "cell_type": "markdown",
   "metadata": {},
   "source": [
    "To retrieve the movies'names we will use the file movies.txt which contains infos on every movies based on their movieId. This will be usefull later for part **3.2.2**"
   ]
  },
  {
   "cell_type": "code",
   "execution_count": 82,
   "metadata": {},
   "outputs": [],
   "source": [
    "movies_metadata = sc.textFile(\"/ix/ml-20m/movies.txt\").map(json.loads)\n",
    "movie_title_map = dict(movies_metadata.map(lambda m : (m[\"movieId\"],m[\"title\"])).collect())"
   ]
  },
  {
   "cell_type": "code",
   "execution_count": 34,
   "metadata": {},
   "outputs": [
    {
     "name": "stdout",
     "output_type": "stream",
     "text": [
      "Pulp Fiction (1994)\n",
      "Forrest Gump (1994)\n",
      "Shawshank Redemption, The (1994)\n",
      "Silence of the Lambs, The (1991)\n",
      "Jurassic Park (1993)\n"
     ]
    }
   ],
   "source": [
    "for m in top_5_most_rated_movies:\n",
    "    print(movie_title_map[m[0]])"
   ]
  },
  {
   "cell_type": "markdown",
   "metadata": {},
   "source": [
    "These movies are huge blockbusters, so it is not surprising that these are the ones that have a lot of ratings. \n",
    "\n",
    "It is great because the results are consistent with our expectations. Except that we thought that they would have been more outliers with a really low number of ratings, where in the data it seems that the lower end is rather \"uniform\"."
   ]
  },
  {
   "cell_type": "markdown",
   "metadata": {},
   "source": [
    "**Q)** Is the number of ratings balanced uniformly across users and movies?\n",
    "\n",
    "**A)** We can clearly see that we are far away from a uniform distribution of ratings for both users and movies, especially for movies."
   ]
  },
  {
   "cell_type": "markdown",
   "metadata": {},
   "source": [
    "## Ex 3.5)"
   ]
  },
  {
   "cell_type": "markdown",
   "metadata": {},
   "source": [
    "So Jérémy Baffou rated some movies he has seen:"
   ]
  },
  {
   "cell_type": "code",
   "execution_count": 35,
   "metadata": {},
   "outputs": [
    {
     "name": "stdout",
     "output_type": "stream",
     "text": [
      "Please rate the following movies.\n",
      "1 (worst) -- 5 (best), or 0 if not seen\n",
      "\n",
      "Toy Story (1995)\n",
      "Adventure, Animation, Children, Comedy, Fantasy\n",
      "your rating: 5\n",
      "\n",
      "Independence Day (1996)\n",
      "Action, Adventure, Sci-Fi, Thriller\n",
      "your rating: 0\n",
      "\n",
      "Dances with Wolves (1990)\n",
      "Adventure, Drama, Western\n",
      "your rating: 0\n",
      "\n",
      "Star Wars: Episode VI - Return of the Jedi (1983)\n",
      "Action, Adventure, Sci-Fi\n",
      "your rating: 5\n",
      "\n",
      "Mission: Impossible (1996)\n",
      "Action, Adventure, Mystery, Thriller\n",
      "your rating: 4\n",
      "\n",
      "Ace Ventura: Pet Detective (1994)\n",
      "Comedy\n",
      "your rating: 0\n",
      "\n",
      "Die Hard: With a Vengeance (1995)\n",
      "Action, Crime, Thriller\n",
      "your rating: 5\n",
      "\n",
      "Batman Forever (1995)\n",
      "Action, Adventure, Comedy, Crime\n",
      "your rating: 0\n",
      "\n",
      "Pretty Woman (1990)\n",
      "Comedy, Romance\n",
      "your rating: 0\n",
      "\n",
      "Men in Black (1997)\n",
      "Action, Comedy, Sci-Fi\n",
      "your rating: 4\n",
      "\n",
      "Dumb & Dumber (1994)\n",
      "Adventure, Comedy\n",
      "your rating: 0\n",
      "\n",
      "Successfully saved 5 ratings in `my-ratings.txt`\n",
      "Your user ID: 138494\n"
     ]
    }
   ],
   "source": [
    "rate_movies.main()"
   ]
  },
  {
   "cell_type": "code",
   "execution_count": 36,
   "metadata": {},
   "outputs": [
    {
     "name": "stdout",
     "output_type": "stream",
     "text": [
      "put: `my-ratings.txt': File exists\r\n"
     ]
    }
   ],
   "source": [
    "!hdfs dfs -put my-ratings.txt"
   ]
  },
  {
   "cell_type": "code",
   "execution_count": 37,
   "metadata": {},
   "outputs": [],
   "source": [
    "my_ratings = sc.textFile(\"my-ratings.txt\").map(json.loads)"
   ]
  },
  {
   "cell_type": "code",
   "execution_count": 38,
   "metadata": {},
   "outputs": [],
   "source": [
    "data_updated = data.union(my_ratings)"
   ]
  },
  {
   "cell_type": "code",
   "execution_count": 39,
   "metadata": {},
   "outputs": [],
   "source": [
    "N = data_updated.count()"
   ]
  },
  {
   "cell_type": "markdown",
   "metadata": {},
   "source": [
    "We will have to split the dataset into two partitions: training and validation sets. The repartition is respectively 80% and 20%. We base our partition cretarion on the time stamps : each rating whose time stamp last digit is between 0 and 7 (counted) it goes in the training set, the rest goes to the validation set. (The underlying assumption is that the last digit of the time stamps is uniformly distributed so that we have a 80/20 repartition)."
   ]
  },
  {
   "cell_type": "code",
   "execution_count": 40,
   "metadata": {},
   "outputs": [],
   "source": [
    "training_set = data_updated.filter(lambda r : r[\"timestamp\"]%10 < 8)"
   ]
  },
  {
   "cell_type": "code",
   "execution_count": 41,
   "metadata": {},
   "outputs": [],
   "source": [
    "validation_set = data_updated.filter(lambda r : r[\"timestamp\"]%10 >= 8)"
   ]
  },
  {
   "cell_type": "markdown",
   "metadata": {},
   "source": [
    "**Bonus Step**\n",
    "\n",
    "We just check that the assumption of uniform distribution over last digit is true:"
   ]
  },
  {
   "cell_type": "code",
   "execution_count": 42,
   "metadata": {},
   "outputs": [
    {
     "data": {
      "text/plain": [
       "[(0, 0.09998246023503285),\n",
       " (1, 0.10002930960725126),\n",
       " (2, 0.0999604605298289),\n",
       " (3, 0.10001395981293851),\n",
       " (4, 0.10006530912485773),\n",
       " (5, 0.09999456007289502),\n",
       " (6, 0.09994416074824597),\n",
       " (7, 0.09994621072077634),\n",
       " (8, 0.09999886001527579),\n",
       " (9, 0.10006470913289763)]"
      ]
     },
     "execution_count": 42,
     "metadata": {},
     "output_type": "execute_result"
    }
   ],
   "source": [
    "last_digit_count = data_updated.map(lambda r : (r[\"timestamp\"]%10,1)).reduceByKey(lambda a,b : a+b).map(lambda t : (t[0],t[1]/N)).collect()\n",
    "last_digit_count"
   ]
  },
  {
   "cell_type": "markdown",
   "metadata": {},
   "source": [
    "This is indeed a \"near uniform\" distribution!"
   ]
  },
  {
   "cell_type": "markdown",
   "metadata": {},
   "source": [
    "## Ex 3.6)"
   ]
  },
  {
   "cell_type": "markdown",
   "metadata": {},
   "source": [
    "First of all, let's compute the global average rating for a movie:"
   ]
  },
  {
   "cell_type": "code",
   "execution_count": 43,
   "metadata": {},
   "outputs": [],
   "source": [
    "global_average = training_set.map(lambda r : r[\"rating\"]).reduce(lambda a,b : a+b)/N"
   ]
  },
  {
   "cell_type": "code",
   "execution_count": 44,
   "metadata": {},
   "outputs": [
    {
     "name": "stdout",
     "output_type": "stream",
     "text": [
      "The global average of ratings is 2.8201894344615783\n"
     ]
    }
   ],
   "source": [
    "print(f\"The global average of ratings is {global_average}\")"
   ]
  },
  {
   "cell_type": "markdown",
   "metadata": {},
   "source": [
    "Now we have to compute the biases coefficients for each users and each movies. There is several ways to do it but we chose the following. \n",
    "\n",
    "First of all we had to decide for a default value for these biases. We chose 0 as if we have no info for a particular user or movie, we don't want to bias our prevision. Then to make things computationnaly efficient, we decided to create dictionnaries which maps users (movies) to their bias. As the operation of checking if a key is in a dictionnary is the cost of checking the hashing value of the key it is really efficient. We could also have done lists whose indexes would have been user and movie ids. But the problem of the \"not consistent\" scale of the movie ids make it harder to create such a list."
   ]
  },
  {
   "cell_type": "markdown",
   "metadata": {},
   "source": [
    "We start with the **biases for the users** :"
   ]
  },
  {
   "cell_type": "code",
   "execution_count": 45,
   "metadata": {},
   "outputs": [],
   "source": [
    "alpha_u = training_set.map(lambda r : (r[\"userId\"],np.asarray([r[\"rating\"]-global_average,1]))).reduceByKey(lambda a,b : a+b).map(lambda t : (t[0],t[1][0]/t[1][1])).collect()"
   ]
  },
  {
   "cell_type": "code",
   "execution_count": 46,
   "metadata": {},
   "outputs": [],
   "source": [
    "alpha_u_dict = dict(alpha_u)"
   ]
  },
  {
   "cell_type": "code",
   "execution_count": 47,
   "metadata": {},
   "outputs": [],
   "source": [
    "def user_bias(user_id):\n",
    "    if user_id in alpha_u_dict:\n",
    "        return alpha_u_dict[user_id]\n",
    "    return 0"
   ]
  },
  {
   "cell_type": "markdown",
   "metadata": {},
   "source": [
    "Now the **biases for movies**:"
   ]
  },
  {
   "cell_type": "code",
   "execution_count": 48,
   "metadata": {},
   "outputs": [],
   "source": [
    "beta_m = training_set.map(lambda r : (r[\"movieId\"],np.asarray([r[\"rating\"]-global_average-user_bias(r[\"userId\"]),1]))).reduceByKey(lambda a,b : a+b).map(lambda t : (t[0],t[1][0]/t[1][1])).collect()"
   ]
  },
  {
   "cell_type": "code",
   "execution_count": 49,
   "metadata": {},
   "outputs": [],
   "source": [
    "beta_m_dict = dict(beta_m)"
   ]
  },
  {
   "cell_type": "code",
   "execution_count": 50,
   "metadata": {},
   "outputs": [],
   "source": [
    "def movie_bias(movie_id):\n",
    "    if movie_id in beta_m_dict:\n",
    "        return beta_m_dict[movie_id]\n",
    "    return 0"
   ]
  },
  {
   "cell_type": "markdown",
   "metadata": {},
   "source": [
    "We also create a function to compute our rating estimator. It will be more convenient for map functions later."
   ]
  },
  {
   "cell_type": "code",
   "execution_count": 51,
   "metadata": {},
   "outputs": [],
   "source": [
    "\"\"\"\n",
    "We take the user and movie IDs, and return the estimated rating for this pair according to the given formula\n",
    "\"\"\"\n",
    "def r_estimate(u,m):\n",
    "    return global_average + user_bias(u) + movie_bias(m)"
   ]
  },
  {
   "cell_type": "markdown",
   "metadata": {},
   "source": [
    "Note that we made an implentation choice which is to have some global variables (global_average, the biases dictionarries, ...) because it was more convenient to work with functions with a low number of argument rather than passing every parameter to each function. It would have been more consistent but as we do a lot of map, reduce an so on, it was really more convenient to have a function with only two parameters.  "
   ]
  },
  {
   "cell_type": "markdown",
   "metadata": {},
   "source": [
    "The model has as parameters the global average, the biases for users and the biases for movies which gives:"
   ]
  },
  {
   "cell_type": "code",
   "execution_count": 52,
   "metadata": {},
   "outputs": [
    {
     "name": "stdout",
     "output_type": "stream",
     "text": [
      "The model has 164320 parameters\n"
     ]
    }
   ],
   "source": [
    "print(f\"The model has {1+len(alpha_u_dict)+len(beta_m_dict)} parameters\") # global average + alphas for users with ratings + betas for movies with ratings"
   ]
  },
  {
   "cell_type": "markdown",
   "metadata": {},
   "source": [
    "#### Lets compute the estimated ratings for the entire validation set:"
   ]
  },
  {
   "cell_type": "code",
   "execution_count": 53,
   "metadata": {},
   "outputs": [],
   "source": [
    "estimated_rating = validation_set.map(lambda r : {\"movieId\" : r[\"movieId\"], \"userId\" : r[\"userId\"], \"rating\": r_estimate(r[\"userId\"], r[\"movieId\"])})"
   ]
  },
  {
   "cell_type": "code",
   "execution_count": 54,
   "metadata": {},
   "outputs": [
    {
     "data": {
      "text/plain": [
       "[{'movieId': 32, 'userId': 1, 'rating': 4.063861913493075},\n",
       " {'movieId': 318, 'userId': 1, 'rating': 4.545559969291732},\n",
       " {'movieId': 337, 'userId': 1, 'rating': 3.9576628834893786},\n",
       " {'movieId': 924, 'userId': 1, 'rating': 4.088474345829363},\n",
       " {'movieId': 1089, 'userId': 1, 'rating': 4.213544616392077},\n",
       " {'movieId': 1136, 'userId': 1, 'rating': 4.287357667635263},\n",
       " {'movieId': 1246, 'userId': 1, 'rating': 4.0694082516926935},\n",
       " {'movieId': 1350, 'userId': 1, 'rating': 3.819252843392894},\n",
       " {'movieId': 1358, 'userId': 1, 'rating': 4.142904219276587},\n",
       " {'movieId': 1920, 'userId': 1, 'rating': 3.129217093048491}]"
      ]
     },
     "execution_count": 54,
     "metadata": {},
     "output_type": "execute_result"
    }
   ],
   "source": [
    "estimated_rating.take(10)"
   ]
  },
  {
   "cell_type": "code",
   "execution_count": 55,
   "metadata": {},
   "outputs": [
    {
     "data": {
      "text/plain": [
       "[{'movieId': 32, 'userId': 1, 'timestamp': 1112484819, 'rating': 3.5},\n",
       " {'movieId': 318, 'userId': 1, 'timestamp': 1112484798, 'rating': 4.0},\n",
       " {'movieId': 337, 'userId': 1, 'timestamp': 1094785709, 'rating': 3.5},\n",
       " {'movieId': 924, 'userId': 1, 'timestamp': 1094785598, 'rating': 3.5},\n",
       " {'movieId': 1089, 'userId': 1, 'timestamp': 1112484669, 'rating': 3.5},\n",
       " {'movieId': 1136, 'userId': 1, 'timestamp': 1112484609, 'rating': 3.5},\n",
       " {'movieId': 1246, 'userId': 1, 'timestamp': 1094785759, 'rating': 3.5},\n",
       " {'movieId': 1350, 'userId': 1, 'timestamp': 1094786158, 'rating': 3.5},\n",
       " {'movieId': 1358, 'userId': 1, 'timestamp': 1112485419, 'rating': 4.0},\n",
       " {'movieId': 1920, 'userId': 1, 'timestamp': 1112486098, 'rating': 3.5}]"
      ]
     },
     "execution_count": 55,
     "metadata": {},
     "output_type": "execute_result"
    }
   ],
   "source": [
    "validation_set.take(10)"
   ]
  },
  {
   "cell_type": "markdown",
   "metadata": {},
   "source": [
    "The prediction seems pretty good, we tends to rate movies too well. But as we take only 10 results it is absolutely not statistically significant (it was just to have an idea of what the predicted ratings look like)."
   ]
  },
  {
   "cell_type": "markdown",
   "metadata": {},
   "source": [
    "## Ex 3.7)"
   ]
  },
  {
   "cell_type": "markdown",
   "metadata": {},
   "source": [
    "Let's implement our error function. We decided to uses operations over a dataframe because it was easier to group features correctly rather than to work with the usual RDD's operations."
   ]
  },
  {
   "cell_type": "code",
   "execution_count": 56,
   "metadata": {},
   "outputs": [],
   "source": [
    "\"\"\"\n",
    "This function takes as argument the RDD with the expected ratings and compute the average of each user’s root\n",
    "meansquare error over the validation set.\n",
    "To do so we first reformat the RDDs, merge them and reduce by key to compute the squared difference for each \n",
    "(user, movie) pair. Then we create a dataframe based on these differences and performs grouping and mathematical\n",
    "opperations to compute our error, according to the given formula.\n",
    "\"\"\"\n",
    "def error(RDD):\n",
    "    new_val = validation_set.map(lambda x : ((x[\"userId\"],x[\"movieId\"]),x[\"rating\"]))\n",
    "    new_RDD = RDD.map(lambda x : ((x[0],x[1]),x[2]))\n",
    "    squared_diff = new_RDD.union(new_val).reduceByKey(lambda a,b : float(np.square(np.asarray([a - b]))[0]))\n",
    "    reformat_squared_diff = squared_diff.map(lambda t : (t[0][0],t[0][1],t[1]))\n",
    "    df = spark.createDataFrame(data=reformat_squared_diff, schema=[\"user\",\"movie\",\"squared_diff_rating\"])\n",
    "    df_user = df.groupBy(\"user\").avg(\"squared_diff_rating\")\n",
    "    df_user_sqrt =  df_user.withColumn(\"avg(squared_diff_rating)\", sqrt(\"avg(squared_diff_rating)\"))\n",
    "    error_df = df_user_sqrt.agg({\"avg(squared_diff_rating)\" : \"avg\"})\n",
    "    return error_df.collect()[0][0]"
   ]
  },
  {
   "cell_type": "code",
   "execution_count": 57,
   "metadata": {},
   "outputs": [],
   "source": [
    "error_basic_estimator = error(estimated_rating.map(lambda x : (x[\"userId\"],x[\"movieId\"],x[\"rating\"])))"
   ]
  },
  {
   "cell_type": "code",
   "execution_count": 58,
   "metadata": {},
   "outputs": [
    {
     "name": "stdout",
     "output_type": "stream",
     "text": [
      "The error using the basic model in section 3.6 gives an error of : 0.8670167130689688\n"
     ]
    }
   ],
   "source": [
    "print(f\"The error using the basic model in section 3.6 gives an error of : {error_basic_estimator}\")"
   ]
  },
  {
   "cell_type": "markdown",
   "metadata": {},
   "source": [
    "# 3.2.2"
   ]
  },
  {
   "cell_type": "markdown",
   "metadata": {},
   "source": [
    "Before jumping into the exercices we decided to check the number of genre of movies. The ALS model tries to capture some shared features between similar items (here movies) and the number of seach features is the rank of the matrices that it tries to optimize. The rank is an hyperparameter of the model and can be optimized using cross-validation. Here we are asked to choose one between 5 and 25, we decided that the number of genre could be a good guess to the rank value of the model:"
   ]
  },
  {
   "cell_type": "markdown",
   "metadata": {},
   "source": [
    "### Number of genre of movies"
   ]
  },
  {
   "cell_type": "code",
   "execution_count": 60,
   "metadata": {},
   "outputs": [
    {
     "name": "stdout",
     "output_type": "stream",
     "text": [
      "There is 20 different types of movies according to their genre, and they are : [('Drama', 13344), ('Romance', 4127), ('Western', 676), ('Action', 3520), ('Sci-Fi', 1743), ('Children', 1139), ('Documentary', 2471), ('Thriller', 4178), ('Fantasy', 1412), ('Musical', 1036), ('Horror', 2611), ('IMAX', 196), ('Adventure', 2329), ('Animation', 1027), ('Comedy', 8374), ('Crime', 2939), ('Mystery', 1514), ('War', 1194), ('Film-Noir', 330), ('(no genres listed)', 246)]\n"
     ]
    }
   ],
   "source": [
    "def compute_genre_list(movie_RDD):\n",
    "    formatted_rdd = movie_RDD.flatMap(lambda a : a[\"genres\"])\n",
    "    genre_count = formatted_rdd.map(lambda a : (a,1)).reduceByKey(lambda a,b : a+b).collect()\n",
    "    return genre_count\n",
    "\n",
    "movies_genre_count = compute_genre_list(movies_metadata)\n",
    "\n",
    "print(f\"There is {len(movies_genre_count)} different types of movies according to their genre, and they are : {movies_genre_count}\")"
   ]
  },
  {
   "cell_type": "markdown",
   "metadata": {},
   "source": [
    "## 3.8)\n",
    "\n",
    "We decided on a rank of 19. because we will try to capture these different genres of movies (or maybe other more important factor but 19 is a good basis).  We put 19 because the last genre is not a real one. Like this we capture several factors, thus we have a better precision in our recommendations, but we still have not too much of them so that the computation is pretty fast."
   ]
  },
  {
   "cell_type": "code",
   "execution_count": 61,
   "metadata": {},
   "outputs": [],
   "source": [
    "rank = len(movies_genre_count)-1"
   ]
  },
  {
   "cell_type": "code",
   "execution_count": 62,
   "metadata": {},
   "outputs": [],
   "source": [
    "\"\"\"\n",
    "Basic loop which trains an ALS model with the given rank and lambda_ and over the training set \n",
    "and then compute the average mean square error over user with respect to the given validation set\n",
    "\"\"\"\n",
    "def model_loop(training_data, validation_data, rank, lambda_=0.01):\n",
    "    recommender = ml.ALS()\n",
    "    trained_model = recommender.train(training_data.map(lambda d : (d[\"userId\"], d[\"movieId\"], d[\"rating\"])), rank, lambda_=lambda_)\n",
    "    predictions = trained_model.predictAll(validation_data.map(lambda d : (d[\"userId\"], d[\"movieId\"])))\n",
    "    formated_pred = predictions.map(lambda r : (r[0],r[1],r[2]))\n",
    "    error_pred = error(formated_pred)\n",
    "    return error_pred"
   ]
  },
  {
   "cell_type": "code",
   "execution_count": 63,
   "metadata": {},
   "outputs": [],
   "source": [
    "error_als = model_loop(training_set, validation_set, rank, lambda_=0.0001)"
   ]
  },
  {
   "cell_type": "code",
   "execution_count": 64,
   "metadata": {},
   "outputs": [
    {
     "name": "stdout",
     "output_type": "stream",
     "text": [
      "Error on validation set using ALS model with lambda = 0.0001 and rank = 19 : 1.0851037079807313\n"
     ]
    }
   ],
   "source": [
    "print(f\"Error on validation set using ALS model with lambda = 0.0001 and rank = {rank} : {error_als}\")"
   ]
  },
  {
   "cell_type": "markdown",
   "metadata": {},
   "source": [
    "We have a less accurate model than the one created in ex **3.6**. The reason is that our lambda_ is too low, so the model overfits on the training data and then it doesn't generalize well on the validation data."
   ]
  },
  {
   "cell_type": "code",
   "execution_count": 65,
   "metadata": {},
   "outputs": [],
   "source": [
    "error_als_2 = model_loop(training_set, validation_set, rank, lambda_=10.0)"
   ]
  },
  {
   "cell_type": "code",
   "execution_count": 66,
   "metadata": {},
   "outputs": [
    {
     "name": "stdout",
     "output_type": "stream",
     "text": [
      "Error on validation set using ALS model with lambda = 10 and rank = 19 : 3.7457235097876724\n"
     ]
    }
   ],
   "source": [
    "print(f\"Error on validation set using ALS model with lambda = 10 and rank = {rank} : {error_als_2}\")"
   ]
  },
  {
   "cell_type": "markdown",
   "metadata": {},
   "source": [
    "Here the problem is that the regularization factor is too height so we generalize too much (inverse of overfitting). We don't let the model become too specific, but by staying too general we can't have precise predictions."
   ]
  },
  {
   "cell_type": "markdown",
   "metadata": {},
   "source": [
    "Lambda weights the sum of the \"norm\" of the matrices P and Q which represents how users like a certain feature and how items are related to certain features respectively. Thus the heigher the lambda is, the higher we penalize big value for elements if P and Q. It avoids overfitting.\n",
    "\n",
    "The problem is that I have no idea how to optimize with respect to lambda???"
   ]
  },
  {
   "cell_type": "code",
   "execution_count": 93,
   "metadata": {},
   "outputs": [],
   "source": [
    "#---->\n",
    "optimal_lambda = 0.055# replace with the correct value\n",
    "optimal_lambda = find_hyperparameter(np.linspace(0.06,0.08,num=20))"
   ]
  },
  {
   "cell_type": "markdown",
   "metadata": {},
   "source": [
    "# Ex 3.9)"
   ]
  },
  {
   "cell_type": "markdown",
   "metadata": {},
   "source": [
    "The dictionnary creation has been made in ex **3.4**. Now we will train the ALS model with the optimal lambda_ we found previously and use the built in function recommendProducts to recommend movies to user 123 and to Jérémy Baffou (user 138494)"
   ]
  },
  {
   "cell_type": "code",
   "execution_count": 87,
   "metadata": {},
   "outputs": [],
   "source": [
    "model = ml.ALS()\n",
    "model = model.train(training_set.map(lambda d : (d[\"userId\"], d[\"movieId\"], d[\"rating\"])), rank, lambda_=optimal_lambda)"
   ]
  },
  {
   "cell_type": "code",
   "execution_count": 88,
   "metadata": {},
   "outputs": [
    {
     "name": "stdout",
     "output_type": "stream",
     "text": [
      "The user 123 should probably like the following movies :\n",
      "['Scorpio Rising (1964)', 'Carmina and Amen (Carmina y amén) (2014)', 'Cremaster 5 (1997)', 'Trinity: Gambling for High Stakes (Odds and Evens) (Pari e dispari) (1978)', 'Hamoun (1990)', 'Jim Jefferies: Alcoholocaust (2010)', 'Q (2011)', 'Leap Year (Año bisiesto) (2010)', 'House of Sand (Casa de Areia) (2005)', 'Klip (Clip) (2012)']\n"
     ]
    }
   ],
   "source": [
    "user123_rec_movies = model.recommendProducts(123,10)\n",
    "\n",
    "print(\"The user 123 should probably like the following movies :\")\n",
    "print(f\"{list(map(lambda r : movie_title_map[r[1]],user123_rec_movies))}\")"
   ]
  },
  {
   "cell_type": "markdown",
   "metadata": {},
   "source": [
    "The user seems to like asian movies and what we called anime (i.e. japanese animation movies). The drama genre also comes regularly."
   ]
  },
  {
   "cell_type": "code",
   "execution_count": 89,
   "metadata": {},
   "outputs": [
    {
     "name": "stdout",
     "output_type": "stream",
     "text": [
      "According to the model I should probably like the following movies :\n",
      "[\"Craig Ferguson: A Wee Bit o' Revolution (2009)\", 'Patton Oswalt: Tragedy Plus Comedy Equals Time (2014)', 'Tom Segura: Completely Normal (2014)', 'Class of 92, The (2013)', 'Patton Oswalt: My Weakness Is Strong (2009)', 'Kevin Smith: Too Fat For 40 (2010)', 'Chameleon (Kaméleon) (2008)', 'Cat Came Back, The (1988)', 'Kevin Smith: Sold Out - A Threevening with Kevin Smith (2008)', 'Mimino (1977)']\n"
     ]
    }
   ],
   "source": [
    "myself_rec_movies = model.recommendProducts(138494,10)\n",
    "\n",
    "print(\"According to the model I should probably like the following movies :\")\n",
    "print(f\"{list(map(lambda r : movie_title_map[r[1]],myself_rec_movies))}\")"
   ]
  },
  {
   "cell_type": "markdown",
   "metadata": {},
   "source": [
    "I saw some of the movies and they were indeed great, I will watch some of them to check if our model is truely accurate :)"
   ]
  },
  {
   "cell_type": "markdown",
   "metadata": {},
   "source": [
    "# 3.10"
   ]
  },
  {
   "cell_type": "markdown",
   "metadata": {},
   "source": [
    "Let's first train our 2D rank model:"
   ]
  },
  {
   "cell_type": "code",
   "execution_count": 98,
   "metadata": {},
   "outputs": [],
   "source": [
    "model_2d = ml.ALS()\n",
    "model_2d = model_2d.train(training_set.map(lambda d : (d[\"userId\"], d[\"movieId\"], d[\"rating\"])), 2, lambda_=optimal_lambda)"
   ]
  },
  {
   "cell_type": "markdown",
   "metadata": {},
   "source": [
    "Then we open the pickle because we are only interested in the movies that it contains for the visualization"
   ]
  },
  {
   "cell_type": "code",
   "execution_count": 95,
   "metadata": {},
   "outputs": [],
   "source": [
    "with open(\"selected-movies.pickle\", \"rb\") as f:\n",
    "    movies_pickle = pickle.load(f, encoding=\"utf-8\")\n",
    "movies_pickle_set = set(map(lambda t : t[0],movies_pickle))"
   ]
  },
  {
   "cell_type": "markdown",
   "metadata": {},
   "source": [
    "Now we can take the features of the model for these movies"
   ]
  },
  {
   "cell_type": "code",
   "execution_count": 99,
   "metadata": {},
   "outputs": [],
   "source": [
    "features = model_2d.productFeatures().filter(lambda t : t[0] in movies_pickle_set).map(lambda t : (t[1][0], t[1][1], movie_title_map[t[0]])).collect()"
   ]
  },
  {
   "cell_type": "markdown",
   "metadata": {},
   "source": [
    "Finally we can plot our data!"
   ]
  },
  {
   "cell_type": "code",
   "execution_count": 103,
   "metadata": {},
   "outputs": [
    {
     "data": {
      "text/html": [
       "\n",
       "\n",
       "\n",
       "\n",
       "\n",
       "\n",
       "  <div class=\"bk-root\" id=\"0e293a43-f5c6-484d-86e9-732110312c74\" data-root-id=\"1403\"></div>\n"
      ]
     },
     "metadata": {},
     "output_type": "display_data"
    },
    {
     "data": {
      "application/javascript": [
       "(function(root) {\n",
       "  function embed_document(root) {\n",
       "    \n",
       "  var docs_json = {\"cb39e633-8fea-4574-a1c6-a8612db6d3c0\":{\"roots\":{\"references\":[{\"attributes\":{\"below\":[{\"id\":\"1414\",\"type\":\"LinearAxis\"}],\"center\":[{\"id\":\"1418\",\"type\":\"Grid\"},{\"id\":\"1423\",\"type\":\"Grid\"}],\"left\":[{\"id\":\"1419\",\"type\":\"LinearAxis\"}],\"plot_height\":360,\"plot_width\":960,\"renderers\":[{\"id\":\"1433\",\"type\":\"GlyphRenderer\"}],\"title\":{\"id\":\"1404\",\"type\":\"Title\"},\"toolbar\":{\"id\":\"1424\",\"type\":\"Toolbar\"},\"x_range\":{\"id\":\"1406\",\"type\":\"DataRange1d\"},\"x_scale\":{\"id\":\"1410\",\"type\":\"LinearScale\"},\"y_range\":{\"id\":\"1408\",\"type\":\"DataRange1d\"},\"y_scale\":{\"id\":\"1412\",\"type\":\"LinearScale\"}},\"id\":\"1403\",\"subtype\":\"Figure\",\"type\":\"Plot\"},{\"attributes\":{\"fill_alpha\":{\"value\":0.5},\"fill_color\":{\"field\":\"color\"},\"line_alpha\":{\"value\":0.5},\"line_color\":{\"field\":\"color\"},\"size\":{\"units\":\"screen\",\"value\":20},\"x\":{\"field\":\"x\"},\"y\":{\"field\":\"y\"}},\"id\":\"1431\",\"type\":\"Circle\"},{\"attributes\":{},\"id\":\"1464\",\"type\":\"BasicTickFormatter\"},{\"attributes\":{\"callback\":null,\"tooltips\":[[\"Name\",\"@name\"]]},\"id\":\"1398\",\"type\":\"HoverTool\"},{\"attributes\":{},\"id\":\"1468\",\"type\":\"UnionRenderers\"},{\"attributes\":{},\"id\":\"1410\",\"type\":\"LinearScale\"},{\"attributes\":{\"dimension\":1,\"ticker\":{\"id\":\"1420\",\"type\":\"BasicTicker\"}},\"id\":\"1423\",\"type\":\"Grid\"},{\"attributes\":{},\"id\":\"1402\",\"type\":\"SaveTool\"},{\"attributes\":{},\"id\":\"1401\",\"type\":\"WheelZoomTool\"},{\"attributes\":{\"active_drag\":\"auto\",\"active_inspect\":\"auto\",\"active_multi\":null,\"active_scroll\":\"auto\",\"active_tap\":\"auto\",\"tools\":[{\"id\":\"1398\",\"type\":\"HoverTool\"},{\"id\":\"1399\",\"type\":\"ResetTool\"},{\"id\":\"1400\",\"type\":\"PanTool\"},{\"id\":\"1401\",\"type\":\"WheelZoomTool\"},{\"id\":\"1402\",\"type\":\"SaveTool\"}]},\"id\":\"1424\",\"type\":\"Toolbar\"},{\"attributes\":{},\"id\":\"1399\",\"type\":\"ResetTool\"},{\"attributes\":{},\"id\":\"1466\",\"type\":\"BasicTickFormatter\"},{\"attributes\":{\"text\":\"2d representation of the movies in the pickle\"},\"id\":\"1404\",\"type\":\"Title\"},{\"attributes\":{},\"id\":\"1469\",\"type\":\"Selection\"},{\"attributes\":{\"callback\":null},\"id\":\"1406\",\"type\":\"DataRange1d\"},{\"attributes\":{\"callback\":null},\"id\":\"1408\",\"type\":\"DataRange1d\"},{\"attributes\":{\"data_source\":{\"id\":\"1397\",\"type\":\"ColumnDataSource\"},\"glyph\":{\"id\":\"1431\",\"type\":\"Circle\"},\"hover_glyph\":null,\"muted_glyph\":null,\"nonselection_glyph\":{\"id\":\"1432\",\"type\":\"Circle\"},\"selection_glyph\":null,\"view\":{\"id\":\"1434\",\"type\":\"CDSView\"}},\"id\":\"1433\",\"type\":\"GlyphRenderer\"},{\"attributes\":{\"source\":{\"id\":\"1397\",\"type\":\"ColumnDataSource\"}},\"id\":\"1434\",\"type\":\"CDSView\"},{\"attributes\":{},\"id\":\"1412\",\"type\":\"LinearScale\"},{\"attributes\":{\"ticker\":{\"id\":\"1415\",\"type\":\"BasicTicker\"}},\"id\":\"1418\",\"type\":\"Grid\"},{\"attributes\":{},\"id\":\"1400\",\"type\":\"PanTool\"},{\"attributes\":{},\"id\":\"1420\",\"type\":\"BasicTicker\"},{\"attributes\":{},\"id\":\"1415\",\"type\":\"BasicTicker\"},{\"attributes\":{\"formatter\":{\"id\":\"1466\",\"type\":\"BasicTickFormatter\"},\"ticker\":{\"id\":\"1420\",\"type\":\"BasicTicker\"}},\"id\":\"1419\",\"type\":\"LinearAxis\"},{\"attributes\":{\"callback\":null,\"data\":{\"color\":[\"#440154\",\"#460b5e\",\"#481668\",\"#481f70\",\"#482878\",\"#46307e\",\"#443983\",\"#424186\",\"#3e4989\",\"#3b528b\",\"#375a8c\",\"#34618d\",\"#31688e\",\"#2e6f8e\",\"#2b758e\",\"#287c8e\",\"#26828e\",\"#23898e\",\"#21918c\",\"#1f978b\",\"#1f9e89\",\"#20a486\",\"#25ab82\",\"#2cb17e\",\"#35b779\",\"#40bd72\",\"#4ec36b\",\"#5ec962\",\"#6ece58\",\"#7fd34e\",\"#90d743\",\"#a2da37\",\"#b5de2b\",\"#c8e020\",\"#dae319\",\"#ece51b\",\"#fde725\"],\"name\":[\"Life Is Beautiful (La Vita \\u00e8 bella) (1997)\",\"New York Ripper, The (Squartatore di New York, Lo) (1982)\",\"Spider-Man (2002)\",\"King's Speech, The (2010)\",\"American Beauty (1999)\",\"Take Care of My Cat (Goyangileul butaghae) (2001)\",\"Jurassic Park (1993)\",\"Control (2007)\",\"American History X (1998)\",\"Star Wars: Episode IV - A New Hope (1977)\",\"Terminator, The (1984)\",\"Ghost Writer, The (2010)\",\"Shawshank Redemption, The (1994)\",\"Santa Sangre (1989)\",\"Stage Fright (Deliria) (1987)\",\"Ichi the Killer (Koroshiya 1) (2001)\",\"Edge of Tomorrow (2014)\",\"Miss Congeniality 2: Armed and Fabulous (2005)\",\"Pride (2014)\",\"Accused, The (1988)\",\"Superbad (2007)\",\"American Pie (1999)\",\"Fight Club (1999)\",\"Billy Elliot (2000)\",\"Forrest Gump (1994)\",\"Time to Kill, A (1996)\",\"Battleship (2012)\",\"Schindler's List (1993)\",\"Brazil (1985)\",\"Matrix, The (1999)\",\"Wild Strawberries (Smultronst\\u00e4llet) (1957)\",\"Fountain, The (2006)\",\"Independence Day (a.k.a. ID4) (1996)\",\"Princess Diaries, The (2001)\",\"City of God (Cidade de Deus) (2002)\",\"Videodrome (1983)\",\"Just My Luck (2006)\"],\"x\":[-1.8704118728637695,-1.407219409942627,-1.655776858329773,-1.8033030033111572,-1.7598971128463745,-1.3999943733215332,-1.6829959154129028,-1.6232126951217651,-1.8411999940872192,-1.874070167541504,-1.7546766996383667,-1.629669189453125,-1.9737036228179932,-1.4115921258926392,-1.4457201957702637,-1.50862455368042,-1.7636910676956177,-1.168279767036438,-1.7025883197784424,-1.6940569877624512,-1.6902308464050293,-1.5806620121002197,-1.8466429710388184,-1.6925570964813232,-1.83228600025177,-1.6974073648452759,-1.298410415649414,-1.895760416984558,-1.596455693244934,-1.882918357849121,-1.5690981149673462,-1.5734620094299316,-1.5961240530014038,-1.4593771696090698,-1.8019953966140747,-1.5061964988708496,-1.2081104516983032],\"y\":[0.42719629406929016,0.307695209980011,-0.04369393736124039,0.4039366841316223,0.8710581660270691,1.370708703994751,-0.1240406259894371,0.9077298045158386,0.5015705227851868,0.33444327116012573,0.2969542145729065,0.5733067393302917,0.41542717814445496,1.2436656951904297,0.5004870295524597,0.7589582800865173,0.029810717329382896,-0.8343622088432312,0.9690024852752686,0.4297604560852051,0.4081918001174927,-0.22242183983325958,0.6463937163352966,0.5585550665855408,0.027491720393300056,-0.19764557480812073,-0.8560450673103333,0.5546783804893494,1.164225459098816,0.27625975012779236,1.3163206577301025,0.725081205368042,-0.5939270257949829,-0.5777879357337952,0.8758814334869385,1.0090715885162354,-0.7921621799468994]},\"selected\":{\"id\":\"1469\",\"type\":\"Selection\"},\"selection_policy\":{\"id\":\"1468\",\"type\":\"UnionRenderers\"}},\"id\":\"1397\",\"type\":\"ColumnDataSource\"},{\"attributes\":{\"fill_alpha\":{\"value\":0.1},\"fill_color\":{\"value\":\"#1f77b4\"},\"line_alpha\":{\"value\":0.1},\"line_color\":{\"value\":\"#1f77b4\"},\"size\":{\"units\":\"screen\",\"value\":20},\"x\":{\"field\":\"x\"},\"y\":{\"field\":\"y\"}},\"id\":\"1432\",\"type\":\"Circle\"},{\"attributes\":{\"formatter\":{\"id\":\"1464\",\"type\":\"BasicTickFormatter\"},\"ticker\":{\"id\":\"1415\",\"type\":\"BasicTicker\"}},\"id\":\"1414\",\"type\":\"LinearAxis\"}],\"root_ids\":[\"1403\"]},\"title\":\"Bokeh Application\",\"version\":\"1.4.0\"}};\n",
       "  var render_items = [{\"docid\":\"cb39e633-8fea-4574-a1c6-a8612db6d3c0\",\"notebook_comms_target\":\"1470\",\"roots\":{\"1403\":\"0e293a43-f5c6-484d-86e9-732110312c74\"}}];\n",
       "  root.Bokeh.embed.embed_items_notebook(docs_json, render_items);\n",
       "\n",
       "  }\n",
       "  if (root.Bokeh !== undefined) {\n",
       "    embed_document(root);\n",
       "  } else {\n",
       "    var attempts = 0;\n",
       "    var timer = setInterval(function(root) {\n",
       "      if (root.Bokeh !== undefined) {\n",
       "        clearInterval(timer);\n",
       "        embed_document(root);\n",
       "      } else {\n",
       "        attempts++;\n",
       "        if (attempts > 100) {\n",
       "          clearInterval(timer);\n",
       "          console.log(\"Bokeh: ERROR: Unable to run BokehJS code because BokehJS library is missing\");\n",
       "        }\n",
       "      }\n",
       "    }, 10, root)\n",
       "  }\n",
       "})(window);"
      ],
      "application/vnd.bokehjs_exec.v0+json": ""
     },
     "metadata": {
      "application/vnd.bokehjs_exec.v0+json": {
       "id": "1403"
      }
     },
     "output_type": "display_data"
    },
    {
     "data": {
      "text/html": [
       "<p><code>&lt;Bokeh Notebook handle for <strong>In[103]</strong>&gt;</code></p>"
      ],
      "text/plain": [
       "<bokeh.io.notebook.CommsHandle at 0x7f6ca7a3f450>"
      ]
     },
     "execution_count": 103,
     "metadata": {},
     "output_type": "execute_result"
    }
   ],
   "source": [
    "# Continuous colors\n",
    "from matplotlib.colors import rgb2hex \n",
    "cmap = plt.get_cmap('viridis')\n",
    "def val2rgb(val):\n",
    "    return rgb2hex(cmap(val)[:3])\n",
    "\n",
    "source = ColumnDataSource(\n",
    "    data={\n",
    "        \"x\": [x[0] for x in features],\n",
    "        \"y\": [x[1] for x in features],\n",
    "        \"name\": [x[2] for x in features],\n",
    "        \"color\": [val2rgb(x) for x in np.linspace(0,1,num=len(features))],\n",
    "    })\n",
    "\n",
    "hover = HoverTool(\n",
    "    tooltips=[\n",
    "        (\"Name\", \"@name\"),\n",
    "    ])\n",
    "tools = [hover, ResetTool(), PanTool(), WheelZoomTool(), SaveTool()]\n",
    "\n",
    "p = figure(plot_width=960, plot_height=360, tools=tools, title=\"2d representation of the movies in the pickle\")\n",
    "p.circle(\"x\", \"y\", source=source, size=20, color=\"color\", alpha=0.5)\n",
    "show(p, notebook_handle=True)"
   ]
  },
  {
   "cell_type": "markdown",
   "metadata": {},
   "source": [
    "## Hyper parameter optimization"
   ]
  },
  {
   "cell_type": "markdown",
   "metadata": {},
   "source": [
    "Here we implementend a really basic algorithm to find the best lambda_. We could have used specific libraries (such as scikit learn, scipy or even the pyspark ml tuning library) but the problem is if we wanted to conserve our implementation of the error and the data splitting we used, it was not convenient to use them (and sometimes impossible due to compatibility problems). "
   ]
  },
  {
   "cell_type": "code",
   "execution_count": 30,
   "metadata": {},
   "outputs": [],
   "source": [
    "grid = np.linspace(0.06,0.08,num=20)"
   ]
  },
  {
   "cell_type": "code",
   "execution_count": 79,
   "metadata": {},
   "outputs": [],
   "source": [
    "def find_hyperparameter(grid):\n",
    "    results = dict(list(map(lambda l : (l,-1), grid)))\n",
    "    for lambda_parameter in grid:\n",
    "        results[lambda_parameter] = model_loop(training_set,validation_set, rank, lambda_=lambda_parameter)\n",
    "    return results\n",
    "\n",
    "def binary_search_hyperparameter(start,init_step_size,alpha,max_iter):\n",
    "    best_lambda = 0.0\n",
    "    temp_lambda = start\n",
    "    previous_error = np.inf\n",
    "    direction_indicator = 1\n",
    "    step_size = init_step_size\n",
    "    for i in range(max_iter):\n",
    "        new_error = model_loop(training_set,validation_set, rank, lambda_=temp_lambda)\n",
    "        if previous_error > new_error:\n",
    "            previous_error = new_error\n",
    "            best_lambda = temp_lambda\n",
    "        else:\n",
    "            direction_indicator = -direction_indicator\n",
    "        step_size = step_size*alpha\n",
    "        temp_lambda = temp_lambda + direction_indicator * step_size\n",
    "    return best_lambda"
   ]
  },
  {
   "cell_type": "code",
   "execution_count": 31,
   "metadata": {},
   "outputs": [],
   "source": [
    "lambda_search = find_hyperparameter(grid)"
   ]
  },
  {
   "cell_type": "code",
   "execution_count": 32,
   "metadata": {},
   "outputs": [
    {
     "data": {
      "text/plain": [
       "{0.06: 0.8137485888535594,\n",
       " 0.061052631578947365: 0.8075418531202803,\n",
       " 0.06210526315789473: 0.8000921007240045,\n",
       " 0.06315789473684211: 0.8230385943423217,\n",
       " 0.06421052631578947: 0.8111648966214823,\n",
       " 0.06526315789473684: 0.8200058733707563,\n",
       " 0.06631578947368422: 0.8098857058554201,\n",
       " 0.06736842105263158: 0.8055657482679777,\n",
       " 0.06842105263157895: 0.8071507296158312,\n",
       " 0.06947368421052631: 0.8186663082105397,\n",
       " 0.07052631578947369: 0.8116685017136996,\n",
       " 0.07157894736842105: 0.816317290468767,\n",
       " 0.07263157894736842: 0.815080851929041,\n",
       " 0.0736842105263158: 0.81327359934284,\n",
       " 0.07473684210526316: 0.8184009059602554,\n",
       " 0.07578947368421053: 0.8191551741924309,\n",
       " 0.07684210526315789: 0.8112788674510727,\n",
       " 0.07789473684210527: 0.8042109810702114,\n",
       " 0.07894736842105263: 0.8050630448515979,\n",
       " 0.08: 0.8093184898281707}"
      ]
     },
     "execution_count": 32,
     "metadata": {},
     "output_type": "execute_result"
    }
   ],
   "source": [
    "lambda_search"
   ]
  },
  {
   "cell_type": "code",
   "execution_count": 66,
   "metadata": {},
   "outputs": [
    {
     "data": {
      "text/plain": [
       "{0.01: 0.8689030703413655,\n",
       " 0.020000000000000004: 0.8466450185854596,\n",
       " 0.030000000000000006: 0.8316957906397796,\n",
       " 0.04000000000000001: 0.8231167910359469,\n",
       " 0.05000000000000001: 0.8170088546470139,\n",
       " 0.06000000000000001: 0.8140104561402434,\n",
       " 0.07: 0.8055955617807303,\n",
       " 0.08: 0.8172017632285095,\n",
       " 0.09000000000000001: 0.8220404119817021,\n",
       " 0.1: 0.820769172642735}"
      ]
     },
     "execution_count": 66,
     "metadata": {},
     "output_type": "execute_result"
    }
   ],
   "source": [
    "lambda_search"
   ]
  }
 ],
 "metadata": {
  "anaconda-cloud": {},
  "kernelspec": {
   "display_name": "Python 3",
   "language": "python",
   "name": "python3"
  }
 },
 "nbformat": 4,
 "nbformat_minor": 2
}
