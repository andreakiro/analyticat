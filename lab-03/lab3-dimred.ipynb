{
 "cells": [
  {
   "cell_type": "markdown",
   "metadata": {},
   "source": [
    "# Lab 3 — dimensionality reduction\n",
    "**Internet Analytics - Lab 3**\n",
    "\n",
    "---\n",
    "\n",
    "**Group:** *H*\n",
    "\n",
    "**Names:**\n",
    "\n",
    "* *BAFFOU Jérémy*\n",
    "* *BASSETO Antoine*\n",
    "* *PINTO Andrea*\n",
    "\n",
    "---"
   ]
  },
  {
   "cell_type": "markdown",
   "metadata": {},
   "source": [
    "## Regular imports"
   ]
  },
  {
   "cell_type": "code",
<<<<<<< Updated upstream
   "execution_count": 1,
=======
   "execution_count": 83,
   "metadata": {
    "scrolled": true
   },
   "outputs": [
    {
     "ename": "AttributeError",
     "evalue": "'list' object has no attribute 'textFile'",
     "output_type": "error",
     "traceback": [
      "\u001b[0;31m---------------------------------------------------------------------------\u001b[0m",
      "\u001b[0;31mAttributeError\u001b[0m                            Traceback (most recent call last)",
      "\u001b[0;32m<ipython-input-83-66be08aa6fb1>\u001b[0m in \u001b[0;36m<module>\u001b[0;34m\u001b[0m\n\u001b[0;32m----> 1\u001b[0;31m \u001b[0mmovies\u001b[0m \u001b[0;34m=\u001b[0m \u001b[0msc\u001b[0m\u001b[0;34m.\u001b[0m\u001b[0mtextFile\u001b[0m\u001b[0;34m(\u001b[0m\u001b[0;34m\"/ix/ml-20m/movies.txt\"\u001b[0m\u001b[0;34m)\u001b[0m\u001b[0;34m.\u001b[0m\u001b[0mmap\u001b[0m\u001b[0;34m(\u001b[0m\u001b[0mjson\u001b[0m\u001b[0;34m.\u001b[0m\u001b[0mloads\u001b[0m\u001b[0;34m)\u001b[0m\u001b[0;34m\u001b[0m\u001b[0;34m\u001b[0m\u001b[0m\n\u001b[0m",
      "\u001b[0;31mAttributeError\u001b[0m: 'list' object has no attribute 'textFile'"
     ]
    }
   ],
   "source": [
    "movies = sc.textFile(\"/ix/ml-20m/movies.txt\").map(json.loads)"
   ]
  },
  {
   "cell_type": "code",
   "execution_count": 7,
   "metadata": {},
   "outputs": [],
   "source": [
    "tags = sc.textFile(\"/ix/ml-20m/genome-tags.txt\").map(json.loads)"
   ]
  },
  {
   "cell_type": "code",
   "execution_count": 8,
>>>>>>> Stashed changes
   "metadata": {},
   "outputs": [],
   "source": [
    "import json\n",
    "import pickle"
   ]
  },
  {
   "cell_type": "code",
   "execution_count": 2,
   "metadata": {},
   "outputs": [],
   "source": [
    "import numpy as np\n",
    "import matplotlib.pyplot as plt\n",
    "from operator import itemgetter\n",
    "\n",
    "%matplotlib inline\n",
    "plt.style.use(\"ggplot\")"
   ]
  },
  {
   "cell_type": "markdown",
   "metadata": {},
   "source": [
    "## Explore using Hadoop"
   ]
  },
  {
   "cell_type": "code",
   "execution_count": null,
   "metadata": {},
   "outputs": [],
   "source": [
    "!hdfs dfs -cat /ix/ml-20m/movies.txt | head -n 2"
   ]
  },
  {
   "cell_type": "code",
   "execution_count": null,
   "metadata": {},
   "outputs": [],
   "source": [
    "!hdfs dfs -cat /ix/ml-20m/genome-tags.txt | head -n 2"
   ]
  },
  {
   "cell_type": "code",
   "execution_count": null,
   "metadata": {},
   "outputs": [],
   "source": [
    "!hdfs dfs -cat /ix/ml-20m/genome-scores.txt | head -n 2"
   ]
  },
  {
   "cell_type": "code",
   "execution_count": null,
   "metadata": {},
   "outputs": [],
   "source": [
    "!hdfs dfs -cat /ix/ml-20m/ratings.txt | head -n 2"
   ]
  },
  {
   "cell_type": "markdown",
   "metadata": {},
   "source": [
    "## Create RDDs"
   ]
  },
  {
   "cell_type": "code",
   "execution_count": 3,
   "metadata": {},
   "outputs": [],
   "source": [
    "movies = sc.textFile(\"/ix/ml-20m/movies.txt\").map(json.loads)"
   ]
  },
  {
   "cell_type": "code",
   "execution_count": 4,
   "metadata": {},
   "outputs": [],
   "source": [
    "tags = sc.textFile(\"/ix/ml-20m/genome-tags.txt\").map(json.loads)"
   ]
  },
  {
   "cell_type": "code",
   "execution_count": 5,
   "metadata": {},
   "outputs": [],
   "source": [
    "scores = sc.textFile(\"/ix/ml-20m/genome-scores.txt\").map(json.loads)"
   ]
  },
  {
   "cell_type": "code",
   "execution_count": 6,
   "metadata": {},
   "outputs": [],
   "source": [
    "ratings = sc.textFile(\"/ix/ml-20m/ratings.txt\").map(json.loads)"
   ]
  },
  {
   "cell_type": "markdown",
   "metadata": {},
   "source": [
    "## Create data structures"
   ]
  },
  {
   "cell_type": "code",
   "execution_count": 7,
   "metadata": {},
   "outputs": [],
   "source": [
    "tag2name = dict(tags.map(itemgetter(\"tagId\", \"tag\")).collect())"
   ]
  },
  {
   "cell_type": "code",
   "execution_count": 8,
   "metadata": {},
   "outputs": [],
   "source": [
    "sc = scores.map(itemgetter(\"relevance\", \"tagId\", \"movieId\")).collect()"
   ]
  },
  {
   "cell_type": "code",
   "execution_count": 9,
   "metadata": {},
   "outputs": [],
   "source": [
    "rdd = scores.map(lambda x: x['movieId']).distinct()\n",
    "mvs = np.array(rdd.collect())\n",
    "mvs.sort()"
   ]
  },
  {
   "cell_type": "markdown",
   "metadata": {},
   "source": [
    "Note that `mvs` is the list of all unique movie IDs having at least one tag and `sc` simple list of tuples of scores."
   ]
  },
  {
   "cell_type": "markdown",
   "metadata": {},
   "source": [
    "# Dimensionality reduction"
   ]
  },
  {
   "cell_type": "markdown",
   "metadata": {},
   "source": [
    "## Create the data matrix $M_{mxn}$\n",
    "\n",
    "- $m$ is the number of distinct `tags` in our database\n",
    "- $n$ is the number of dictinct `movies` having at least one tag in our database\n",
    "- $M$ is the data matrix where $M_{i,j}$ indicate the `relevance` between tag $i$ and movie $j$"
   ]
  },
  {
   "cell_type": "code",
   "execution_count": 10,
   "metadata": {},
   "outputs": [],
   "source": [
    "def populate(M, sc):\n",
    "    cur = sc[0][2] # first movie ID\n",
    "    col = 0 # first col index\n",
    "    \n",
    "    for s in sc:\n",
    "        row = s[1] - 1 \n",
    "        col = col if s[2] == cur else col + 1\n",
    "        cur = cur if s[2] == cur else s[2]\n",
    "        M[row][col] = s[0]\n",
    "    \n",
    "    return M"
   ]
  },
  {
   "cell_type": "code",
   "execution_count": 11,
   "metadata": {},
   "outputs": [],
   "source": [
    "M_dim = len(tag2name.values())\n",
    "N_dim = len(mvs)"
   ]
  },
  {
   "cell_type": "code",
   "execution_count": 12,
   "metadata": {},
   "outputs": [],
   "source": [
    "M = np.zeros(shape=(M_dim, N_dim))"
   ]
  },
  {
   "cell_type": "code",
   "execution_count": 13,
   "metadata": {},
   "outputs": [],
   "source": [
    "M = populate(M, sc)"
   ]
  },
  {
   "cell_type": "markdown",
   "metadata": {},
   "source": [
    "## Compute statistics on $M$"
   ]
  },
  {
   "cell_type": "code",
   "execution_count": 14,
   "metadata": {},
   "outputs": [],
   "source": [
    "cov = np.cov(M)"
   ]
  },
  {
   "cell_type": "code",
   "execution_count": 15,
   "metadata": {},
   "outputs": [],
   "source": [
    "eig, eigv = np.linalg.eigh(cov)"
   ]
  },
  {
   "cell_type": "markdown",
   "metadata": {},
   "source": [
    "`cov` is the covariance matrix of $M$ <br>\n",
    "`eig` and `eigv` are respectively a list of eigen values of `cov` in sorted order and its corresponding eigen vectors"
   ]
  },
  {
   "cell_type": "markdown",
   "metadata": {},
   "source": [
    "## Plot variance across movies"
   ]
  },
  {
   "cell_type": "code",
   "execution_count": 16,
   "metadata": {},
   "outputs": [
    {
     "data": {
      "image/png": "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\n",
      "text/plain": [
       "<Figure size 432x288 with 1 Axes>"
      ]
     },
     "metadata": {},
     "output_type": "display_data"
    }
   ],
   "source": [
    "plt.plot(np.diag(cov))\n",
    "plt.title('Unsorted variances across movies')\n",
    "plt.ylabel('Variance')\n",
    "plt.show()"
   ]
  },
  {
   "cell_type": "code",
   "execution_count": 17,
   "metadata": {},
   "outputs": [
    {
     "data": {
      "image/png": "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\n",
      "text/plain": [
       "<Figure size 432x288 with 1 Axes>"
      ]
     },
     "metadata": {},
     "output_type": "display_data"
    }
   ],
   "source": [
    "plt.plot(np.sort(np.diag(cov)))\n",
    "plt.title('Sorted variances across movies')\n",
    "plt.ylabel('Variance')\n",
    "plt.show()"
   ]
  },
  {
   "cell_type": "markdown",
   "metadata": {},
   "source": [
    "## Plot eigenvalues of `cov` matrix of $M$"
   ]
  },
  {
   "cell_type": "code",
   "execution_count": 18,
   "metadata": {},
   "outputs": [
    {
     "data": {
      "image/png": "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\n",
      "text/plain": [
       "<Figure size 432x288 with 1 Axes>"
      ]
     },
     "metadata": {},
     "output_type": "display_data"
    }
   ],
   "source": [
    "plt.plot(eig)\n",
    "plt.title('Eigenvalues of the covariance matrix')\n",
    "plt.ylabel('Eigenvalue')\n",
    "plt.show()"
   ]
  },
  {
   "cell_type": "markdown",
   "metadata": {},
   "source": [
    "***Implications for dimensionality reduction.*** Note that there are a lot of very low eigenvalues meaning there are a lot of superfluous dimensions i.e. they capture almost no important information in our dataset. On the contrary, some of them are very high, meaning that they capture a lot of information and indicate only a few dimensions would be enough to represent the data."
   ]
  },
  {
   "cell_type": "code",
   "execution_count": 19,
   "metadata": {},
   "outputs": [],
   "source": [
    "threshold = 2 * np.sum(eig) / 3\n",
    "inveig = np.flip(eig)"
   ]
  },
  {
   "cell_type": "code",
   "execution_count": 20,
   "metadata": {},
   "outputs": [],
   "source": [
    "count, variance = 0, 0\n",
    "while variance < threshold:\n",
    "    variance += inveig[count]\n",
    "    count += 1"
   ]
  },
  {
   "cell_type": "code",
   "execution_count": 21,
   "metadata": {},
   "outputs": [
    {
     "name": "stdout",
     "output_type": "stream",
     "text": [
      "We only need the first 37 eigenvalues to capture 2/3 of the variability of our data.\n"
     ]
    }
   ],
   "source": [
    "print(f'We only need the first {count} eigenvalues to capture 2/3 of the variability of our data.')"
   ]
  },
  {
   "cell_type": "markdown",
   "metadata": {},
   "source": [
    "# Concept space of the data"
   ]
  },
  {
   "cell_type": "code",
   "execution_count": 22,
   "metadata": {},
   "outputs": [],
   "source": [
    "def get_tag_classification(dim, batch=10):\n",
    "    bests, worsts = [], []\n",
    "    indb = eigv[:, -dim].argsort()[-batch:][::-1]\n",
    "    indw = eigv[:, -dim].argsort()[:batch]\n",
    "    for i in range(batch):\n",
    "        bests.append(tag2name.get(indb[i] + 1))\n",
    "        worsts.append(tag2name.get(indw[i] + 1))\n",
    "    return bests, worsts"
   ]
  },
  {
   "cell_type": "code",
   "execution_count": 23,
   "metadata": {},
   "outputs": [],
   "source": [
    "def print_tags(dim):\n",
    "    bests, worsts = get_tag_classification(dim)\n",
    "    print(f'For eigenvalue : {eig[-dim]}')\n",
    "    \n",
    "    print('Best tags in order are \\t \\t \\t Worst tags in order are')\n",
    "    for i in range(len(bests)):\n",
    "        print(f'\\t {bests[i]:25} \\t \\t {worsts[i]:25}')"
   ]
  },
  {
   "cell_type": "markdown",
   "metadata": {},
   "source": [
    "### Concept of direction 1\n",
    "We can immagine that the first concept could be `GREAT` - `BAD`"
   ]
  },
  {
   "cell_type": "code",
   "execution_count": 24,
   "metadata": {},
   "outputs": [
    {
     "name": "stdout",
     "output_type": "stream",
     "text": [
      "For eigenvalue : 2.7533774797813493\n",
      "Best tags in order are \t \t \t Worst tags in order are\n",
      "\t talky                     \t \t predictable              \n",
      "\t social commentary         \t \t so bad it's funny        \n",
      "\t criterion                 \t \t bad plot                 \n",
      "\t imdb top 250              \t \t silly                    \n",
      "\t great acting              \t \t silly fun                \n",
      "\t drama                     \t \t horrible                 \n",
      "\t oscar (best directing)    \t \t franchise                \n",
      "\t bleak                     \t \t lame                     \n",
      "\t dramatic                  \t \t big budget               \n",
      "\t cinematography            \t \t comedy                   \n"
     ]
    }
   ],
   "source": [
    "print_tags(1)"
   ]
  },
  {
   "cell_type": "markdown",
   "metadata": {},
   "source": [
    "### Concept of direction 2\n",
    "We can immagine that the first concept could be `SENTIMENTAL` - `ACTION`"
   ]
  },
  {
   "cell_type": "code",
   "execution_count": 25,
   "metadata": {},
   "outputs": [
    {
     "name": "stdout",
     "output_type": "stream",
     "text": [
      "For eigenvalue : 1.2214710425886666\n",
      "Best tags in order are \t \t \t Worst tags in order are\n",
      "\t intimate                  \t \t action                   \n",
      "\t relationships             \t \t special effects          \n",
      "\t criterion                 \t \t big budget               \n",
      "\t melancholic               \t \t chase                    \n",
      "\t loneliness                \t \t fast paced               \n",
      "\t golden palm               \t \t suspense                 \n",
      "\t meditative                \t \t good action              \n",
      "\t art house                 \t \t plot                     \n",
      "\t melancholy                \t \t pg-13                    \n",
      "\t sexual                    \t \t action packed            \n"
     ]
    }
   ],
   "source": [
    "print_tags(2)"
   ]
  },
  {
   "cell_type": "markdown",
   "metadata": {},
   "source": [
    "### Concept of direction 3\n",
    "We can immagine that the first concept could be `ROMANCE` - `HORROR`"
   ]
  },
  {
   "cell_type": "code",
   "execution_count": 26,
   "metadata": {},
   "outputs": [
    {
     "name": "stdout",
     "output_type": "stream",
     "text": [
      "For eigenvalue : 0.9960515193084871\n",
      "Best tags in order are \t \t \t Worst tags in order are\n",
      "\t feel-good                 \t \t horror                   \n",
      "\t sentimental               \t \t weird                    \n",
      "\t love story                \t \t creepy                   \n",
      "\t heartwarming              \t \t splatter                 \n",
      "\t touching                  \t \t stylish                  \n",
      "\t romantic                  \t \t cult classic             \n",
      "\t sweet                     \t \t disturbing               \n",
      "\t courage                   \t \t violence                 \n",
      "\t girlie movie              \t \t cult film                \n",
      "\t feel good movie           \t \t dark                     \n"
     ]
    }
   ],
   "source": [
    "print_tags(3)"
   ]
  },
  {
   "cell_type": "markdown",
   "metadata": {},
   "source": [
    "### Concept of direction 4\n",
    "We can immagine that the first concept could be `SCI-FI` - `THRILLER`"
   ]
  },
  {
   "cell_type": "code",
   "execution_count": 27,
   "metadata": {},
   "outputs": [
    {
     "name": "stdout",
     "output_type": "stream",
     "text": [
      "For eigenvalue : 0.6621755002074047\n",
      "Best tags in order are \t \t \t Worst tags in order are\n",
      "\t visual                    \t \t corruption               \n",
      "\t visually stunning         \t \t crime                    \n",
      "\t imagination               \t \t murder                   \n",
      "\t sci-fi                    \t \t police investigation     \n",
      "\t scifi                     \t \t thriller                 \n",
      "\t visually appealing        \t \t suspense                 \n",
      "\t science fiction           \t \t violence                 \n",
      "\t sci fi                    \t \t police corruption        \n",
      "\t special effects           \t \t gangsters                \n",
      "\t beautifully filmed        \t \t manipulation             \n"
     ]
    }
   ],
   "source": [
    "print_tags(4)"
   ]
  },
  {
   "cell_type": "markdown",
   "metadata": {},
   "source": [
    "### Concept of direction 5\n",
    "We can immagine that the first concept could be `THRILLER` - `COMEDY`"
   ]
  },
  {
   "cell_type": "code",
   "execution_count": 28,
   "metadata": {},
   "outputs": [
    {
     "name": "stdout",
     "output_type": "stream",
     "text": [
      "For eigenvalue : 0.5857297851139421\n",
      "Best tags in order are \t \t \t Worst tags in order are\n",
      "\t thriller                  \t \t comedy                   \n",
      "\t conspiracy                \t \t funny                    \n",
      "\t secrets                   \t \t hilarious                \n",
      "\t suspenseful               \t \t goofy                    \n",
      "\t tense                     \t \t humorous                 \n",
      "\t mystery                   \t \t humor                    \n",
      "\t suspense                  \t \t very funny               \n",
      "\t investigation             \t \t cult classic             \n",
      "\t murder mystery            \t \t quotable                 \n",
      "\t betrayal                  \t \t funny as hell            \n"
     ]
    }
   ],
   "source": [
    "print_tags(5)"
   ]
  },
  {
   "cell_type": "markdown",
   "metadata": {},
   "source": [
    "## Define tags coordinates in 5 principal components"
   ]
  },
  {
   "cell_type": "code",
   "execution_count": 29,
   "metadata": {},
   "outputs": [],
   "source": [
    "tagscoords = {}"
   ]
  },
  {
   "cell_type": "code",
   "execution_count": 30,
   "metadata": {},
   "outputs": [],
   "source": [
    "for i in tag2name:\n",
    "    coords = []\n",
    "    for j in range(5):\n",
    "        coords.append(eigv[:, -j-1][i-1])\n",
    "    tagscoords[tag2name.get(i)] = coords"
   ]
  },
  {
   "cell_type": "code",
   "execution_count": 31,
   "metadata": {},
   "outputs": [],
   "source": [
    "a_file = open(\"tagscoord.json\", \"w\")\n",
    "json.dump(tagscoords, a_file)\n",
    "a_file.close()"
   ]
  },
  {
   "cell_type": "markdown",
   "metadata": {},
   "source": [
    "# Movie visualization"
   ]
  },
  {
   "cell_type": "code",
   "execution_count": 32,
   "metadata": {},
   "outputs": [
    {
     "data": {
      "text/html": [
       "\n",
       "    <div class=\"bk-root\">\n",
       "        <a href=\"https://bokeh.org\" target=\"_blank\" class=\"bk-logo bk-logo-small bk-logo-notebook\"></a>\n",
       "        <span id=\"1001\">Loading BokehJS ...</span>\n",
       "    </div>"
      ]
     },
     "metadata": {},
     "output_type": "display_data"
    },
    {
     "data": {
      "application/javascript": [
       "\n",
       "(function(root) {\n",
       "  function now() {\n",
       "    return new Date();\n",
       "  }\n",
       "\n",
       "  var force = true;\n",
       "\n",
       "  if (typeof root._bokeh_onload_callbacks === \"undefined\" || force === true) {\n",
       "    root._bokeh_onload_callbacks = [];\n",
       "    root._bokeh_is_loading = undefined;\n",
       "  }\n",
       "\n",
       "  var JS_MIME_TYPE = 'application/javascript';\n",
       "  var HTML_MIME_TYPE = 'text/html';\n",
       "  var EXEC_MIME_TYPE = 'application/vnd.bokehjs_exec.v0+json';\n",
       "  var CLASS_NAME = 'output_bokeh rendered_html';\n",
       "\n",
       "  /**\n",
       "   * Render data to the DOM node\n",
       "   */\n",
       "  function render(props, node) {\n",
       "    var script = document.createElement(\"script\");\n",
       "    node.appendChild(script);\n",
       "  }\n",
       "\n",
       "  /**\n",
       "   * Handle when an output is cleared or removed\n",
       "   */\n",
       "  function handleClearOutput(event, handle) {\n",
       "    var cell = handle.cell;\n",
       "\n",
       "    var id = cell.output_area._bokeh_element_id;\n",
       "    var server_id = cell.output_area._bokeh_server_id;\n",
       "    // Clean up Bokeh references\n",
       "    if (id != null && id in Bokeh.index) {\n",
       "      Bokeh.index[id].model.document.clear();\n",
       "      delete Bokeh.index[id];\n",
       "    }\n",
       "\n",
       "    if (server_id !== undefined) {\n",
       "      // Clean up Bokeh references\n",
       "      var cmd = \"from bokeh.io.state import curstate; print(curstate().uuid_to_server['\" + server_id + \"'].get_sessions()[0].document.roots[0]._id)\";\n",
       "      cell.notebook.kernel.execute(cmd, {\n",
       "        iopub: {\n",
       "          output: function(msg) {\n",
       "            var id = msg.content.text.trim();\n",
       "            if (id in Bokeh.index) {\n",
       "              Bokeh.index[id].model.document.clear();\n",
       "              delete Bokeh.index[id];\n",
       "            }\n",
       "          }\n",
       "        }\n",
       "      });\n",
       "      // Destroy server and session\n",
       "      var cmd = \"import bokeh.io.notebook as ion; ion.destroy_server('\" + server_id + \"')\";\n",
       "      cell.notebook.kernel.execute(cmd);\n",
       "    }\n",
       "  }\n",
       "\n",
       "  /**\n",
       "   * Handle when a new output is added\n",
       "   */\n",
       "  function handleAddOutput(event, handle) {\n",
       "    var output_area = handle.output_area;\n",
       "    var output = handle.output;\n",
       "\n",
       "    // limit handleAddOutput to display_data with EXEC_MIME_TYPE content only\n",
       "    if ((output.output_type != \"display_data\") || (!output.data.hasOwnProperty(EXEC_MIME_TYPE))) {\n",
       "      return\n",
       "    }\n",
       "\n",
       "    var toinsert = output_area.element.find(\".\" + CLASS_NAME.split(' ')[0]);\n",
       "\n",
       "    if (output.metadata[EXEC_MIME_TYPE][\"id\"] !== undefined) {\n",
       "      toinsert[toinsert.length - 1].firstChild.textContent = output.data[JS_MIME_TYPE];\n",
       "      // store reference to embed id on output_area\n",
       "      output_area._bokeh_element_id = output.metadata[EXEC_MIME_TYPE][\"id\"];\n",
       "    }\n",
       "    if (output.metadata[EXEC_MIME_TYPE][\"server_id\"] !== undefined) {\n",
       "      var bk_div = document.createElement(\"div\");\n",
       "      bk_div.innerHTML = output.data[HTML_MIME_TYPE];\n",
       "      var script_attrs = bk_div.children[0].attributes;\n",
       "      for (var i = 0; i < script_attrs.length; i++) {\n",
       "        toinsert[toinsert.length - 1].firstChild.setAttribute(script_attrs[i].name, script_attrs[i].value);\n",
       "      }\n",
       "      // store reference to server id on output_area\n",
       "      output_area._bokeh_server_id = output.metadata[EXEC_MIME_TYPE][\"server_id\"];\n",
       "    }\n",
       "  }\n",
       "\n",
       "  function register_renderer(events, OutputArea) {\n",
       "\n",
       "    function append_mime(data, metadata, element) {\n",
       "      // create a DOM node to render to\n",
       "      var toinsert = this.create_output_subarea(\n",
       "        metadata,\n",
       "        CLASS_NAME,\n",
       "        EXEC_MIME_TYPE\n",
       "      );\n",
       "      this.keyboard_manager.register_events(toinsert);\n",
       "      // Render to node\n",
       "      var props = {data: data, metadata: metadata[EXEC_MIME_TYPE]};\n",
       "      render(props, toinsert[toinsert.length - 1]);\n",
       "      element.append(toinsert);\n",
       "      return toinsert\n",
       "    }\n",
       "\n",
       "    /* Handle when an output is cleared or removed */\n",
       "    events.on('clear_output.CodeCell', handleClearOutput);\n",
       "    events.on('delete.Cell', handleClearOutput);\n",
       "\n",
       "    /* Handle when a new output is added */\n",
       "    events.on('output_added.OutputArea', handleAddOutput);\n",
       "\n",
       "    /**\n",
       "     * Register the mime type and append_mime function with output_area\n",
       "     */\n",
       "    OutputArea.prototype.register_mime_type(EXEC_MIME_TYPE, append_mime, {\n",
       "      /* Is output safe? */\n",
       "      safe: true,\n",
       "      /* Index of renderer in `output_area.display_order` */\n",
       "      index: 0\n",
       "    });\n",
       "  }\n",
       "\n",
       "  // register the mime type if in Jupyter Notebook environment and previously unregistered\n",
       "  if (root.Jupyter !== undefined) {\n",
       "    var events = require('base/js/events');\n",
       "    var OutputArea = require('notebook/js/outputarea').OutputArea;\n",
       "\n",
       "    if (OutputArea.prototype.mime_types().indexOf(EXEC_MIME_TYPE) == -1) {\n",
       "      register_renderer(events, OutputArea);\n",
       "    }\n",
       "  }\n",
       "\n",
       "  \n",
       "  if (typeof (root._bokeh_timeout) === \"undefined\" || force === true) {\n",
       "    root._bokeh_timeout = Date.now() + 5000;\n",
       "    root._bokeh_failed_load = false;\n",
       "  }\n",
       "\n",
       "  var NB_LOAD_WARNING = {'data': {'text/html':\n",
       "     \"<div style='background-color: #fdd'>\\n\"+\n",
       "     \"<p>\\n\"+\n",
       "     \"BokehJS does not appear to have successfully loaded. If loading BokehJS from CDN, this \\n\"+\n",
       "     \"may be due to a slow or bad network connection. Possible fixes:\\n\"+\n",
       "     \"</p>\\n\"+\n",
       "     \"<ul>\\n\"+\n",
       "     \"<li>re-rerun `output_notebook()` to attempt to load from CDN again, or</li>\\n\"+\n",
       "     \"<li>use INLINE resources instead, as so:</li>\\n\"+\n",
       "     \"</ul>\\n\"+\n",
       "     \"<code>\\n\"+\n",
       "     \"from bokeh.resources import INLINE\\n\"+\n",
       "     \"output_notebook(resources=INLINE)\\n\"+\n",
       "     \"</code>\\n\"+\n",
       "     \"</div>\"}};\n",
       "\n",
       "  function display_loaded() {\n",
       "    var el = document.getElementById(\"1001\");\n",
       "    if (el != null) {\n",
       "      el.textContent = \"BokehJS is loading...\";\n",
       "    }\n",
       "    if (root.Bokeh !== undefined) {\n",
       "      if (el != null) {\n",
       "        el.textContent = \"BokehJS \" + root.Bokeh.version + \" successfully loaded.\";\n",
       "      }\n",
       "    } else if (Date.now() < root._bokeh_timeout) {\n",
       "      setTimeout(display_loaded, 100)\n",
       "    }\n",
       "  }\n",
       "\n",
       "\n",
       "  function run_callbacks() {\n",
       "    try {\n",
       "      root._bokeh_onload_callbacks.forEach(function(callback) {\n",
       "        if (callback != null)\n",
       "          callback();\n",
       "      });\n",
       "    } finally {\n",
       "      delete root._bokeh_onload_callbacks\n",
       "    }\n",
       "    console.debug(\"Bokeh: all callbacks have finished\");\n",
       "  }\n",
       "\n",
       "  function load_libs(css_urls, js_urls, callback) {\n",
       "    if (css_urls == null) css_urls = [];\n",
       "    if (js_urls == null) js_urls = [];\n",
       "\n",
       "    root._bokeh_onload_callbacks.push(callback);\n",
       "    if (root._bokeh_is_loading > 0) {\n",
       "      console.debug(\"Bokeh: BokehJS is being loaded, scheduling callback at\", now());\n",
       "      return null;\n",
       "    }\n",
       "    if (js_urls == null || js_urls.length === 0) {\n",
       "      run_callbacks();\n",
       "      return null;\n",
       "    }\n",
       "    console.debug(\"Bokeh: BokehJS not loaded, scheduling load and callback at\", now());\n",
       "    root._bokeh_is_loading = css_urls.length + js_urls.length;\n",
       "\n",
       "    function on_load() {\n",
       "      root._bokeh_is_loading--;\n",
       "      if (root._bokeh_is_loading === 0) {\n",
       "        console.debug(\"Bokeh: all BokehJS libraries/stylesheets loaded\");\n",
       "        run_callbacks()\n",
       "      }\n",
       "    }\n",
       "\n",
       "    function on_error() {\n",
       "      console.error(\"failed to load \" + url);\n",
       "    }\n",
       "\n",
       "    for (var i = 0; i < css_urls.length; i++) {\n",
       "      var url = css_urls[i];\n",
       "      const element = document.createElement(\"link\");\n",
       "      element.onload = on_load;\n",
       "      element.onerror = on_error;\n",
       "      element.rel = \"stylesheet\";\n",
       "      element.type = \"text/css\";\n",
       "      element.href = url;\n",
       "      console.debug(\"Bokeh: injecting link tag for BokehJS stylesheet: \", url);\n",
       "      document.body.appendChild(element);\n",
       "    }\n",
       "\n",
       "    for (var i = 0; i < js_urls.length; i++) {\n",
       "      var url = js_urls[i];\n",
       "      var element = document.createElement('script');\n",
       "      element.onload = on_load;\n",
       "      element.onerror = on_error;\n",
       "      element.async = false;\n",
       "      element.src = url;\n",
       "      console.debug(\"Bokeh: injecting script tag for BokehJS library: \", url);\n",
       "      document.head.appendChild(element);\n",
       "    }\n",
       "  };var element = document.getElementById(\"1001\");\n",
       "  if (element == null) {\n",
       "    console.error(\"Bokeh: ERROR: autoload.js configured with elementid '1001' but no matching script tag was found. \")\n",
       "    return false;\n",
       "  }\n",
       "\n",
       "  function inject_raw_css(css) {\n",
       "    const element = document.createElement(\"style\");\n",
       "    element.appendChild(document.createTextNode(css));\n",
       "    document.body.appendChild(element);\n",
       "  }\n",
       "\n",
       "  \n",
       "  var js_urls = [\"https://cdn.pydata.org/bokeh/release/bokeh-1.4.0.min.js\", \"https://cdn.pydata.org/bokeh/release/bokeh-widgets-1.4.0.min.js\", \"https://cdn.pydata.org/bokeh/release/bokeh-tables-1.4.0.min.js\", \"https://cdn.pydata.org/bokeh/release/bokeh-gl-1.4.0.min.js\"];\n",
       "  var css_urls = [];\n",
       "  \n",
       "\n",
       "  var inline_js = [\n",
       "    function(Bokeh) {\n",
       "      Bokeh.set_log_level(\"info\");\n",
       "    },\n",
       "    function(Bokeh) {\n",
       "    \n",
       "    \n",
       "    }\n",
       "  ];\n",
       "\n",
       "  function run_inline_js() {\n",
       "    \n",
       "    if (root.Bokeh !== undefined || force === true) {\n",
       "      \n",
       "    for (var i = 0; i < inline_js.length; i++) {\n",
       "      inline_js[i].call(root, root.Bokeh);\n",
       "    }\n",
       "    if (force === true) {\n",
       "        display_loaded();\n",
       "      }} else if (Date.now() < root._bokeh_timeout) {\n",
       "      setTimeout(run_inline_js, 100);\n",
       "    } else if (!root._bokeh_failed_load) {\n",
       "      console.log(\"Bokeh: BokehJS failed to load within specified timeout.\");\n",
       "      root._bokeh_failed_load = true;\n",
       "    } else if (force !== true) {\n",
       "      var cell = $(document.getElementById(\"1001\")).parents('.cell').data().cell;\n",
       "      cell.output_area.append_execute_result(NB_LOAD_WARNING)\n",
       "    }\n",
       "\n",
       "  }\n",
       "\n",
       "  if (root._bokeh_is_loading === 0) {\n",
       "    console.debug(\"Bokeh: BokehJS loaded, going straight to plotting\");\n",
       "    run_inline_js();\n",
       "  } else {\n",
       "    load_libs(css_urls, js_urls, function() {\n",
       "      console.debug(\"Bokeh: BokehJS plotting callback run at\", now());\n",
       "      run_inline_js();\n",
       "    });\n",
       "  }\n",
       "}(window));"
      ],
      "application/vnd.bokehjs_load.v0+json": "\n(function(root) {\n  function now() {\n    return new Date();\n  }\n\n  var force = true;\n\n  if (typeof root._bokeh_onload_callbacks === \"undefined\" || force === true) {\n    root._bokeh_onload_callbacks = [];\n    root._bokeh_is_loading = undefined;\n  }\n\n  \n\n  \n  if (typeof (root._bokeh_timeout) === \"undefined\" || force === true) {\n    root._bokeh_timeout = Date.now() + 5000;\n    root._bokeh_failed_load = false;\n  }\n\n  var NB_LOAD_WARNING = {'data': {'text/html':\n     \"<div style='background-color: #fdd'>\\n\"+\n     \"<p>\\n\"+\n     \"BokehJS does not appear to have successfully loaded. If loading BokehJS from CDN, this \\n\"+\n     \"may be due to a slow or bad network connection. Possible fixes:\\n\"+\n     \"</p>\\n\"+\n     \"<ul>\\n\"+\n     \"<li>re-rerun `output_notebook()` to attempt to load from CDN again, or</li>\\n\"+\n     \"<li>use INLINE resources instead, as so:</li>\\n\"+\n     \"</ul>\\n\"+\n     \"<code>\\n\"+\n     \"from bokeh.resources import INLINE\\n\"+\n     \"output_notebook(resources=INLINE)\\n\"+\n     \"</code>\\n\"+\n     \"</div>\"}};\n\n  function display_loaded() {\n    var el = document.getElementById(\"1001\");\n    if (el != null) {\n      el.textContent = \"BokehJS is loading...\";\n    }\n    if (root.Bokeh !== undefined) {\n      if (el != null) {\n        el.textContent = \"BokehJS \" + root.Bokeh.version + \" successfully loaded.\";\n      }\n    } else if (Date.now() < root._bokeh_timeout) {\n      setTimeout(display_loaded, 100)\n    }\n  }\n\n\n  function run_callbacks() {\n    try {\n      root._bokeh_onload_callbacks.forEach(function(callback) {\n        if (callback != null)\n          callback();\n      });\n    } finally {\n      delete root._bokeh_onload_callbacks\n    }\n    console.debug(\"Bokeh: all callbacks have finished\");\n  }\n\n  function load_libs(css_urls, js_urls, callback) {\n    if (css_urls == null) css_urls = [];\n    if (js_urls == null) js_urls = [];\n\n    root._bokeh_onload_callbacks.push(callback);\n    if (root._bokeh_is_loading > 0) {\n      console.debug(\"Bokeh: BokehJS is being loaded, scheduling callback at\", now());\n      return null;\n    }\n    if (js_urls == null || js_urls.length === 0) {\n      run_callbacks();\n      return null;\n    }\n    console.debug(\"Bokeh: BokehJS not loaded, scheduling load and callback at\", now());\n    root._bokeh_is_loading = css_urls.length + js_urls.length;\n\n    function on_load() {\n      root._bokeh_is_loading--;\n      if (root._bokeh_is_loading === 0) {\n        console.debug(\"Bokeh: all BokehJS libraries/stylesheets loaded\");\n        run_callbacks()\n      }\n    }\n\n    function on_error() {\n      console.error(\"failed to load \" + url);\n    }\n\n    for (var i = 0; i < css_urls.length; i++) {\n      var url = css_urls[i];\n      const element = document.createElement(\"link\");\n      element.onload = on_load;\n      element.onerror = on_error;\n      element.rel = \"stylesheet\";\n      element.type = \"text/css\";\n      element.href = url;\n      console.debug(\"Bokeh: injecting link tag for BokehJS stylesheet: \", url);\n      document.body.appendChild(element);\n    }\n\n    for (var i = 0; i < js_urls.length; i++) {\n      var url = js_urls[i];\n      var element = document.createElement('script');\n      element.onload = on_load;\n      element.onerror = on_error;\n      element.async = false;\n      element.src = url;\n      console.debug(\"Bokeh: injecting script tag for BokehJS library: \", url);\n      document.head.appendChild(element);\n    }\n  };var element = document.getElementById(\"1001\");\n  if (element == null) {\n    console.error(\"Bokeh: ERROR: autoload.js configured with elementid '1001' but no matching script tag was found. \")\n    return false;\n  }\n\n  function inject_raw_css(css) {\n    const element = document.createElement(\"style\");\n    element.appendChild(document.createTextNode(css));\n    document.body.appendChild(element);\n  }\n\n  \n  var js_urls = [\"https://cdn.pydata.org/bokeh/release/bokeh-1.4.0.min.js\", \"https://cdn.pydata.org/bokeh/release/bokeh-widgets-1.4.0.min.js\", \"https://cdn.pydata.org/bokeh/release/bokeh-tables-1.4.0.min.js\", \"https://cdn.pydata.org/bokeh/release/bokeh-gl-1.4.0.min.js\"];\n  var css_urls = [];\n  \n\n  var inline_js = [\n    function(Bokeh) {\n      Bokeh.set_log_level(\"info\");\n    },\n    function(Bokeh) {\n    \n    \n    }\n  ];\n\n  function run_inline_js() {\n    \n    if (root.Bokeh !== undefined || force === true) {\n      \n    for (var i = 0; i < inline_js.length; i++) {\n      inline_js[i].call(root, root.Bokeh);\n    }\n    if (force === true) {\n        display_loaded();\n      }} else if (Date.now() < root._bokeh_timeout) {\n      setTimeout(run_inline_js, 100);\n    } else if (!root._bokeh_failed_load) {\n      console.log(\"Bokeh: BokehJS failed to load within specified timeout.\");\n      root._bokeh_failed_load = true;\n    } else if (force !== true) {\n      var cell = $(document.getElementById(\"1001\")).parents('.cell').data().cell;\n      cell.output_area.append_execute_result(NB_LOAD_WARNING)\n    }\n\n  }\n\n  if (root._bokeh_is_loading === 0) {\n    console.debug(\"Bokeh: BokehJS loaded, going straight to plotting\");\n    run_inline_js();\n  } else {\n    load_libs(css_urls, js_urls, function() {\n      console.debug(\"Bokeh: BokehJS plotting callback run at\", now());\n      run_inline_js();\n    });\n  }\n}(window));"
     },
     "metadata": {},
     "output_type": "display_data"
    }
   ],
   "source": [
    "from bokeh.io import show, output_notebook\n",
    "from bokeh.plotting import figure, ColumnDataSource\n",
    "from bokeh.models import HoverTool, ResetTool, PanTool, WheelZoomTool, SaveTool\n",
    "from bokeh.colors import HSL\n",
    "output_notebook()"
   ]
  },
  {
   "cell_type": "code",
   "execution_count": 33,
   "metadata": {},
   "outputs": [],
   "source": [
    "with open(\"selected-movies.pickle\", \"rb\") as f:\n",
    "    mvspkl = pickle.load(f, encoding=\"utf-8\")"
   ]
  },
  {
   "cell_type": "code",
   "execution_count": 34,
   "metadata": {},
   "outputs": [],
   "source": [
    "def color(val):\n",
    "    min_hue = 0 # red\n",
    "    max_hue = 120 # green\n",
    "    gradient = (max_hue - min_hue) * val + min_hue\n",
    "    return HSL(gradient, 0.5, 0.5).to_rgb().to_hex()"
   ]
  },
  {
   "cell_type": "code",
   "execution_count": 35,
   "metadata": {},
   "outputs": [],
   "source": [
    "b1 = eigv[:, -1]\n",
    "b2 = eigv[:, -2]"
   ]
  },
  {
   "cell_type": "code",
   "execution_count": 36,
   "metadata": {},
   "outputs": [],
   "source": [
    "coordinates = {}"
   ]
  },
  {
   "cell_type": "code",
   "execution_count": 37,
   "metadata": {},
   "outputs": [],
   "source": [
    "for i in range(len(mvspkl)):\n",
    "    idm = mvspkl[i][0]\n",
    "    ind = np.where(idm == mvs)[0][0]\n",
    "    coordinates[i] = {\n",
    "        'coords': [b1@M.T[ind], b2@M.T[ind]],\n",
    "        'infos': mvspkl[i]\n",
    "    }       "
   ]
  },
  {
   "cell_type": "code",
   "execution_count": 39,
   "metadata": {},
   "outputs": [
    {
     "data": {
      "text/html": [
       "\n",
       "\n",
       "\n",
       "\n",
       "\n",
       "\n",
       "  <div class=\"bk-root\" id=\"8f1925b0-afeb-4ab9-8735-30279fba1490\" data-root-id=\"1096\"></div>\n"
      ]
     },
     "metadata": {},
     "output_type": "display_data"
    },
    {
     "data": {
      "application/javascript": [
       "(function(root) {\n",
       "  function embed_document(root) {\n",
       "    \n",
       "  var docs_json = {\"58639232-9b68-4786-8b9b-3a4660fbfc69\":{\"roots\":{\"references\":[{\"attributes\":{\"below\":[{\"id\":\"1107\",\"type\":\"LinearAxis\"}],\"center\":[{\"id\":\"1111\",\"type\":\"Grid\"},{\"id\":\"1116\",\"type\":\"Grid\"}],\"left\":[{\"id\":\"1112\",\"type\":\"LinearAxis\"}],\"plot_height\":360,\"plot_width\":960,\"renderers\":[{\"id\":\"1126\",\"type\":\"GlyphRenderer\"}],\"title\":{\"id\":\"1097\",\"type\":\"Title\"},\"toolbar\":{\"id\":\"1117\",\"type\":\"Toolbar\"},\"x_range\":{\"id\":\"1099\",\"type\":\"DataRange1d\"},\"x_scale\":{\"id\":\"1103\",\"type\":\"LinearScale\"},\"y_range\":{\"id\":\"1101\",\"type\":\"DataRange1d\"},\"y_scale\":{\"id\":\"1105\",\"type\":\"LinearScale\"}},\"id\":\"1096\",\"subtype\":\"Figure\",\"type\":\"Plot\"},{\"attributes\":{},\"id\":\"1108\",\"type\":\"BasicTicker\"},{\"attributes\":{},\"id\":\"1136\",\"type\":\"BasicTickFormatter\"},{\"attributes\":{\"callback\":null},\"id\":\"1101\",\"type\":\"DataRange1d\"},{\"attributes\":{\"fill_alpha\":{\"value\":0.1},\"fill_color\":{\"value\":\"#1f77b4\"},\"line_alpha\":{\"value\":0.1},\"line_color\":{\"value\":\"#1f77b4\"},\"size\":{\"units\":\"screen\",\"value\":20},\"x\":{\"field\":\"x\"},\"y\":{\"field\":\"y\"}},\"id\":\"1125\",\"type\":\"Circle\"},{\"attributes\":{\"formatter\":{\"id\":\"1136\",\"type\":\"BasicTickFormatter\"},\"ticker\":{\"id\":\"1108\",\"type\":\"BasicTicker\"}},\"id\":\"1107\",\"type\":\"LinearAxis\"},{\"attributes\":{},\"id\":\"1095\",\"type\":\"SaveTool\"},{\"attributes\":{},\"id\":\"1140\",\"type\":\"UnionRenderers\"},{\"attributes\":{\"formatter\":{\"id\":\"1138\",\"type\":\"BasicTickFormatter\"},\"ticker\":{\"id\":\"1113\",\"type\":\"BasicTicker\"}},\"id\":\"1112\",\"type\":\"LinearAxis\"},{\"attributes\":{\"fill_alpha\":{\"value\":0.5},\"fill_color\":{\"field\":\"color\"},\"line_alpha\":{\"value\":0.5},\"line_color\":{\"field\":\"color\"},\"size\":{\"units\":\"screen\",\"value\":20},\"x\":{\"field\":\"x\"},\"y\":{\"field\":\"y\"}},\"id\":\"1124\",\"type\":\"Circle\"},{\"attributes\":{},\"id\":\"1103\",\"type\":\"LinearScale\"},{\"attributes\":{},\"id\":\"1113\",\"type\":\"BasicTicker\"},{\"attributes\":{},\"id\":\"1141\",\"type\":\"Selection\"},{\"attributes\":{},\"id\":\"1092\",\"type\":\"ResetTool\"},{\"attributes\":{},\"id\":\"1105\",\"type\":\"LinearScale\"},{\"attributes\":{},\"id\":\"1093\",\"type\":\"PanTool\"},{\"attributes\":{\"source\":{\"id\":\"1090\",\"type\":\"ColumnDataSource\"}},\"id\":\"1127\",\"type\":\"CDSView\"},{\"attributes\":{\"callback\":null},\"id\":\"1099\",\"type\":\"DataRange1d\"},{\"attributes\":{\"active_drag\":\"auto\",\"active_inspect\":\"auto\",\"active_multi\":null,\"active_scroll\":\"auto\",\"active_tap\":\"auto\",\"tools\":[{\"id\":\"1091\",\"type\":\"HoverTool\"},{\"id\":\"1092\",\"type\":\"ResetTool\"},{\"id\":\"1093\",\"type\":\"PanTool\"},{\"id\":\"1094\",\"type\":\"WheelZoomTool\"},{\"id\":\"1095\",\"type\":\"SaveTool\"}]},\"id\":\"1117\",\"type\":\"Toolbar\"},{\"attributes\":{},\"id\":\"1138\",\"type\":\"BasicTickFormatter\"},{\"attributes\":{\"callback\":null,\"data\":{\"color\":[\"#A6BF40\",\"#5CBF40\",\"#61BF40\",\"#57BF40\",\"#6BBF40\",\"#4DBF40\",\"#61BF40\",\"#BF6640\",\"#BF6140\",\"#66BF40\",\"#78BF40\",\"#66BF40\",\"#54BF40\",\"#52BF40\",\"#52BF40\",\"#BFB840\",\"#4ABF40\",\"#75BF40\",\"#BF6B40\",\"#5EBF40\",\"#59BF40\",\"#BF9640\",\"#70BF40\",\"#40BF40\",\"#57BF40\",\"#87BF40\",\"#4DBF40\",\"#73BF40\",\"#91BF40\",\"#9CBF40\",\"#45BF40\",\"#BDBF40\",\"#4DBF40\",\"#94BF40\",\"#6BBF40\",\"#5EBF40\",\"#A6BF40\"],\"name\":[\"Independence Day (a.k.a. ID4) (1996)\",\"Spider-Man (2002)\",\"Matrix, The (1999)\",\"Shawshank Redemption, The (1994)\",\"American History X (1998)\",\"Wild Strawberries (Smultronst\\u00e4llet) (1957)\",\"Control (2007)\",\"Miss Congeniality 2: Armed and Fabulous (2005)\",\"Just My Luck (2006)\",\"Santa Sangre (1989)\",\"Videodrome (1983)\",\"Billy Elliot (2000)\",\"Pride (2014)\",\"Jurassic Park (1993)\",\"Star Wars: Episode IV - A New Hope (1977)\",\"Princess Diaries, The (2001)\",\"Schindler's List (1993)\",\"Fight Club (1999)\",\"New York Ripper, The (Squartatore di New York, Lo) (1982)\",\"American Beauty (1999)\",\"City of God (Cidade de Deus) (2002)\",\"Battleship (2012)\",\"Take Care of My Cat (Goyangileul butaghae) (2001)\",\"Terminator, The (1984)\",\"Edge of Tomorrow (2014)\",\"Forrest Gump (1994)\",\"King's Speech, The (2010)\",\"Life Is Beautiful (La Vita \\u00e8 bella) (1997)\",\"Stage Fright (Deliria) (1987)\",\"Ichi the Killer (Koroshiya 1) (2001)\",\"Brazil (1985)\",\"Fountain, The (2006)\",\"Accused, The (1988)\",\"Time to Kill, A (1996)\",\"Ghost Writer, The (2010)\",\"Superbad (2007)\",\"American Pie (1999)\"],\"score\":[0.6,0.89,0.87,0.91,0.83,0.95,0.87,0.15,0.13,0.85,0.78,0.85,0.92,0.93,0.93,0.47,0.96,0.79,0.17,0.88,0.9,0.34,0.81,1.0,0.91,0.72,0.95,0.8,0.68,0.64,0.98,0.51,0.95,0.67,0.83,0.88,0.6],\"x\":[1.9563192464706578,2.423473011939733,6.166922994976296,8.263266304963047,8.40728222825496,7.467585235072493,7.309527270150404,0.2763807327027906,0.09133591026512636,5.478011932785142,4.335738415983889,5.1125848951296575,5.350205221235813,3.467061184601558,5.283249654357827,0.7511985315999713,8.012862850827632,8.448732889671703,2.6281793776486384,8.594701228394438,8.8628556999511,0.07895014805738113,2.5587249561975716,4.887597829601467,4.356287831804951,6.080402888934181,6.351129429131261,6.6083529028357635,4.417500015444916,4.314339943618697,6.342243226893646,5.78340028448389,5.784931428017211,3.755509495583607,5.439232132618228,3.6911395441109196,2.212503735032812],\"y\":[-7.004651322298654,-6.5683617061531665,-8.288756869341015,-5.84697935868207,-4.8791047963082335,-1.0961272811702436,-1.8150512541562585,-2.2894303250116423,-1.8303448652081356,-1.8601570872829658,-1.8528059086619626,-2.220114087389773,-1.8469216704740612,-7.283029689024392,-7.576582963071958,-2.300994940111546,-4.795991450586857,-5.661292452125195,-2.995109243900947,-3.1185938681355103,-4.32291045516863,-4.9514078492758085,0.21770525613205652,-7.444349465494818,-7.076629257758824,-5.029462539700735,-3.7401245085837167,-3.5359042615520417,-2.826596727515738,-2.5413593613637606,-3.240371167874715,-2.8005467589011497,-3.4826050275184945,-3.808230047148003,-3.722982094802205,-2.7906872889413794,-3.643259300308142]},\"selected\":{\"id\":\"1141\",\"type\":\"Selection\"},\"selection_policy\":{\"id\":\"1140\",\"type\":\"UnionRenderers\"}},\"id\":\"1090\",\"type\":\"ColumnDataSource\"},{\"attributes\":{\"ticker\":{\"id\":\"1108\",\"type\":\"BasicTicker\"}},\"id\":\"1111\",\"type\":\"Grid\"},{\"attributes\":{},\"id\":\"1094\",\"type\":\"WheelZoomTool\"},{\"attributes\":{\"text\":\"2D Projection of the movies\"},\"id\":\"1097\",\"type\":\"Title\"},{\"attributes\":{\"data_source\":{\"id\":\"1090\",\"type\":\"ColumnDataSource\"},\"glyph\":{\"id\":\"1124\",\"type\":\"Circle\"},\"hover_glyph\":null,\"muted_glyph\":null,\"nonselection_glyph\":{\"id\":\"1125\",\"type\":\"Circle\"},\"selection_glyph\":null,\"view\":{\"id\":\"1127\",\"type\":\"CDSView\"}},\"id\":\"1126\",\"type\":\"GlyphRenderer\"},{\"attributes\":{\"dimension\":1,\"ticker\":{\"id\":\"1113\",\"type\":\"BasicTicker\"}},\"id\":\"1116\",\"type\":\"Grid\"},{\"attributes\":{\"callback\":null,\"tooltips\":[[\"Name\",\"@name\"],[\"Score\",\"@score\"]]},\"id\":\"1091\",\"type\":\"HoverTool\"}],\"root_ids\":[\"1096\"]},\"title\":\"Bokeh Application\",\"version\":\"1.4.0\"}};\n",
       "  var render_items = [{\"docid\":\"58639232-9b68-4786-8b9b-3a4660fbfc69\",\"notebook_comms_target\":\"1142\",\"roots\":{\"1096\":\"8f1925b0-afeb-4ab9-8735-30279fba1490\"}}];\n",
       "  root.Bokeh.embed.embed_items_notebook(docs_json, render_items);\n",
       "\n",
       "  }\n",
       "  if (root.Bokeh !== undefined) {\n",
       "    embed_document(root);\n",
       "  } else {\n",
       "    var attempts = 0;\n",
       "    var timer = setInterval(function(root) {\n",
       "      if (root.Bokeh !== undefined) {\n",
       "        clearInterval(timer);\n",
       "        embed_document(root);\n",
       "      } else {\n",
       "        attempts++;\n",
       "        if (attempts > 100) {\n",
       "          clearInterval(timer);\n",
       "          console.log(\"Bokeh: ERROR: Unable to run BokehJS code because BokehJS library is missing\");\n",
       "        }\n",
       "      }\n",
       "    }, 10, root)\n",
       "  }\n",
       "})(window);"
      ],
      "application/vnd.bokehjs_exec.v0+json": ""
     },
     "metadata": {
      "application/vnd.bokehjs_exec.v0+json": {
       "id": "1096"
      }
     },
     "output_type": "display_data"
    },
    {
     "data": {
      "text/html": [
       "<p><code>&lt;Bokeh Notebook handle for <strong>In[39]</strong>&gt;</code></p>"
      ],
      "text/plain": [
       "<bokeh.io.notebook.CommsHandle at 0x7fbeac53ec50>"
      ]
     },
     "execution_count": 39,
     "metadata": {},
     "output_type": "execute_result"
    }
   ],
   "source": [
    "source = ColumnDataSource(\n",
    "    data={\n",
    "        \"x\": [x['coords'][0] for x in coordinates.values()],\n",
    "        \"y\": [x['coords'][1] for x in coordinates.values()],\n",
    "        \"name\": [x['infos'][1] for x in coordinates.values()],\n",
    "        \"color\": [color(x['infos'][2]) for x in coordinates.values()],\n",
    "        \"score\": [x['infos'][2] for x in coordinates.values()],\n",
    "    })\n",
    "\n",
    "hover = HoverTool(\n",
    "    tooltips=[\n",
    "        (\"Name\", \"@name\"),\n",
    "        (\"Score\", \"@score\")\n",
    "    ])\n",
    "tools = [hover, ResetTool(), PanTool(), WheelZoomTool(), SaveTool()]\n",
    "\n",
    "p = figure(plot_width=960, plot_height=360, tools=tools, title='2D Projection of the movies')\n",
    "p.circle(\"x\", \"y\", source=source, size=20, color=\"color\", alpha=0.5)\n",
    "show(p, notebook_handle=True)"
   ]
  },
  {
   "cell_type": "markdown",
   "metadata": {},
   "source": [
    "### Plot analysis and conclusions.\n",
    "\n",
    "The projection makes sense. Indeed from our `concept space` analysis we have said that :\n",
    "\n",
    "- `b1` or eigenvector of highest eigenvalue represented the duality between `GREAT` and `BAD` movies\n",
    "- `b2` or eigenvector of second highest eigenvalue represented the duality between `SENTIMENTAL` and `ACTION` movies\n",
    "\n",
    "Looking at the plot we can see and compare with our personal knowledge that it looks like :\n",
    "\n",
    "- **the x-axis shows a trend of `good` films**\n",
    "- **the y-axis indicates the duality between `sentimental` films (upwards) and `action` films (downwards)**\n",
    "\n",
    "This correlate particularly well with the ***`Rotten Tomatoes`*** scores which are indicated on our graph by the colors of the dots. Indeed, the further down the `x-axis` we go, the more red the movies become. Which is - according to our colouring function - a sign of a bad score on Rotten Tomatoes. On the other hand, movies with a high $x$ also tend to be colored more green - meaning that they have a rather high Rotten Tomatoes score. On the `y-axis`, however, we do not notice a pattern on the coloring of the dots. This is due to the fact that the Rotten Tomatoes score notes the quality of the film and not its duality of `sentiments` vs `action`.\n",
    "\n",
    "We can even take some random films and find out that this conclusion makes sense *(RTS - Rotten Tomatoes score)* :\n",
    "\n",
    "- `The Matrix` has a high $x$ coordinate and a low $y$. Meaning according to our projection a great action film. RTS is 87%\n",
    "- `Princess Diaries` has low $x$ and mid $y$ coordinate. Meaning according to our projection it's a bad sentimental film. RTS is 47%\n",
    "- `Take Care of My Cat` has mid $x$ and high $y$ coordinate. Meaning according to our projection it's a mid sentimental film. RTS is 81% "
   ]
  }
 ],
 "metadata": {
  "anaconda-cloud": {},
  "kernelspec": {
   "display_name": "Python 3",
   "language": "python",
   "name": "python3"
  },
  "language_info": {
   "codemirror_mode": {
    "name": "ipython",
    "version": 3
   },
   "file_extension": ".py",
   "mimetype": "text/x-python",
   "name": "python",
   "nbconvert_exporter": "python",
   "pygments_lexer": "ipython3",
   "version": "3.7.6"
  }
 },
 "nbformat": 4,
 "nbformat_minor": 2
}
