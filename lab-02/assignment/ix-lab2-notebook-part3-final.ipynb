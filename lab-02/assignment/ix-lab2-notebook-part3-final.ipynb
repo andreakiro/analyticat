{
 "cells": [
  {
   "cell_type": "markdown",
   "metadata": {},
   "source": [
    "# Networks: structure, evolution & processes\n",
    "**Internet Analytics - Lab 2**\n",
    "\n",
    "---\n",
    "\n",
    "**Group:** *H*\n",
    "\n",
    "**Names:**\n",
    "\n",
    "* *Antoine Basseto*\n",
    "* *Andrea Pinto*\n",
    "* *Jérémy Baffou*\n",
    "\n",
    "---\n",
    "\n",
    "#### Instructions\n",
    "\n",
    "*This is a template for part 3 of the lab. Clearly write your answers, comments and interpretations in Markodown cells. Don't forget that you can add $\\LaTeX$ equations in these cells. Feel free to add or remove any cell.*\n",
    "\n",
    "*Please properly comment your code. Code readability will be considered for grading. To avoid long cells of codes in the notebook, you can also embed long python functions and classes in a separate module. Don’t forget to hand in your module if that is the case. In multiple exercises, you are required to come up with your own method to solve various problems. Be creative and clearly motivate and explain your methods. Creativity and clarity will be considered for grading.*"
   ]
  },
  {
   "cell_type": "code",
   "execution_count": null,
   "metadata": {},
   "outputs": [],
   "source": [
    "import numpy as np\n",
    "import networkx as nx\n",
    "import json\n",
    "import epidemics_helper\n",
    "import matplotlib.pyplot as plt\n",
    "import pandas as pd\n",
    "import part3_functions as part3"
   ]
  },
  {
   "cell_type": "markdown",
   "metadata": {},
   "source": [
    "Before jumping into the exercices let's load our graph."
   ]
  },
  {
   "cell_type": "code",
   "execution_count": null,
   "metadata": {},
   "outputs": [],
   "source": [
    "with open(\"../data/nyc_augmented_network.json\", \"r\") as read_file:\n",
    "    data = json.load(read_file)"
   ]
  },
  {
   "cell_type": "code",
   "execution_count": null,
   "metadata": {},
   "outputs": [],
   "source": [
    "nodes_list = list(map(lambda d : (d['id'], {'coordinates' : d['coordinates']}),data[\"nodes\"]))\n",
    "edges_list = list(map(lambda d : (d['source'],d['target']), data[\"links\"]))"
   ]
  },
  {
   "cell_type": "code",
   "execution_count": null,
   "metadata": {},
   "outputs": [],
   "source": [
    "G = nx.Graph()\n",
    "G.add_nodes_from(nodes_list)\n",
    "G.add_edges_from(edges_list)"
   ]
  },
  {
   "cell_type": "code",
   "execution_count": null,
   "metadata": {},
   "outputs": [],
   "source": [
    "part3.draw_graph(G)"
   ]
  },
  {
   "cell_type": "markdown",
   "metadata": {},
   "source": [
    "---\n",
    "\n",
    "## 2.3 Epidemics\n",
    "\n",
    "#### Exercise 2.9: Simulate an epidemic outbreak"
   ]
  },
  {
   "cell_type": "code",
   "execution_count": null,
   "metadata": {},
   "outputs": [],
   "source": [
    "SIR = epidemics_helper.SimulationSIR(G, beta=10.0, gamma=0.1)\n",
    "SIR.launch_epidemic(source=23654, max_time=100.0)"
   ]
  },
  {
   "cell_type": "code",
   "execution_count": null,
   "metadata": {},
   "outputs": [],
   "source": [
    "time_stamps_status, nodes_status = part3.nodes_status_over_time(SIR, 100, [1,3,30])"
   ]
  },
  {
   "cell_type": "code",
   "execution_count": null,
   "metadata": {},
   "outputs": [],
   "source": [
    "part3.plot_population_status(nodes_status,percentage=True)"
   ]
  },
  {
   "cell_type": "code",
   "execution_count": null,
   "metadata": {
    "scrolled": true
   },
   "outputs": [],
   "source": [
    "part3.epidemic_markers(nodes_status,0.6)"
   ]
  },
  {
   "cell_type": "code",
   "execution_count": null,
   "metadata": {},
   "outputs": [],
   "source": [
    "fig, axs = plt.subplots(len(time_stamps_status.values()), figsize=(400,500))\n",
    "fig.suptitle('Epidemic evolution of the network')\n",
    "i = 0\n",
    "for stamps, status in time_stamps_status.items():\n",
    "    axs[i].set_title(\"At day \"+ str(stamps), fontsize=300)\n",
    "    part3.draw_graph(G,nodes_status=status,ax=axs[i])\n",
    "    i+=1"
   ]
  },
  {
   "cell_type": "markdown",
   "metadata": {},
   "source": [
    "We can clearly see that the epidemy spread around the network really fast until it covers almost all of it."
   ]
  },
  {
   "cell_type": "markdown",
   "metadata": {},
   "source": [
    "---\n",
    "\n",
    "### 2.3.1 Stop the apocalypse!\n",
    "\n",
    "#### Exercise 2.10: Strategy 1"
   ]
  },
  {
   "cell_type": "code",
   "execution_count": null,
   "metadata": {
    "scrolled": true
   },
   "outputs": [],
   "source": [
    "part3.strategy_1_simulation(nodes_list,edges_list, sim_nb=2, draw=False)"
   ]
  },
  {
   "cell_type": "markdown",
   "metadata": {},
   "source": [
    "Not really efficient as the curves are really similar to the initial case."
   ]
  },
  {
   "cell_type": "code",
   "execution_count": null,
   "metadata": {
    "scrolled": true
   },
   "outputs": [],
   "source": [
    "part3.strategy_1_simulation(nodes_list,edges_list,budget=10000)"
   ]
  },
  {
   "cell_type": "markdown",
   "metadata": {},
   "source": [
    "More effective but still not really good as we cut around 20% of the network edges"
   ]
  },
  {
   "cell_type": "markdown",
   "metadata": {},
   "source": [
    "#### Exercise 2.11: Strategy 2"
   ]
  },
  {
   "cell_type": "markdown",
   "metadata": {},
   "source": [
    "Strategies possibles : \n",
    "- enlenver les nodes avec un haut degree pour eviter propagation exponentielle (risque de dépenser beaucoup du budget)\n",
    "- enlever les ponts du graph pour renforcer le nombre d ilots (risque de dépenser beaucoup dans le cut de node seul)\n",
    "- regarder les communautées et essayer de les séparées les unes des autres.\n",
    "- calculer la edge_betweenness centrality et cut ceux qui ont la plus grande.\n",
    "\n",
    "pistes :\n",
    "\n",
    "- https://networkx.org/documentation/stable/reference/algorithms/generated/networkx.algorithms.centrality.edge_betweenness_centrality.html#networkx.algorithms.centrality.edge_betweenness_centrality\n",
    "- https://networkx.org/documentation/stable/reference/algorithms/community.html\n",
    "- https://networkx.org/documentation/stable/reference/algorithms/clustering.html\n",
    "- https://networkx.org/documentation/stable/reference/algorithms/centrality.html\n",
    "- https://networkx.org/documentation/stable/reference/algorithms/bridges.html"
   ]
  },
  {
   "cell_type": "markdown",
   "metadata": {},
   "source": [
    "### High betweenness method"
   ]
  },
  {
   "cell_type": "code",
   "execution_count": null,
   "metadata": {},
   "outputs": [],
   "source": [
    "max_centered_edges = part3.extract_max_centered_edges() #have been computed using the cluster and the function https://networkx.org/documentation/stable/reference/algorithms/generated/networkx.algorithms.centrality.edge_betweenness_centrality.html#networkx.algorithms.centrality.edge_betweenness_centrality"
   ]
  },
  {
   "cell_type": "code",
   "execution_count": null,
   "metadata": {},
   "outputs": [],
   "source": [
    "Graph_high_centrality = nx.nx.Graph()\n",
    "Graph_high_centrality.add_nodes_from(nodes_list)\n",
    "Graph_high_centrality.add_edges_from(max_centered_edges[:2500])\n",
    "part3.draw_graph(Graph_high_centrality,title=\"View of high centrality edges\",edge_width=10.0)"
   ]
  },
  {
   "cell_type": "code",
   "execution_count": null,
   "metadata": {
    "scrolled": true
   },
   "outputs": [],
   "source": [
    "part3.strategy_2_simulation(nodes_list, edges_list, max_centered_edges, sim_nb=2)"
   ]
  },
  {
   "cell_type": "markdown",
   "metadata": {},
   "source": [
    "### Vaccination method (high degree node)"
   ]
  },
  {
   "cell_type": "code",
   "execution_count": null,
   "metadata": {},
   "outputs": [],
   "source": [
    "part3.strategy_3_simulation(nodes_list, edges_list, budget=1000)"
   ]
  },
  {
   "cell_type": "markdown",
   "metadata": {},
   "source": [
    "### Community method"
   ]
  },
  {
   "cell_type": "code",
   "execution_count": null,
   "metadata": {},
   "outputs": [],
   "source": [
    "communities = nx.algorithms.community.greedy_modularity_communities(G)"
   ]
  },
  {
   "cell_type": "code",
   "execution_count": null,
   "metadata": {
    "scrolled": true
   },
   "outputs": [],
   "source": [
    "part3.draw_communities(G, communities, boundaries=True)"
   ]
  },
  {
   "cell_type": "code",
   "execution_count": null,
   "metadata": {},
   "outputs": [],
   "source": [
    "part3.strategy_4_simulation(nodes_list,edges_list)"
   ]
  },
  {
   "cell_type": "markdown",
   "metadata": {},
   "source": [
    "## Cost/Effectiveness comparison"
   ]
  },
  {
   "cell_type": "code",
   "execution_count": null,
   "metadata": {},
   "outputs": [],
   "source": [
    "random = []\n",
    "vaccination = []\n",
    "betweenness = []\n",
    "community = []\n",
    "strategies = [\"random\",\"vaccination\",\"betweenness\",\"community\"]\n",
    "budgets = [100,200,300,400,500,600,700,800,900,1000,1500,2000,2500,5000,7500,10000]\n",
    "for b in budgets:\n",
    "    random.append(compute_mean_susceptible(nodes_list, edges_list, b, \"random\"))\n",
    "    vaccination.append(compute_mean_susceptible(nodes_list, edges_list, b, \"vaccination\"))\n",
    "    betweenness.append(compute_mean_susceptible(nodes_list, edges_list, b, \"betweenness\"))\n",
    "    community.append(compute_mean_susceptible(nodes_list, edges_list, b, \"community\"))\n",
    "fig, ax = plt.subplots()\n",
    "ax.set_title(\"Comparison of \") "
   ]
  }
 ],
 "metadata": {
  "kernelspec": {
   "display_name": "Python 3",
   "language": "python",
   "name": "python3"
  },
  "language_info": {
   "codemirror_mode": {
    "name": "ipython",
    "version": 3
   },
   "file_extension": ".py",
   "mimetype": "text/x-python",
   "name": "python",
   "nbconvert_exporter": "python",
   "pygments_lexer": "ipython3",
   "version": "3.8.5"
  }
 },
 "nbformat": 4,
 "nbformat_minor": 2
}
