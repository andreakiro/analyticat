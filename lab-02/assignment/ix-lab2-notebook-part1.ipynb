{
 "cells": [
  {
   "cell_type": "markdown",
   "metadata": {},
   "source": [
    "# Networks: structure, evolution & processes\n",
    "**Internet Analytics - Lab 2**\n",
    "\n",
    "---\n",
    "\n",
    "**Group:** *H*\n",
    "\n",
    "**Names:**\n",
    "\n",
    "* *BAFFOU Jérémy*\n",
    "* *BASSETO Antoine*\n",
    "* *PINTO Andrea*\n",
    "\n",
    "---\n",
    "\n",
    "#### Instructions\n",
    "\n",
    "*This is a template for part 1 of the lab. Clearly write your answers, comments and interpretations in Markodown cells. Don't forget that you can add $\\LaTeX$ equations in these cells. Feel free to add or remove any cell.*\n",
    "\n",
    "*Please properly comment your code. Code readability will be considered for grading. To avoid long cells of codes in the notebook, you can also embed long python functions and classes in a separate module. Don’t forget to hand in your module if that is the case. In multiple exercises, you are required to come up with your own method to solve various problems. Be creative and clearly motivate and explain your methods. Creativity and clarity will be considered for grading.*"
   ]
  },
  {
   "cell_type": "markdown",
   "metadata": {},
   "source": [
    "---\n",
    "\n",
    "# 2.1 Exploration of real networks"
   ]
  },
  {
   "cell_type": "code",
   "execution_count": 1,
   "metadata": {},
   "outputs": [],
   "source": [
    "import numpy as np\n",
    "import matplotlib.pyplot as plt\n",
    "import networkx as nx\n",
    "import pandas as pd\n",
    "from scipy.stats import linregress\n",
    "import os\n",
    "import json"
   ]
  },
  {
   "cell_type": "markdown",
   "metadata": {},
   "source": [
    "## Exercise 2.1\n",
    "\n",
    "Your first task is to explore network1 and analyze its properties.\n",
    "1. Load the graph in your favorite data structure.\n",
    "2. How many nodes and edges does the graph contain?"
   ]
  },
  {
   "cell_type": "markdown",
   "metadata": {},
   "source": [
    "### Load the dataset into PD dataframe and convert into NX"
   ]
  },
  {
   "cell_type": "code",
   "execution_count": 2,
   "metadata": {},
   "outputs": [],
   "source": [
    "network1_df = pd.read_csv(\"../data/network1.csv\", skiprows=2, names=['from', 'to'])"
   ]
  },
  {
   "cell_type": "code",
   "execution_count": 3,
   "metadata": {},
   "outputs": [
    {
     "data": {
      "text/html": [
       "<div>\n",
       "<style scoped>\n",
       "    .dataframe tbody tr th:only-of-type {\n",
       "        vertical-align: middle;\n",
       "    }\n",
       "\n",
       "    .dataframe tbody tr th {\n",
       "        vertical-align: top;\n",
       "    }\n",
       "\n",
       "    .dataframe thead th {\n",
       "        text-align: right;\n",
       "    }\n",
       "</style>\n",
       "<table border=\"1\" class=\"dataframe\">\n",
       "  <thead>\n",
       "    <tr style=\"text-align: right;\">\n",
       "      <th></th>\n",
       "      <th>from</th>\n",
       "      <th>to</th>\n",
       "    </tr>\n",
       "  </thead>\n",
       "  <tbody>\n",
       "    <tr>\n",
       "      <th>18579</th>\n",
       "      <td>12741</td>\n",
       "      <td>12974</td>\n",
       "    </tr>\n",
       "    <tr>\n",
       "      <th>18580</th>\n",
       "      <td>12775</td>\n",
       "      <td>12935</td>\n",
       "    </tr>\n",
       "    <tr>\n",
       "      <th>18581</th>\n",
       "      <td>12783</td>\n",
       "      <td>12850</td>\n",
       "    </tr>\n",
       "    <tr>\n",
       "      <th>18582</th>\n",
       "      <td>12850</td>\n",
       "      <td>12854</td>\n",
       "    </tr>\n",
       "    <tr>\n",
       "      <th>18583</th>\n",
       "      <td>12983</td>\n",
       "      <td>13024</td>\n",
       "    </tr>\n",
       "  </tbody>\n",
       "</table>\n",
       "</div>"
      ],
      "text/plain": [
       "        from     to\n",
       "18579  12741  12974\n",
       "18580  12775  12935\n",
       "18581  12783  12850\n",
       "18582  12850  12854\n",
       "18583  12983  13024"
      ]
     },
     "execution_count": 3,
     "metadata": {},
     "output_type": "execute_result"
    }
   ],
   "source": [
    "network1_df.tail()"
   ]
  },
  {
   "cell_type": "code",
   "execution_count": 4,
   "metadata": {},
   "outputs": [],
   "source": [
    "G = nx.from_pandas_edgelist(network1_df, 'from', 'to')"
   ]
  },
  {
   "cell_type": "code",
   "execution_count": 5,
   "metadata": {},
   "outputs": [
    {
     "name": "stdout",
     "output_type": "stream",
     "text": [
      "There are 13033 nodes in network1 !\n",
      "There are 18584 edges in network1 !\n"
     ]
    }
   ],
   "source": [
    "print(f'There are {len(list(G.nodes))} nodes in network1 !')\n",
    "print(f'There are {len(list(G.edges))} edges in network1 !')"
   ]
  },
  {
   "cell_type": "markdown",
   "metadata": {},
   "source": [
    "## Exercise 2.2:  Node degree distribution\n",
    "A convenient way to start exploring the structure of a graph is through its node degree distribution. <br>\n",
    "Compute the node degree distribution of network1 and visualize it.\n",
    "\n",
    "1. What kind of plot do you think is useful for this task?\n",
    "2. Can you list some of the properties of the degree distribution?\n",
    "3. Is it close to a well-known probability distribution? If so, provide an estimation of its\n",
    "parameter(s)?\n",
    "􏰀"
   ]
  },
  {
   "cell_type": "code",
   "execution_count": 6,
   "metadata": {},
   "outputs": [],
   "source": [
    "# List of degrees for each node in the graph\n",
    "degrees = np.array([degree for node, degree in G.degree])"
   ]
  },
  {
   "cell_type": "code",
   "execution_count": 7,
   "metadata": {},
   "outputs": [],
   "source": [
    "# Indices of the nodes in decreasing order w.r.t their degree\n",
    "indices = np.argsort(degrees)[::-1]"
   ]
  },
  {
   "cell_type": "markdown",
   "metadata": {},
   "source": [
    "### Print first results"
   ]
  },
  {
   "cell_type": "code",
   "execution_count": 8,
   "metadata": {},
   "outputs": [
    {
     "name": "stdout",
     "output_type": "stream",
     "text": [
      "  Node Degree\n",
      "     9   1482\n",
      "    23   1083\n",
      "    20    691\n",
      "     5    619\n",
      "   126    467\n"
     ]
    }
   ],
   "source": [
    "# Print the first 5 nodes and their corresponding degree\n",
    "nodes_degree = [\"%6d %6d\" % (a, b) for a, b in zip(indices, degrees[indices])][:5]\n",
    "print(\"%6s %6s\" % (\"Node\", \"Degree\"))\n",
    "print('\\n'.join(nodes_degree))"
   ]
  },
  {
   "cell_type": "markdown",
   "metadata": {},
   "source": [
    "### Plot histogram of the node degree distribution"
   ]
  },
  {
   "cell_type": "code",
   "execution_count": 9,
   "metadata": {},
   "outputs": [
    {
     "data": {
      "image/png": "[encoded data removed]",
      "text/plain": [
       "<Figure size 432x288 with 1 Axes>"
      ]
     },
     "metadata": {
      "needs_background": "light"
     },
     "output_type": "display_data"
    }
   ],
   "source": [
    "plt.hist(degrees, bins=15)\n",
    "plt.yscale('log')\n",
    "plt.title(\"Log degree distribution of network 1\")\n",
    "plt.xlabel(\"Degree\")\n",
    "plt.ylabel(\"Number of nodes\")\n",
    "plt.grid()\n",
    "plt.show()"
   ]
  },
  {
   "cell_type": "markdown",
   "metadata": {},
   "source": [
    "### Plot another view of the node degree distribution"
   ]
  },
  {
   "cell_type": "code",
   "execution_count": 11,
   "metadata": {},
   "outputs": [
    {
     "data": {
      "image/png": "[encoded data removed]",
      "text/plain": [
       "<Figure size 432x288 with 1 Axes>"
      ]
     },
     "metadata": {
      "needs_background": "light"
     },
     "output_type": "display_data"
    }
   ],
   "source": [
    "plt.plot(np.bincount(degrees), 'ro')\n",
    "plt.xscale('log')\n",
    "plt.yscale('log')\n",
    "plt.title(\"Log-log of the degree distribution of network 1\")\n",
    "plt.xlabel(\"Degree\")\n",
    "plt.ylabel(\"Number of nodes\")\n",
    "plt.grid()\n",
    "plt.show()"
   ]
  },
  {
   "cell_type": "markdown",
   "metadata": {},
   "source": [
    "### Compute CCDF of the node degree distribution"
   ]
  },
  {
   "cell_type": "code",
   "execution_count": 12,
   "metadata": {},
   "outputs": [],
   "source": [
    "ccdf = 1 - np.cumsum(np.bincount(degrees)) / len(list(G.nodes))"
   ]
  },
  {
   "cell_type": "markdown",
   "metadata": {},
   "source": [
    "### Plot CCDF of the node degree distribution"
   ]
  },
  {
   "cell_type": "code",
   "execution_count": 13,
   "metadata": {},
   "outputs": [
    {
     "data": {
      "image/png": "[encoded data removed]",
      "text/plain": [
       "<Figure size 432x288 with 1 Axes>"
      ]
     },
     "metadata": {
      "needs_background": "light"
     },
     "output_type": "display_data"
    }
   ],
   "source": [
    "plt.plot(ccdf)\n",
    "plt.xscale('log')\n",
    "plt.yscale('log')\n",
    "plt.title(\"CCDF\")\n",
    "plt.xlabel(\"Degrees\")\n",
    "plt.ylabel(\"Number of nodes\")\n",
    "plt.grid()\n",
    "plt.show()"
   ]
  },
  {
   "cell_type": "markdown",
   "metadata": {},
   "source": [
    "### Compute some properties"
   ]
  },
  {
   "cell_type": "code",
   "execution_count": 14,
   "metadata": {},
   "outputs": [],
   "source": [
    "mean = np.mean(degrees)\n",
    "std  = np.std(degrees)\n",
    "var  = std * std"
   ]
  },
  {
   "cell_type": "code",
   "execution_count": 15,
   "metadata": {},
   "outputs": [
    {
     "name": "stdout",
     "output_type": "stream",
     "text": [
      "Degree distribution has \n",
      " \t mean : 2.8518376429064682 \n",
      " \t std  : 20.859853773744813 \n",
      " \t var  : 435.1334994620157\n"
     ]
    }
   ],
   "source": [
    "print(f'Degree distribution has \\n \\t mean : {mean} \\n \\t std  : {std} \\n \\t var  : {var}')"
   ]
  },
  {
   "cell_type": "code",
   "execution_count": 16,
   "metadata": {},
   "outputs": [],
   "source": [
    "slope, intercept, r_value, p_value, std_err = linregress(np.log10(np.array(range(0, max(degrees)+1))+1), np.log10(ccdf + 1))"
   ]
  },
  {
   "cell_type": "code",
   "execution_count": 17,
   "metadata": {},
   "outputs": [
    {
     "data": {
      "text/plain": [
       "-0.007002480299341072"
      ]
     },
     "execution_count": 17,
     "metadata": {},
     "output_type": "execute_result"
    }
   ],
   "source": [
    "slope"
   ]
  },
  {
   "cell_type": "markdown",
   "metadata": {},
   "source": [
    "### Answers to questions\n",
    "\n",
    "1. What kind of plot do you think is useful for this task? <br>\n",
    "The best plot to recognize if the node degree distribution is a power law or not is the histogram of the **log-log plot of the CCDF**.\n",
    "2. Can you list some of the properties of the degree distribution? <br>\n",
    "See *mean*, *std* and *var* above.\n",
    "3. Is it close to a well-known probability distribution? If so, provide an estimation of its parameter(s)? 􏰀<br>\n",
    "It is close to Pareto distribution. But we are in discrete environment and its discrete analog is the **zeta distribution**. <br>"
   ]
  },
  {
   "cell_type": "markdown",
   "metadata": {},
   "source": [
    "## Exercise 2.3: Giant component\n",
    "Real networks are generally not connected, but one connected component, i.e., the giant component, is usually much larger than the others.\n",
    "1. Count the number of connected components in network1.\n",
    "2. Is there a giant component ? If so, what is its size?"
   ]
  },
  {
   "cell_type": "code",
   "execution_count": 18,
   "metadata": {},
   "outputs": [],
   "source": [
    "cc = list(nx.connected_components(G))"
   ]
  },
  {
   "cell_type": "code",
   "execution_count": 19,
   "metadata": {},
   "outputs": [
    {
     "name": "stdout",
     "output_type": "stream",
     "text": [
      "There are 192 components in network1\n"
     ]
    }
   ],
   "source": [
    "print(f'There are {len(cc)} components in network1')"
   ]
  },
  {
   "cell_type": "code",
   "execution_count": 20,
   "metadata": {},
   "outputs": [],
   "source": [
    "# Store cc in a deacreasing order list\n",
    "sorted_cc = sorted(cc, key=len)[::-1]"
   ]
  },
  {
   "cell_type": "code",
   "execution_count": 21,
   "metadata": {},
   "outputs": [
    {
     "name": "stdout",
     "output_type": "stream",
     "text": [
      "    CC \t # Nodes\n",
      "     1 \t  12576\n",
      "     2 \t     16\n",
      "     3 \t      7\n",
      "     4 \t      6\n",
      "     5 \t      5\n"
     ]
    }
   ],
   "source": [
    "dict_cc = [\"%6d \\t %6d\" % (i + 1, len(sorted_cc[i])) for i in range(len(sorted_cc))][:5]\n",
    "print(\"%6s \\t %6s\" % (\"CC\", \"# Nodes\"))\n",
    "print('\\n'.join(dict_cc))"
   ]
  },
  {
   "cell_type": "code",
   "execution_count": 22,
   "metadata": {},
   "outputs": [
    {
     "name": "stdout",
     "output_type": "stream",
     "text": [
      "The giant cc contains 96.49351645822144 % of the network's nodes with 12576 nodes out of 13033.\n"
     ]
    }
   ],
   "source": [
    "print(f\"The giant cc contains {100 * len(sorted_cc[0]) / len(list(G.nodes))} % of the network's nodes with {len(sorted_cc[0])} nodes out of {len(list(G.nodes))}.\")"
   ]
  },
  {
   "cell_type": "markdown",
   "metadata": {},
   "source": [
    "## Exercise 2.4: Short paths & Small-worlds\n",
    "In his book “Six Degrees” (2006), Duncan Watts explains the small-world effect by the now famous claim that every human on our planet is connected by an average of only “six degrees of separation”. Do you think that network1 is a small-world? Justify your answer.\n",
    "Hint:\n",
    "- What is the distribution of path lengths between any two nodes in the network?\n",
    "- How fast is the network growing? I.e. what is the average number of nodes reachable\n",
    "within a distance r (in number of hops) of any other node in the network?"
   ]
  },
  {
   "cell_type": "markdown",
   "metadata": {},
   "source": [
    "### Compute the shortest path length from every pair of node in G"
   ]
  },
  {
   "cell_type": "code",
   "execution_count": null,
   "metadata": {},
   "outputs": [],
   "source": [
    "dist = dict(nx.shortest_path_length(G))"
   ]
  },
  {
   "cell_type": "code",
   "execution_count": null,
   "metadata": {},
   "outputs": [],
   "source": [
    "df_dist = pd.DataFrame(dist)"
   ]
  },
  {
   "cell_type": "markdown",
   "metadata": {},
   "source": [
    "### Explore the DF"
   ]
  },
  {
   "cell_type": "code",
   "execution_count": null,
   "metadata": {},
   "outputs": [],
   "source": [
    "df_dist.head()"
   ]
  },
  {
   "cell_type": "code",
   "execution_count": null,
   "metadata": {},
   "outputs": [],
   "source": [
    "df_dist.tail()"
   ]
  },
  {
   "cell_type": "markdown",
   "metadata": {},
   "source": [
    "### Parse NaN values\n",
    "For further analysis, we decided to cast the NaN values to -1 values. Because no path is of length -1, this convention poses no design problems."
   ]
  },
  {
   "cell_type": "code",
   "execution_count": null,
   "metadata": {},
   "outputs": [],
   "source": [
    "df = df_dist.replace(np.NaN, -1)"
   ]
  },
  {
   "cell_type": "markdown",
   "metadata": {},
   "source": [
    "### Compute distribution of path length\n",
    "\n",
    "We decided to compute the distribution for path length up to 28 (see below for the justification). Note that $\\forall i \\in [0,28]$ you will find the number of path between any two nodes in the graph G of length $i$  at index $i$. Furthermore you will find the number of *impossible paths* (convention -1) at index $i = 29$."
   ]
  },
  {
   "cell_type": "code",
   "execution_count": null,
   "metadata": {},
   "outputs": [],
   "source": [
    "distribution = np.zeros(30) # index 0:0, 1:1, ... , 28 : 28, 29 : -1\n",
    "\n",
    "for i in range(df.shape[1]):\n",
    "    serie = df[i].value_counts()\n",
    "    for l in serie.index:\n",
    "        distribution[int(l)] += serie[l]"
   ]
  },
  {
   "cell_type": "markdown",
   "metadata": {},
   "source": [
    "#### Justification for the maximum path length considered in the distribution\n",
    "\n",
    "Below we prove that all shortest paths existing in the graph G have been taken into account in our distribution of path lengths. Indeed, the number of shortest paths is exactly the same as the number of paths in our distribution. Number of shortest paths is easily computed as the number of nodes squared. "
   ]
  },
  {
   "cell_type": "code",
   "execution_count": null,
   "metadata": {},
   "outputs": [],
   "source": [
    "print(f'Real total number of paths in the graph G : {len(list(G.nodes))**2}')\n",
    "print(f'Number of paths considered in our distribution : {np.sum(distribution)}')"
   ]
  },
  {
   "cell_type": "code",
   "execution_count": null,
   "metadata": {},
   "outputs": [],
   "source": [
    "plt.plot(distribution, 'ro')"
   ]
  },
  {
   "cell_type": "markdown",
   "metadata": {},
   "source": [
    "### Network growth analysis (CDF)"
   ]
  },
  {
   "cell_type": "code",
   "execution_count": null,
   "metadata": {},
   "outputs": [],
   "source": [
    "growth = np.cumsum(distribution)"
   ]
  },
  {
   "cell_type": "code",
   "execution_count": null,
   "metadata": {},
   "outputs": [],
   "source": [
    "plt.plot(growth, 'ro')"
   ]
  },
  {
   "cell_type": "markdown",
   "metadata": {},
   "source": [
    "### Is network 1 a *small world* ?!\n",
    "\n",
    "***YES IT IS.*** As it can be seen in the above plots almost every nodes can be reached in 6 degrees or less from every node in the graph."
   ]
  },
  {
   "cell_type": "markdown",
   "metadata": {},
   "source": [
    "## Exercise 2.5: Network comparison\n",
    "You will now focus on a second real network network2.csv located in the data/ folder.\n",
    "1. Using the properties computed in Exercises 2.1, 2.2, 2.3 and 2.4 explore the structure of this network.\n",
    "2. How does this network differ from the previous one?"
   ]
  },
  {
   "cell_type": "code",
   "execution_count": 23,
   "metadata": {},
   "outputs": [],
   "source": [
    "network2_df = pd.read_csv(\"../data/network2.csv\", skiprows=2, names=['from', 'to'])"
   ]
  },
  {
   "cell_type": "code",
   "execution_count": 24,
   "metadata": {},
   "outputs": [],
   "source": [
    "G2 = nx.from_pandas_edgelist(network2_df, 'from', 'to')"
   ]
  },
  {
   "cell_type": "code",
   "execution_count": 25,
   "metadata": {},
   "outputs": [
    {
     "name": "stdout",
     "output_type": "stream",
     "text": [
      "There are 26542 nodes in network2 !\n",
      "There are 43516 edges in network2 !\n"
     ]
    }
   ],
   "source": [
    "print(f'There are {len(list(G2.nodes))} nodes in network2 !')\n",
    "print(f'There are {len(list(G2.edges))} edges in network2 !')"
   ]
  },
  {
   "cell_type": "code",
   "execution_count": 26,
   "metadata": {},
   "outputs": [],
   "source": [
    "# List of degrees for each node in the graph\n",
    "degrees2 = np.array([degree for node, degree in G2.degree])"
   ]
  },
  {
   "cell_type": "code",
   "execution_count": 27,
   "metadata": {},
   "outputs": [],
   "source": [
    "# Indices of the nodes in decreasing order w.r.t their degree\n",
    "indices2 = np.argsort(degrees2)[::-1]"
   ]
  },
  {
   "cell_type": "code",
   "execution_count": 41,
   "metadata": {},
   "outputs": [
    {
     "data": {
      "image/png": "[encoded data removed]",
      "text/plain": [
       "<Figure size 432x288 with 1 Axes>"
      ]
     },
     "metadata": {
      "needs_background": "light"
     },
     "output_type": "display_data"
    }
   ],
   "source": [
    "plt.hist(degrees2, bins=15)\n",
    "plt.yscale('log')\n",
    "plt.title(\"Degree distribution of network 2\")\n",
    "plt.xlabel(\"Degree\")\n",
    "plt.ylabel(\"Number of nodes\")\n",
    "plt.grid()\n",
    "plt.show()"
   ]
  },
  {
   "cell_type": "markdown",
   "metadata": {},
   "source": [
    "### Another view of the distribution"
   ]
  },
  {
   "cell_type": "code",
   "execution_count": 35,
   "metadata": {},
   "outputs": [
    {
     "data": {
      "image/png": "[encoded data removed]",
      "text/plain": [
       "<Figure size 432x288 with 1 Axes>"
      ]
     },
     "metadata": {
      "needs_background": "light"
     },
     "output_type": "display_data"
    }
   ],
   "source": [
    "plt.plot(np.bincount(degrees2), 'ro')\n",
    "plt.title(\"Degree distribution of network 2\")\n",
    "plt.xlabel(\"Degree\")\n",
    "plt.ylabel(\"Number of nodes\")\n",
    "plt.grid()\n",
    "plt.show()"
   ]
  },
  {
   "cell_type": "code",
   "execution_count": 42,
   "metadata": {},
   "outputs": [],
   "source": [
    "mean2 = np.mean(degrees2)\n",
    "std2  = np.std(degrees2)\n",
    "var2  = std2 * std2"
   ]
  },
  {
   "cell_type": "code",
   "execution_count": 43,
   "metadata": {},
   "outputs": [
    {
     "name": "stdout",
     "output_type": "stream",
     "text": [
      "Degree distribution has \n",
      " \t mean : 3.2790294627383014 \n",
      " \t std  : 0.90164134609217 \n",
      " \t var  : 0.8129571169829002\n"
     ]
    }
   ],
   "source": [
    "print(f'Degree distribution has \\n \\t mean : {mean2} \\n \\t std  : {std2} \\n \\t var  : {var2}')"
   ]
  },
  {
   "cell_type": "code",
   "execution_count": 44,
   "metadata": {},
   "outputs": [],
   "source": [
    "ccdf2 = 1 - np.cumsum(np.bincount(degrees2)) / len(list(G2.nodes))"
   ]
  },
  {
   "cell_type": "code",
   "execution_count": 45,
   "metadata": {},
   "outputs": [
    {
     "data": {
      "image/png": "[encoded data removed]",
      "text/plain": [
       "<Figure size 432x288 with 1 Axes>"
      ]
     },
     "metadata": {
      "needs_background": "light"
     },
     "output_type": "display_data"
    }
   ],
   "source": [
    "plt.plot(ccdf2)\n",
    "plt.xscale('log')\n",
    "plt.yscale('log')\n",
    "plt.title(\"CCDF\")\n",
    "plt.xlabel(\"Degrees\")\n",
    "plt.ylabel(\"Number of nodes\")\n",
    "plt.grid()\n",
    "plt.show()"
   ]
  },
  {
   "cell_type": "code",
   "execution_count": 46,
   "metadata": {},
   "outputs": [],
   "source": [
    "cc2 = list(nx.connected_components(G2))"
   ]
  },
  {
   "cell_type": "code",
   "execution_count": 47,
   "metadata": {},
   "outputs": [
    {
     "name": "stdout",
     "output_type": "stream",
     "text": [
      "There are 5 components in network2\n"
     ]
    }
   ],
   "source": [
    "print(f'There are {len(cc2)} components in network2')"
   ]
  },
  {
   "cell_type": "code",
   "execution_count": 51,
   "metadata": {},
   "outputs": [],
   "source": [
    "sorted_cc2 = sorted(cc2, key=len)[::-1]"
   ]
  },
  {
   "cell_type": "code",
   "execution_count": 52,
   "metadata": {},
   "outputs": [
    {
     "name": "stdout",
     "output_type": "stream",
     "text": [
      "    CC \t # Nodes\n",
      "     1 \t  26481\n",
      "     2 \t     30\n",
      "     3 \t     24\n",
      "     4 \t      5\n",
      "     5 \t      2\n"
     ]
    }
   ],
   "source": [
    "dict_cc2 = [\"%6d \\t %6d\" % (i + 1, len(sorted_cc2[i])) for i in range(len(sorted_cc2))][:5]\n",
    "print(\"%6s \\t %6s\" % (\"CC\", \"# Nodes\"))\n",
    "print('\\n'.join(dict_cc2))"
   ]
  },
  {
   "cell_type": "code",
   "execution_count": 57,
   "metadata": {},
   "outputs": [
    {
     "name": "stdout",
     "output_type": "stream",
     "text": [
      "The giant cc contains 99.77017557079346 % of the network's nodes with 26481 nodes out of 26542.\n"
     ]
    }
   ],
   "source": [
    "print(f\"The giant cc contains {100 * len(sorted_cc2[0]) / len(list(G2.nodes))} % of the network's nodes with {len(sorted_cc2[0])} nodes out of {len(list(G2.nodes))}.\")"
   ]
  },
  {
   "cell_type": "code",
   "execution_count": null,
   "metadata": {},
   "outputs": [],
   "source": [
    "dist2 = dict(nx.shortest_path_length(G2))"
   ]
  },
  {
   "cell_type": "code",
   "execution_count": null,
   "metadata": {},
   "outputs": [],
   "source": [
    "df_dist2 = pd.DataFrame(dist2)"
   ]
  },
  {
   "cell_type": "code",
   "execution_count": null,
   "metadata": {},
   "outputs": [],
   "source": [
    "df2 = df_dist2.replace(np.NaN, -1)"
   ]
  },
  {
   "cell_type": "code",
   "execution_count": null,
   "metadata": {},
   "outputs": [],
   "source": [
    "distribution2 = np.zeros(30) # index 0:0, 1:1, ... , 28 : 28, 29 : -1\n",
    "\n",
    "for i in range(df2.shape[1]):\n",
    "    serie = df2[i].value_counts()\n",
    "    for l in serie.index:\n",
    "        distribution2[int(l)] += serie[l]"
   ]
  },
  {
   "cell_type": "code",
   "execution_count": null,
   "metadata": {},
   "outputs": [],
   "source": [
    "print(f'Real total number of paths in the graph G : {len(list(G2.nodes))**2}')\n",
    "print(f'Number of paths considered in our distribution : {np.sum(distribution2)}')"
   ]
  },
  {
   "cell_type": "code",
   "execution_count": null,
   "metadata": {},
   "outputs": [],
   "source": [
    "plt.plot(distribution2, 'ro')"
   ]
  },
  {
   "cell_type": "code",
   "execution_count": null,
   "metadata": {},
   "outputs": [],
   "source": [
    "growth2 = np.cumsum(distribution2)"
   ]
  },
  {
   "cell_type": "code",
   "execution_count": null,
   "metadata": {},
   "outputs": [],
   "source": [
    "plt.plot(growth2, 'ro')"
   ]
  },
  {
   "cell_type": "markdown",
   "metadata": {},
   "source": [
    "### Is network 2 a *small world* ?!\n",
    "\n",
    "***TODO***"
   ]
  },
  {
   "cell_type": "markdown",
   "metadata": {},
   "source": [
    "### Exercise 2.6: Network identification\n",
    "Among the two networks you analyzed:\n",
    "- One of them is the network of roads around the city of New-York, i.e., nodes are intersections and edges are roads between them.\n",
    "- The other one corresponds to a subgraph of routers comprising the Internet, i.e., nodes are routers and edges are physical links between them.\n",
    "\n",
    "Can you guess which one is which? Justify your answer."
   ]
  },
  {
   "cell_type": "markdown",
   "metadata": {
    "collapsed": true
   },
   "source": [
    "- Network 1 is internet subgraph\n",
    "- Network 2 is roads of NYC"
   ]
  },
  {
   "cell_type": "markdown",
   "metadata": {},
   "source": [
    "#### Justification\n",
    "\n",
    "The idea behind the internet subgraph is to have a small world. NYC has a lot of 4-way intersections and has only 5 connected components."
   ]
  }
 ],
 "metadata": {
  "kernelspec": {
   "display_name": "Python 3",
   "language": "python",
   "name": "python3"
  },
  "language_info": {
   "codemirror_mode": {
    "name": "ipython",
    "version": 3
   },
   "file_extension": ".py",
   "mimetype": "text/x-python",
   "name": "python",
   "nbconvert_exporter": "python",
   "pygments_lexer": "ipython3",
   "version": "3.8.5"
  }
 },
 "nbformat": 4,
 "nbformat_minor": 2
}
