{
 "cells": [
  {
   "cell_type": "markdown",
   "metadata": {},
   "source": [
    "# Networks: structure, evolution & processes\n",
    "**Internet Analytics - Lab 2**\n",
    "\n",
    "---\n",
    "\n",
    "**Group:** *H*\n",
    "\n",
    "**Names:**\n",
    "\n",
    "* *BAFFOU Jérémy*\n",
    "* *BASSETO Antoine*\n",
    "* *PINTO Andrea*\n",
    "\n",
    "---\n",
    "\n",
    "#### Instructions\n",
    "\n",
    "*This is a template for part 2 of the lab. Clearly write your answers, comments and interpretations in Markodown cells. Don't forget that you can add $\\LaTeX$ equations in these cells. Feel free to add or remove any cell.*\n",
    "\n",
    "*Please properly comment your code. Code readability will be considered for grading. To avoid long cells of codes in the notebook, you can also embed long python functions and classes in a separate module. Don’t forget to hand in your module if that is the case. In multiple exercises, you are required to come up with your own method to solve various problems. Be creative and clearly motivate and explain your methods. Creativity and clarity will be considered for grading.*"
   ]
  },
  {
   "cell_type": "markdown",
   "metadata": {},
   "source": [
    "---\n",
    "\n",
    "## 2.2 Network sampling\n",
    "\n",
    "### Exercise 2.7: Random walk on the Facebook network\n",
    "\n",
    "Crawl the Facebook graph to estimate the average age of users in the social network using the random walk approach of Algorithm 2.1, starting from node \"a5771bce93e200c36f7cd9dfd0e5deaa\". What is your estimation of the average age of a Facebook user? How many users did you visit to get this estimation? Hint: Refer to the helper notebook ix−lab2−helper.ipynb to get an example code illustrating how to query the API."
   ]
  },
  {
   "cell_type": "code",
   "execution_count": 1,
   "metadata": {},
   "outputs": [],
   "source": [
    "import random\n",
    "import requests\n",
    "import numpy as np"
   ]
  },
  {
   "cell_type": "code",
   "execution_count": 2,
   "metadata": {},
   "outputs": [],
   "source": [
    "URL_TEMPLATE = 'http://iccluster041.iccluster.epfl.ch:5050/v1.0/facebook?user={user_id}'\n",
    "start_uid = 'a5771bce93e200c36f7cd9dfd0e5deaa'"
   ]
  },
  {
   "cell_type": "code",
   "execution_count": 5,
   "metadata": {},
   "outputs": [],
   "source": [
    "def request(id):\n",
    "    url = URL_TEMPLATE.format(user_id=id)\n",
    "    response = requests.get(url)\n",
    "    return response.json()"
   ]
  },
  {
   "cell_type": "code",
   "execution_count": 7,
   "metadata": {},
   "outputs": [],
   "source": [
    "data = request(start_uid)"
   ]
  },
  {
   "cell_type": "code",
   "execution_count": 8,
   "metadata": {},
   "outputs": [
    {
     "data": {
      "text/plain": [
       "13"
      ]
     },
     "execution_count": 8,
     "metadata": {},
     "output_type": "execute_result"
    }
   ],
   "source": [
    "data['age']"
   ]
  },
  {
   "cell_type": "code",
   "execution_count": 11,
   "metadata": {},
   "outputs": [
    {
     "data": {
      "text/plain": [
       "['0065470d21f5f095cc304a048984387a',\n",
       " '634f079997d1329f9504e68870b33a9f',\n",
       " '6005f35032ccbc32c007209c9547a709',\n",
       " '08f3a0aaa93613f038951a575d280c7f',\n",
       " 'c55d0ff1eae9cddaf7210e9c71723525']"
      ]
     },
     "execution_count": 11,
     "metadata": {},
     "output_type": "execute_result"
    }
   ],
   "source": [
    "data['friends'][0:5]"
   ]
  },
  {
   "cell_type": "code",
   "execution_count": 12,
   "metadata": {},
   "outputs": [],
   "source": [
    "def infos(users):\n",
    "    print(f'Crawled {len(users)} nodes in the network')\n",
    "    print(f'From which {len(set(users))} are unique users')"
   ]
  },
  {
   "cell_type": "code",
   "execution_count": 49,
   "metadata": {},
   "outputs": [],
   "source": [
    "def average_age_naive(users, ages):\n",
    "    uniques, indices = np.unique(users, return_index=True)\n",
    "    filtered_ages = np.array(ages)[indices]\n",
    "    return np.sum(filtered_ages) / len(uniques)"
   ]
  },
  {
   "cell_type": "code",
   "execution_count": 51,
   "metadata": {},
   "outputs": [],
   "source": [
    "def average_age_smart(users, ages, degrees):\n",
    "    uniques, indices = np.unique(users, return_index=True)\n",
    "    filtered_ages = np.array(ages)[indices]\n",
    "    filtered_degrees = np.array(degrees)[indices]\n",
    "    return np.sum(filtered_ages / filtered_degrees) / np.sum(1/filtered_degrees)"
   ]
  },
  {
   "cell_type": "code",
   "execution_count": 56,
   "metadata": {},
   "outputs": [],
   "source": [
    "def average_age_smart_2(users, ages, degrees):\n",
    "    return np.sum(ages / degrees) / np.sum(1/degrees)"
   ]
  },
  {
   "cell_type": "code",
   "execution_count": 31,
   "metadata": {},
   "outputs": [],
   "source": [
    "# fake shit\n",
    "def get_next_uid(uid, friends):\n",
    "    succ = random.choice(friends)\n",
    "    while succ != uid:\n",
    "        succ = random.choice(friends)\n",
    "    return succ"
   ]
  },
  {
   "cell_type": "code",
   "execution_count": 45,
   "metadata": {},
   "outputs": [],
   "source": [
    "def random_walk(sid, iters):\n",
    "    data = request(sid)\n",
    "    \n",
    "    users = []\n",
    "    ages = []\n",
    "    degrees = []\n",
    "    \n",
    "    users.append(sid)\n",
    "    ages.append(data['age'])\n",
    "    degrees.append(len(data['friends']))\n",
    "    \n",
    "    epoch = 1\n",
    "    uid = random.choice(data['friends'])\n",
    "    \n",
    "    while epoch < iters: # uid != sid \n",
    "        data = request(uid)\n",
    "        users.append(uid)\n",
    "        ages.append(data['age'])\n",
    "        degrees.append(len(data['friends']))\n",
    "        uid = random.choice(data['friends'])\n",
    "        epoch += 1\n",
    "        print(epoch, end='\\r')\n",
    "    \n",
    "    return users, ages, degrees"
   ]
  },
  {
   "cell_type": "code",
   "execution_count": 60,
   "metadata": {},
   "outputs": [
    {
     "name": "stdout",
     "output_type": "stream",
     "text": [
      "1000\r"
     ]
    }
   ],
   "source": [
    "users, ages, degrees = naive_random_walk(start_uid, 1000)"
   ]
  },
  {
   "cell_type": "code",
   "execution_count": 61,
   "metadata": {},
   "outputs": [
    {
     "name": "stdout",
     "output_type": "stream",
     "text": [
      "Crawled 1000 nodes in the network\n",
      "From which 754 are unique users\n",
      "20.19628647214854\n",
      "39.199671292348036\n",
      "43.50092458127409\n"
     ]
    }
   ],
   "source": [
    "infos(users)\n",
    "print(average_age_naive(users, ages))\n",
    "print(average_age_smart(users, ages, degrees))\n",
    "print(average_age_smart_2(np.array(users), np.array(ages), np.array(degrees)))"
   ]
  },
  {
   "cell_type": "code",
   "execution_count": null,
   "metadata": {},
   "outputs": [],
   "source": []
  }
 ],
 "metadata": {
  "kernelspec": {
   "display_name": "Python 3",
   "language": "python",
   "name": "python3"
  },
  "language_info": {
   "codemirror_mode": {
    "name": "ipython",
    "version": 3
   },
   "file_extension": ".py",
   "mimetype": "text/x-python",
   "name": "python",
   "nbconvert_exporter": "python",
   "pygments_lexer": "ipython3",
   "version": "3.8.5"
  }
 },
 "nbformat": 4,
 "nbformat_minor": 2
}
