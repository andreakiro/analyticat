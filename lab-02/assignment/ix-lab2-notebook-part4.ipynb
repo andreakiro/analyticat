{
 "cells": [
  {
   "cell_type": "markdown",
   "metadata": {},
   "source": [
    "# Networks: structure, evolution & processes\n",
    "**Internet Analytics - Lab 2**\n",
    "\n",
    "---\n",
    "\n",
    "**Group:** *H*\n",
    "\n",
    "**Names:**\n",
    "\n",
    "* *BAFFOU Jérémy*\n",
    "* *BASSETO Antoine*\n",
    "* *PINTO Andrea*\n",
    "\n",
    "---\n",
    "\n",
    "#### Instructions\n",
    "\n",
    "*This is a template for part 4 of the lab. Clearly write your answers, comments and interpretations in Markodown cells. Don't forget that you can add $\\LaTeX$ equations in these cells. Feel free to add or remove any cell.*\n",
    "\n",
    "*Please properly comment your code. Code readability will be considered for grading. To avoid long cells of codes in the notebook, you can also embed long python functions and classes in a separate module. Don’t forget to hand in your module if that is the case. In multiple exercises, you are required to come up with your own method to solve various problems. Be creative and clearly motivate and explain your methods. Creativity and clarity will be considered for grading.*"
   ]
  },
  {
   "cell_type": "code",
   "execution_count": 1,
   "metadata": {},
   "outputs": [],
   "source": [
    "import numpy as np\n",
    "import random"
   ]
  },
  {
   "cell_type": "markdown",
   "metadata": {},
   "source": [
    "---\n",
    "\n",
    "## 2.4 PageRank\n",
    "\n",
    "### 2.4.1 Random Surfer Model\n",
    "\n",
    "#### Exercise 2.12"
   ]
  },
  {
   "cell_type": "code",
   "execution_count": 2,
   "metadata": {},
   "outputs": [],
   "source": [
    "def file_to_directed_graph(filename):\n",
    "    \"\"\" Parse the adjacency list into a graph\n",
    "        in the form of a dictionnary.\n",
    "        \n",
    "        :param filename: name of the file containing the adjacency list\n",
    "        \n",
    "        :return: graph in the form of a dictionnary with an array of\n",
    "        adjacent nodes as the value asociated to each key\n",
    "    \"\"\"\n",
    "    \n",
    "    with open(\"../data/\" + filename) as f:\n",
    "        content = f.read().splitlines()\n",
    "    \n",
    "    graph = {}\n",
    "    for line in content:\n",
    "        c = list(map(int, line.split()))\n",
    "        graph[int(c[0])] = c[1:]\n",
    "        \n",
    "    return graph"
   ]
  },
  {
   "cell_type": "code",
   "execution_count": 3,
   "metadata": {},
   "outputs": [],
   "source": [
    "def page_rank_naive(graph, nb_iterations):\n",
    "    \"\"\" Naive implementation of the page rank algorithm,\n",
    "        not doing anything in particular to counteract dangling nodes\n",
    "        or unconnected components in the graph.\n",
    "        \n",
    "        :param graph: graph to explore, in the form of a dictionnary \n",
    "        with an array of adjacent nodes as the value asociated to each key\n",
    "        :param nb_iterations: the number of iterations the random walk is\n",
    "        going to try to take to explore the graph\n",
    "        \n",
    "        :return: the score associated to each node, normalised, in the form of an array\n",
    "    \"\"\"\n",
    "    \n",
    "    scores = np.zeros(len(graph))\n",
    "    current = random.choice(list(graph))\n",
    "    scores[current] += 1\n",
    "    \n",
    "    for i in range(nb_iterations):\n",
    "        \n",
    "        # If the current node is a dangling one, we can just return the current result as nothing else can be done\n",
    "        if not graph[current]:\n",
    "            return scores / np.sum(scores)\n",
    "    \n",
    "        current = int(random.choice(graph[current]))\n",
    "        scores[current] += 1\n",
    "        \n",
    "    return scores / np.sum(scores)"
   ]
  },
  {
   "cell_type": "code",
   "execution_count": 39,
   "metadata": {},
   "outputs": [],
   "source": [
    "def print_info(filename, naive=False):\n",
    "    \"\"\" Utility function to print some information on a given graph.\n",
    "    \n",
    "        :param filename: name of the file containing the adjacency list\n",
    "        :param naive: whether to use the naive version of page_rank or not\n",
    "    \"\"\"\n",
    "    graph = file_to_directed_graph(filename)\n",
    "    nb_iterations = 500\n",
    "\n",
    "    print(f\"The graph : {graph}\\n\")\n",
    "\n",
    "    for i in range(10):\n",
    "        if naive:\n",
    "            scores = page_rank_naive(graph, nb_iterations)\n",
    "        else:\n",
    "            scores = page_rank(graph, nb_iterations)\n",
    "        print(f\"trial {i} : {scores}\")\n",
    "        print(f\"\\tranking : {np.argsort(scores)}\")\n",
    "        print(\"\\n\")"
   ]
  },
  {
   "cell_type": "code",
   "execution_count": 34,
   "metadata": {},
   "outputs": [
    {
     "name": "stdout",
     "output_type": "stream",
     "text": [
      "The graph : {0: [1, 4], 1: [], 2: [3], 3: [0, 1, 2], 4: [1]}\n",
      "\n",
      "trial 0 : [0. 1. 0. 0. 0.]\n",
      "\tranking : [0 2 3 4 1]\n",
      "\n",
      "\n",
      "trial 1 : [0.         0.33333333 0.33333333 0.33333333 0.        ]\n",
      "\tranking : [0 4 1 2 3]\n",
      "\n",
      "\n",
      "trial 2 : [0.  0.5 0.  0.5 0. ]\n",
      "\tranking : [0 2 4 1 3]\n",
      "\n",
      "\n",
      "trial 3 : [0.         0.33333333 0.33333333 0.33333333 0.        ]\n",
      "\tranking : [0 4 1 2 3]\n",
      "\n",
      "\n",
      "trial 4 : [0. 1. 0. 0. 0.]\n",
      "\tranking : [0 2 3 4 1]\n",
      "\n",
      "\n",
      "trial 5 : [0.         0.08333333 0.41666667 0.5        0.        ]\n",
      "\tranking : [0 4 1 2 3]\n",
      "\n",
      "\n",
      "trial 6 : [0.5 0.5 0.  0.  0. ]\n",
      "\tranking : [2 3 4 0 1]\n",
      "\n",
      "\n",
      "trial 7 : [0.   0.25 0.25 0.5  0.  ]\n",
      "\tranking : [0 4 1 2 3]\n",
      "\n",
      "\n",
      "trial 8 : [0.         0.33333333 0.33333333 0.33333333 0.        ]\n",
      "\tranking : [0 4 1 2 3]\n",
      "\n",
      "\n",
      "trial 9 : [0.  0.5 0.  0.  0.5]\n",
      "\tranking : [0 2 3 1 4]\n",
      "\n",
      "\n"
     ]
    }
   ],
   "source": [
    "print_info(\"absorbing.graph\", naive=True)"
   ]
  },
  {
   "cell_type": "markdown",
   "metadata": {},
   "source": [
    "As the graph presents an absorbing node in node 1, if the random walk starts there node 1 will have a maximum score.\n",
    "\n",
    "In general, we can see that the results are quite disparate from one trial to the other, because the presence of a dangling node comes down to having a variable number of iterations from one trial to the next, depending on how soon the random walk gets there."
   ]
  },
  {
   "cell_type": "code",
   "execution_count": 35,
   "metadata": {
    "scrolled": false
   },
   "outputs": [
    {
     "name": "stdout",
     "output_type": "stream",
     "text": [
      "The graph : {0: [1], 1: [2, 3], 2: [0], 3: [2], 4: [5, 6], 5: [6], 6: [7], 7: [4]}\n",
      "\n",
      "trial 0 : [0.         0.         0.         0.         0.28143713 0.15768463\n",
      " 0.28143713 0.27944112]\n",
      "\tranking : [0 1 2 3 5 7 4 6]\n",
      "\n",
      "\n",
      "trial 1 : [0.28143713 0.28143713 0.28143713 0.15568862 0.         0.\n",
      " 0.         0.        ]\n",
      "\tranking : [4 5 6 7 3 0 1 2]\n",
      "\n",
      "\n",
      "trial 2 : [0.28343313 0.28343313 0.28143713 0.15169661 0.         0.\n",
      " 0.         0.        ]\n",
      "\tranking : [4 5 6 7 3 2 0 1]\n",
      "\n",
      "\n",
      "trial 3 : [0.         0.         0.         0.         0.28542914 0.14570858\n",
      " 0.28343313 0.28542914]\n",
      "\tranking : [0 1 2 3 5 6 4 7]\n",
      "\n",
      "\n",
      "trial 4 : [0.         0.         0.         0.         0.28542914 0.14371257\n",
      " 0.28542914 0.28542914]\n",
      "\tranking : [0 1 2 3 5 4 6 7]\n",
      "\n",
      "\n",
      "trial 5 : [0.         0.         0.         0.         0.28742515 0.13772455\n",
      " 0.28742515 0.28742515]\n",
      "\tranking : [0 1 2 3 5 4 6 7]\n",
      "\n",
      "\n",
      "trial 6 : [0.28542914 0.28542914 0.28542914 0.14371257 0.         0.\n",
      " 0.         0.        ]\n",
      "\tranking : [4 5 6 7 3 0 1 2]\n",
      "\n",
      "\n",
      "trial 7 : [0.28343313 0.28143713 0.28143713 0.15369261 0.         0.\n",
      " 0.         0.        ]\n",
      "\tranking : [4 5 6 7 3 1 2 0]\n",
      "\n",
      "\n",
      "trial 8 : [0.27944112 0.27744511 0.27744511 0.16566866 0.         0.\n",
      " 0.         0.        ]\n",
      "\tranking : [4 5 6 7 3 1 2 0]\n",
      "\n",
      "\n",
      "trial 9 : [0.         0.         0.         0.         0.28542914 0.14570858\n",
      " 0.28343313 0.28542914]\n",
      "\tranking : [0 1 2 3 5 6 4 7]\n",
      "\n",
      "\n"
     ]
    }
   ],
   "source": [
    "print_info(\"components.graph\", naive=True)"
   ]
  },
  {
   "cell_type": "markdown",
   "metadata": {},
   "source": [
    "As the graph presents two connected components, depending on where the random walk starts only one is explored. This can be observed in the above trials where there always is either the first or last four nodes with a score of 0.\n",
    "\n",
    "Apart from this, because there are no dangling nodes, the scores for each component are quite similar from one trial to the next when they are the one being explored."
   ]
  },
  {
   "cell_type": "markdown",
   "metadata": {},
   "source": [
    "#### Exercise 2.13"
   ]
  },
  {
   "cell_type": "code",
   "execution_count": 36,
   "metadata": {},
   "outputs": [],
   "source": [
    "def page_rank(graph, nb_iterations, damping_factor=0.15):\n",
    "    \"\"\" Implementation of the page rank algorithm.\n",
    "        \n",
    "        :param graph: graph to explore, in the form of a dictionnary \n",
    "        with an array of adjacent nodes as the value asociated to each key\n",
    "        :param nb_iterations: the number of iterations the random walk is\n",
    "        going to try to take to explore the graph\n",
    "        :param damping_factor: the probability with which the random walk with just\n",
    "        start from a new random node\n",
    "        \n",
    "        :return: the score associated to each node, normalised, in the form of an array\n",
    "    \"\"\"\n",
    "    scores = np.zeros(len(graph))\n",
    "    current = random.choice(list(graph))\n",
    "    scores[current] += 1\n",
    "    \n",
    "    for i in range(nb_iterations):\n",
    "        if np.random.choice([True, False], p=[damping_factor, 1-damping_factor]):\n",
    "            current = random.choice(list(graph))\n",
    "        elif not graph[current]:\n",
    "            current = random.choice(list(graph))\n",
    "        else:\n",
    "            current = int(random.choice(graph[current]))\n",
    "        scores[current] += 1\n",
    "        \n",
    "    return scores / np.sum(scores)"
   ]
  },
  {
   "cell_type": "code",
   "execution_count": 37,
   "metadata": {},
   "outputs": [
    {
     "name": "stdout",
     "output_type": "stream",
     "text": [
      "The graph : {0: [1, 4], 1: [], 2: [3], 3: [0, 1, 2], 4: [1]}\n",
      "\n",
      "trial 0 : [0.14171657 0.31936128 0.18163673 0.23552894 0.12175649]\n",
      "\tranking : [4 0 2 3 1]\n",
      "\n",
      "\n",
      "trial 1 : [0.1756487  0.38922156 0.11177645 0.18962076 0.13373253]\n",
      "\tranking : [2 4 0 3 1]\n",
      "\n",
      "\n",
      "trial 2 : [0.13772455 0.32934132 0.15568862 0.22754491 0.1497006 ]\n",
      "\tranking : [0 4 2 3 1]\n",
      "\n",
      "\n",
      "trial 3 : [0.13572854 0.29341317 0.17365269 0.24351297 0.15369261]\n",
      "\tranking : [0 4 2 3 1]\n",
      "\n",
      "\n",
      "trial 4 : [0.15568862 0.33732535 0.15169661 0.21756487 0.13772455]\n",
      "\tranking : [4 2 0 3 1]\n",
      "\n",
      "\n",
      "trial 5 : [0.14770459 0.32734531 0.15568862 0.21157685 0.15768463]\n",
      "\tranking : [0 2 4 3 1]\n",
      "\n",
      "\n",
      "trial 6 : [0.14171657 0.32135729 0.15768463 0.22155689 0.15768463]\n",
      "\tranking : [0 2 4 3 1]\n",
      "\n",
      "\n",
      "trial 7 : [0.13373253 0.37125749 0.13572854 0.20558882 0.15369261]\n",
      "\tranking : [0 2 4 3 1]\n",
      "\n",
      "\n",
      "trial 8 : [0.16167665 0.38123752 0.13373253 0.17365269 0.1497006 ]\n",
      "\tranking : [2 4 0 3 1]\n",
      "\n",
      "\n",
      "trial 9 : [0.17165669 0.35329341 0.13572854 0.19760479 0.14171657]\n",
      "\tranking : [2 4 0 3 1]\n",
      "\n",
      "\n"
     ]
    }
   ],
   "source": [
    "print_info(\"absorbing.graph\")"
   ]
  },
  {
   "cell_type": "markdown",
   "metadata": {},
   "source": [
    "Explain result here"
   ]
  },
  {
   "cell_type": "code",
   "execution_count": 38,
   "metadata": {},
   "outputs": [
    {
     "name": "stdout",
     "output_type": "stream",
     "text": [
      "The graph : {0: [1], 1: [2, 3], 2: [0], 3: [2], 4: [5, 6], 5: [6], 6: [7], 7: [4]}\n",
      "\n",
      "trial 0 : [0.15568862 0.14770459 0.1497006  0.06986028 0.13173653 0.06786427\n",
      " 0.14770459 0.12974052]\n",
      "\tranking : [5 3 7 4 1 6 2 0]\n",
      "\n",
      "\n",
      "trial 1 : [0.1257485  0.1237525  0.13173653 0.06986028 0.16167665 0.08782435\n",
      " 0.15369261 0.14570858]\n",
      "\tranking : [3 5 1 0 2 7 6 4]\n",
      "\n",
      "\n",
      "trial 2 : [0.13572854 0.13772455 0.14770459 0.06387226 0.13572854 0.08782435\n",
      " 0.14770459 0.14371257]\n",
      "\tranking : [3 5 0 4 1 7 2 6]\n",
      "\n",
      "\n",
      "trial 3 : [0.16367265 0.17165669 0.17964072 0.10578842 0.10179641 0.0758483\n",
      " 0.10578842 0.09580838]\n",
      "\tranking : [5 7 4 3 6 0 1 2]\n",
      "\n",
      "\n",
      "trial 4 : [0.11976048 0.11976048 0.1237525  0.06586826 0.15768463 0.09381238\n",
      " 0.16167665 0.15768463]\n",
      "\tranking : [3 5 0 1 2 4 7 6]\n",
      "\n",
      "\n",
      "trial 5 : [0.15568862 0.13972056 0.15169661 0.07185629 0.13373253 0.06986028\n",
      " 0.13772455 0.13972056]\n",
      "\tranking : [5 3 4 6 1 7 2 0]\n",
      "\n",
      "\n",
      "trial 6 : [0.14371257 0.14570858 0.14171657 0.06586826 0.14371257 0.08383234\n",
      " 0.13972056 0.13572854]\n",
      "\tranking : [3 5 7 6 2 0 4 1]\n",
      "\n",
      "\n",
      "trial 7 : [0.15369261 0.13373253 0.15768463 0.08383234 0.11976048 0.07185629\n",
      " 0.13972056 0.13972056]\n",
      "\tranking : [5 3 4 1 6 7 0 2]\n",
      "\n",
      "\n",
      "trial 8 : [0.10179641 0.09580838 0.10379242 0.0499002  0.18363273 0.09181637\n",
      " 0.18363273 0.18962076]\n",
      "\tranking : [3 5 1 0 2 4 6 7]\n",
      "\n",
      "\n",
      "trial 9 : [0.15169661 0.12974052 0.14770459 0.06387226 0.12774451 0.07984032\n",
      " 0.14371257 0.15568862]\n",
      "\tranking : [3 5 4 1 6 2 0 7]\n",
      "\n",
      "\n"
     ]
    }
   ],
   "source": [
    "print_info(\"components.graph\")"
   ]
  },
  {
   "cell_type": "markdown",
   "metadata": {},
   "source": [
    "Explain result here"
   ]
  },
  {
   "cell_type": "markdown",
   "metadata": {},
   "source": [
    "---\n",
    "\n",
    "### 2.4.2 Power Iteration Method\n",
    "\n",
    "#### Exercise 2.14: Power Iteration method"
   ]
  },
  {
   "cell_type": "code",
   "execution_count": 40,
   "metadata": {},
   "outputs": [],
   "source": [
    "def file_to_google_matrix(filename, theta=0.85):\n",
    "    \"\"\" Computation of the google matrix for the given graph.\n",
    "        \n",
    "        :param filename: name of the file containing the adjacency list\n",
    "        :param theta: probability of the random walk to stay on its current\n",
    "        path, 1 - theta is therefore the probability to start from a new random\n",
    "        node\n",
    "        \n",
    "        :return: google matrix in the form of an np.array\n",
    "    \"\"\"\n",
    "    \n",
    "    with open(\"../data/\" + filename) as f:\n",
    "        content = f.read().splitlines()\n",
    "    \n",
    "    nb_nodes = len(content)\n",
    "    g = np.zeros((nb_nodes, nb_nodes))\n",
    "    \n",
    "    for line in content:\n",
    "        c = list(map(int, line.split()))\n",
    "        outgoing_degree = len(c) - 1\n",
    "        \n",
    "        if outgoing_degree == 0:\n",
    "            g[c[0]] = np.ones(nb_nodes) / nb_nodes\n",
    "        else:\n",
    "            for i in c[1:]:\n",
    "                g[c[0]][i] = 1 / outgoing_degree\n",
    "        \n",
    "    return theta * g + (1 - theta) * np.ones((nb_nodes, nb_nodes)) / nb_nodes"
   ]
  },
  {
   "cell_type": "code",
   "execution_count": 41,
   "metadata": {},
   "outputs": [],
   "source": [
    "def power_iteration(g, nb_iterations=50):\n",
    "    \"\"\" Computation of the score of each node given a google matrix.\n",
    "        \n",
    "        :param g: google matrix\n",
    "        :param nb_iterations: number of iteration used to calculate \n",
    "        the score vector\n",
    "        \n",
    "        :return: the score vector\n",
    "    \"\"\"\n",
    "    \n",
    "    v = np.ones(np.shape(g)[0]) / np.shape(g)[0]\n",
    "\n",
    "    for i in range(nb_iterations):\n",
    "        v = v @ g\n",
    "\n",
    "    return v"
   ]
  },
  {
   "cell_type": "code",
   "execution_count": 42,
   "metadata": {},
   "outputs": [],
   "source": [
    "def get_wikipedia_pages(id_array):\n",
    "    \"\"\" Utility function to get the title of Wikipedia pages given their index\n",
    "        \n",
    "        :param id_array: an array containing the indexes of the pages of which we\n",
    "        want the titles.\n",
    "        \n",
    "        :return: list of strings corresponding to the titles of the pages, given in\n",
    "        the same order as in id_array\n",
    "    \"\"\"\n",
    "    \n",
    "    with open(\"../data/wikipedia_titles.tsv\") as f:\n",
    "        # Strip away the first line, because it corresponds to a legend and not to a page\n",
    "        content = np.array(f.read().splitlines()[1:])\n",
    "        \n",
    "    # Return the selected ids and format the result to only contain page titles (and not their id)\n",
    "    return list(map(lambda x: x.split(None, 1)[1], content[id_array]))"
   ]
  },
  {
   "cell_type": "code",
   "execution_count": 46,
   "metadata": {
    "scrolled": true
   },
   "outputs": [
    {
     "name": "stdout",
     "output_type": "stream",
     "text": [
      "rank 1 : United States\n",
      "rank 2 : United Kingdom\n",
      "rank 3 : France\n",
      "rank 4 : Europe\n",
      "rank 5 : Germany\n",
      "rank 6 : England\n",
      "rank 7 : World War II\n",
      "rank 8 : Latin\n",
      "rank 9 : India\n",
      "rank 10 : English language\n"
     ]
    }
   ],
   "source": [
    "filename = \"wikipedia.graph\"\n",
    "g = file_to_google_matrix(filename)\n",
    "scores = power_iteration(g)\n",
    "for i, t in enumerate(get_wikipedia_pages(np.argsort(scores)[-1:-11:-1])):\n",
    "    print(f\"rank {i + 1} : {t}\")"
   ]
  },
  {
   "cell_type": "markdown",
   "metadata": {},
   "source": [
    "---\n",
    "\n",
    "### 2.4.3 Gaming the system *(Bonus)*\n",
    "\n",
    "#### Exercise 2.15 *(Bonus)*"
   ]
  },
  {
   "cell_type": "code",
   "execution_count": 47,
   "metadata": {},
   "outputs": [],
   "source": [
    "def get_score_and_rank_of_page(scores, page_id):\n",
    "    \"\"\" Utility function to get the score and rank of a Wikipedia page given its index\n",
    "        \n",
    "        :param scores: an array containing the scores of each pages\n",
    "        :param page_id: the id of the page of which we want the score and rank\n",
    "        \n",
    "        :return: formated string with the wnated information\n",
    "    \"\"\"\n",
    "    \n",
    "    nb_of_pages = len(scores)\n",
    "    \n",
    "    page_title = get_wikipedia_pages([page_id])[0]\n",
    "    score = scores[page_id]\n",
    "    rank = np.nonzero(np.argsort(scores)[::-1] == page_id)[0][0]\n",
    "    \n",
    "    # Return a formated strings, with the rank going from 1 for the best to the number of pages for the worst\n",
    "    return f\"Page \\\"{page_title}\\\":\\n\\tScore: {score}\\n\\tRank: {rank + 1} out of {nb_of_pages}\""
   ]
  },
  {
   "cell_type": "code",
   "execution_count": 48,
   "metadata": {},
   "outputs": [
    {
     "name": "stdout",
     "output_type": "stream",
     "text": [
      "Page \"United States\":\n",
      "\tScore: 0.007459087286658076\n",
      "\tRank: 1 out of 5540\n",
      "Page \"History of mathematics\":\n",
      "\tScore: 9.846341053223444e-05\n",
      "\tRank: 2530 out of 5540\n"
     ]
    }
   ],
   "source": [
    "filename = \"wikipedia.graph\"\n",
    "g = file_to_google_matrix(filename)\n",
    "scores = power_iteration(g)\n",
    "\n",
    "# ID of page \"United States\" as a check\n",
    "page_id = 5210\n",
    "print(get_score_and_rank_of_page(scores, page_id))\n",
    "\n",
    "# ID of page \"History of mathematics\"\n",
    "page_id = 2463\n",
    "print(get_score_and_rank_of_page(scores, page_id))"
   ]
  },
  {
   "cell_type": "code",
   "execution_count": 50,
   "metadata": {},
   "outputs": [],
   "source": [
    "def cheating_google(g, scores, page_id, new_edge_budget, theta=0.85):\n",
    "    \"\"\" Alteration of the given google matrix by adding new edges to boost the\n",
    "        score of the given page.\n",
    "        One assumption made by this algorithm is that if for one node we have, \n",
    "        for every node, a non-zero probability to go there, then it is a dangling node. This\n",
    "        could be challenged by the fact that a page connected to every single page would have\n",
    "        the same effect on the google matrix as a dangling node, and therefore we would misclassify\n",
    "        those as dangling nodes. Because in real networks this never happens, we accept this assumption.\n",
    "        \n",
    "        :param g: google matrix to alter\n",
    "        :param scores: scores computed with the given google matrix\n",
    "        :param page_id: id of the page to boost\n",
    "        :param new_edge_budget: number of new edges we are allowed to add to the \n",
    "        graph to boost the score\n",
    "        :param theta: probability of the random walk to stay on its current\n",
    "        path, 1 - theta is therefore the probability to start from a new random\n",
    "        node, has to be the same as the one that was used to compute g in the first\n",
    "        place\n",
    "        \n",
    "        :return: an altered google matrix\n",
    "    \"\"\"\n",
    "    \n",
    "    nb_nodes = g.shape[0]\n",
    "    h_hat = g - (1 - theta) * np.ones((nb_nodes, nb_nodes)) / nb_nodes\n",
    "    ranking = np.argsort(scores)[::-1]\n",
    "    \n",
    "    # For every best ranked pages, add an edge from there to the page we want to boost\n",
    "    for i in range(new_edge_budget):\n",
    "        outgoing_degree = len(np.nonzero(h_hat[ranking[i]])[0])\n",
    "        \n",
    "        # If the page is a dangling node (i.e. in h_hat the page is connected to all pages)\n",
    "        if outgoing_degree == nb_nodes:\n",
    "            # Add an edge from this dangling node to the page_id\n",
    "            # i.e. the probabilty to go from this node to the selected one is 1, and to any other is 0\n",
    "            line = np.zeros(nb_nodes)\n",
    "            line[page_id] = 1\n",
    "            h_hat[ranking[i]] = line\n",
    "        else:\n",
    "            # If the page is not already connected to the page we want to boost, add an edge, otherwise skip this page\n",
    "            if h_hat[ranking[i]][page_id] == 0:\n",
    "                h_hat[ranking[i]] *= outgoing_degree / (outgoing_degree + 1)\n",
    "                h_hat[ranking[i]][page_id] += 1 / (outgoing_degree + 1)\n",
    "            else:\n",
    "                new_edge_budget += 1\n",
    "            \n",
    "    return h_hat + (1 - theta) * np.ones((nb_nodes, nb_nodes)) / nb_nodes"
   ]
  },
  {
   "cell_type": "code",
   "execution_count": 51,
   "metadata": {},
   "outputs": [
    {
     "name": "stdout",
     "output_type": "stream",
     "text": [
      "Before cheating :\n",
      "Page \"History of mathematics\":\n",
      "\tScore: 9.846341053223444e-05\n",
      "\tRank: 2530 out of 5540\n",
      "\n",
      "\n",
      "After cheating (by adding 300 new edges):\n",
      "Page \"History of mathematics\":\n",
      "\tScore: 0.005659430755510062\n",
      "\tRank: 2 out of 5540\n"
     ]
    }
   ],
   "source": [
    "# ID of page \"History of mathematics\"\n",
    "page_id = 2463\n",
    "new_edge_budget = 300\n",
    "filename = \"wikipedia.graph\"\n",
    "\n",
    "g = file_to_google_matrix(filename)\n",
    "scores = power_iteration(g, 50)\n",
    "print(\"Before cheating :\")\n",
    "print(get_score_and_rank_of_page(scores, page_id))\n",
    "\n",
    "print(\"\\n\")\n",
    "\n",
    "g_cheat = cheating_google(g, scores, page_id, new_edge_budget)\n",
    "scores = power_iteration(g_cheat, 50)\n",
    "print(f\"After cheating (by adding {new_edge_budget} new edges):\")\n",
    "print(get_score_and_rank_of_page(scores, page_id))"
   ]
  }
 ],
 "metadata": {
  "kernelspec": {
   "display_name": "Python 3",
   "language": "python",
   "name": "python3"
  },
  "language_info": {
   "codemirror_mode": {
    "name": "ipython",
    "version": 3
   },
   "file_extension": ".py",
   "mimetype": "text/x-python",
   "name": "python",
   "nbconvert_exporter": "python",
   "pygments_lexer": "ipython3",
   "version": "3.7.3"
  }
 },
 "nbformat": 4,
 "nbformat_minor": 2
}
