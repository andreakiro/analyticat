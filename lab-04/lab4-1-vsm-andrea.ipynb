{
 "cells": [
  {
   "cell_type": "markdown",
   "metadata": {},
   "source": [
    "# Text Representation and Information Retrieval\n",
    "**Internet Analytics - Lab 4**\n",
    "\n",
    "---\n",
    "\n",
    "**Group:** *H*\n",
    "\n",
    "**Names:**\n",
    "\n",
    "* *Baffou Jérémy*\n",
    "* *Basseto Antoine*\n",
    "* *Pinto Andrea*"
   ]
  },
  {
   "cell_type": "markdown",
   "metadata": {},
   "source": [
    "---\n",
    "# 4.1 Vector Space Models"
   ]
  },
  {
   "cell_type": "code",
   "execution_count": 1,
   "metadata": {},
   "outputs": [],
   "source": [
    "import re\n",
    "import pickle\n",
    "import string\n",
    "import nltk\n",
    "import numpy as np"
   ]
  },
  {
   "cell_type": "code",
   "execution_count": 2,
   "metadata": {},
   "outputs": [],
   "source": [
    "import matplotlib.pyplot as plt \n",
    "from scipy.sparse import csr_matrix\n",
    "from utils import load_json, load_pkl"
   ]
  },
  {
   "cell_type": "code",
   "execution_count": 3,
   "metadata": {},
   "outputs": [],
   "source": [
    "from nltk.stem import PorterStemmer\n",
    "from nltk.stem import WordNetLemmatizer\n",
    "from nltk.corpus import wordnet\n",
    "from nltk.util import ngrams"
   ]
  },
  {
   "cell_type": "code",
   "execution_count": 4,
   "metadata": {},
   "outputs": [],
   "source": [
    "courses = load_json('data/courses.txt')\n",
    "stopwords = load_pkl('data/stopwords.pkl')"
   ]
  },
  {
   "cell_type": "markdown",
   "metadata": {},
   "source": [
    "---\n",
    "## Exercise 4.1: Pre-processing"
   ]
  },
  {
   "cell_type": "markdown",
   "metadata": {},
   "source": [
    "### Cleaning description content"
   ]
  },
  {
   "cell_type": "code",
   "execution_count": 5,
   "metadata": {},
   "outputs": [],
   "source": [
    "\"\"\"Preprocess text description\n",
    "@param: (description) Dirty string text\n",
    "@return: Cleaned array of words\n",
    "\"\"\"\n",
    "def preprocess(description):\n",
    "    # Preprocess courses descriptions\n",
    "    split_joined_words = re.sub(r'([a-z])([A-Z])', r'\\1 \\2', description)\n",
    "    split_3D_occurences = re.sub(r'3D', r' 3D ', split_joined_words)\n",
    "    stick_phd_occurences = re.sub(r'Ph D', r'PhD', split_3D_occurences)\n",
    "    cleaned_dataset = stick_phd_occurences\n",
    "    \n",
    "    # Remove punctuations and lowercase\n",
    "    cleaned_dataset = [\n",
    "        word.casefold() for word in cleaned_dataset\n",
    "        .translate(str.maketrans(string.punctuation, ' '*len(string.punctuation)))\n",
    "        .split()\n",
    "    ]\n",
    "    \n",
    "    # Remove stopwords and digits\n",
    "    cleaned_dataset = [\n",
    "        word for word in cleaned_dataset \n",
    "        if word not in stopwords and not word.isdigit()\n",
    "    ]\n",
    "    \n",
    "    return cleaned_dataset"
   ]
  },
  {
   "cell_type": "code",
   "execution_count": 6,
   "metadata": {},
   "outputs": [],
   "source": [
    "\"\"\"Clean courses RDD\n",
    "@param: (courses_rdd) Dirty courses RDD\n",
    "@return: Cleaned courses RDD\n",
    "\"\"\"\n",
    "def clean_rdd(courses_rdd):\n",
    "    return courses_rdd.map(\n",
    "        lambda c: {\n",
    "            'courseId': c['courseId'],\n",
    "            'name': c['name'],\n",
    "            'description': preprocess(c['description'])\n",
    "        }\n",
    "    )"
   ]
  },
  {
   "cell_type": "code",
   "execution_count": 7,
   "metadata": {},
   "outputs": [],
   "source": [
    "courses_rdd = sc.parallelize(courses)\n",
    "courses_preprocessed_rdd = clean_rdd(courses_rdd)"
   ]
  },
  {
   "cell_type": "markdown",
   "metadata": {},
   "source": [
    "### Lemming description content"
   ]
  },
  {
   "cell_type": "code",
   "execution_count": 8,
   "metadata": {},
   "outputs": [],
   "source": [
    "tag_dict = {\n",
    "    'J': wordnet.ADJ, \n",
    "    'N': wordnet.NOUN, \n",
    "    'V': wordnet.VERB, \n",
    "    'R': wordnet.ADV\n",
    "}"
   ]
  },
  {
   "cell_type": "code",
   "execution_count": 9,
   "metadata": {},
   "outputs": [],
   "source": [
    "def tag_mapper(tag):\n",
    "    return tag_dict[tag] if tag in tag_dict else wordnet.NOUN"
   ]
  },
  {
   "cell_type": "code",
   "execution_count": 10,
   "metadata": {},
   "outputs": [],
   "source": [
    "\"\"\"Lemmatize word list\n",
    "@param: (words) List of words to lemmatize\n",
    "@param: (lm) Used Lemmatizer for computations\n",
    "@return: List of lemmatized words\n",
    "\"\"\"\n",
    "def lemmatize(words, lm):\n",
    "    word2tag = nltk.pos_tag(words)\n",
    "    lemmatized = list(map(lambda x: lm.lemmatize(x[0], tag_mapper(x[1][0])), word2tag))\n",
    "    return lemmatized"
   ]
  },
  {
   "cell_type": "code",
   "execution_count": 11,
   "metadata": {},
   "outputs": [],
   "source": [
    "\"\"\"Lemmatize courses RDD\n",
    "@param: (courses_rdd) Courses RDD\n",
    "@param: (lm) Used Lemmatizer for computations\n",
    "@return: RDD with lemmatized courses descriptions\n",
    "\"\"\"\n",
    "def lemmatize_rdd(courses_rdd, lm):\n",
    "    courses_lemmatized = list(\n",
    "        map(lambda c: {\n",
    "            \"courseId\": c[\"courseId\"],\n",
    "            \"name\" : c[\"name\"],\n",
    "            \"description\" : lemmatize(c[\"description\"], lm)\n",
    "        }, courses_rdd.collect())\n",
    "    )\n",
    "    return sc.parallelize(courses_lemmatized)"
   ]
  },
  {
   "cell_type": "markdown",
   "metadata": {},
   "source": [
    "Note that we collected the dataset in the `lemmatize_rdd` because we couldnt figure how to have `wordnet` downloaded on every workers."
   ]
  },
  {
   "cell_type": "code",
   "execution_count": 12,
   "metadata": {},
   "outputs": [],
   "source": [
    "lm = WordNetLemmatizer()"
   ]
  },
  {
   "cell_type": "code",
   "execution_count": 13,
   "metadata": {},
   "outputs": [],
   "source": [
    "courses_lemmatized_rdd = lemmatize_rdd(courses_preprocessed_rdd, lm)"
   ]
  },
  {
   "cell_type": "markdown",
   "metadata": {},
   "source": [
    "### Stemming description content"
   ]
  },
  {
   "cell_type": "code",
   "execution_count": 14,
   "metadata": {},
   "outputs": [],
   "source": [
    "\"\"\"Stem word list\n",
    "@param: (words) List of words to stem\n",
    "@param: (lm) Used Stemmer for computations\n",
    "@return: List of stemmed words\n",
    "\"\"\"\n",
    "def stem(words, ps):\n",
    "    return list(map(lambda w : ps.stem(w), words))"
   ]
  },
  {
   "cell_type": "code",
   "execution_count": 15,
   "metadata": {},
   "outputs": [],
   "source": [
    "ps = PorterStemmer()"
   ]
  },
  {
   "cell_type": "code",
   "execution_count": 16,
   "metadata": {},
   "outputs": [],
   "source": [
    "courses_stemmed_rdd = courses_lemmatized_rdd.map(\n",
    "    lambda c: {\n",
    "        \"courseId\": c[\"courseId\"], \n",
    "        \"name\" : c[\"name\"], \n",
    "        \"description\" : stem(c[\"description\"], ps)\n",
    "    }\n",
    ")"
   ]
  },
  {
   "cell_type": "markdown",
   "metadata": {},
   "source": [
    "Note that we are not sure about stemming here. Porter Stemmer can cut words and group them into bigger groups. i.e. words `work` and `working` will both be mapped to `work` which is not done by the lemmatizer here. However it sometimes cut too much and we are loosing some of the meaning."
   ]
  },
  {
   "cell_type": "markdown",
   "metadata": {},
   "source": [
    "### Create n-grams"
   ]
  },
  {
   "cell_type": "code",
   "execution_count": 17,
   "metadata": {},
   "outputs": [],
   "source": [
    "def ngram(words, n):\n",
    "    return [\" \".join(map(str, x)) for x in ngrams(words, n)]"
   ]
  },
  {
   "cell_type": "code",
   "execution_count": 18,
   "metadata": {},
   "outputs": [],
   "source": [
    "def ngram_rdd(courses_rdd, n):\n",
    "    return courses_rdd.map(\n",
    "        lambda c: {\n",
    "            \"courseId\": c[\"courseId\"], \n",
    "            \"name\": c[\"name\"], \n",
    "            \"description\": [w for i in range(1, n + 1) for w in ngram(c['description'], i)]\n",
    "        }\n",
    "    )"
   ]
  },
  {
   "cell_type": "code",
   "execution_count": 19,
   "metadata": {},
   "outputs": [],
   "source": [
    "courses_ngram_rdd = ngram_rdd(courses_lemmatized_rdd, 3)"
   ]
  },
  {
   "cell_type": "markdown",
   "metadata": {},
   "source": [
    "### Frequency analysis over corpus"
   ]
  },
  {
   "cell_type": "code",
   "execution_count": 20,
   "metadata": {},
   "outputs": [],
   "source": [
    "\"\"\"Frequency analysis of given corpus\n",
    "@param: (corpus) RDD of list of words\n",
    "@return: RDD of list of (frequency ratio, word) tuples\n",
    "@return: Number of words in the corpus\n",
    "\"\"\"\n",
    "def frequency_analysis(corpus):\n",
    "    count = corpus.count()\n",
    "    freqs2word_rdd = (\n",
    "        corpus\n",
    "        .map(lambda word: (word, 1))\n",
    "        .reduceByKey(lambda x, y: x + y)\n",
    "        .map(lambda x: (x[1] / count, x[0]))\n",
    "        .sortByKey(False)\n",
    "    )\n",
    "    return freqs2word_rdd, count"
   ]
  },
  {
   "cell_type": "code",
   "execution_count": 21,
   "metadata": {},
   "outputs": [],
   "source": [
    "\"\"\"Plot frequency analysis\n",
    "@param: (freqs) List of word frequencies\n",
    "@param: (count) Number of words in total\n",
    "\"\"\"\n",
    "def plot_frequency_analysis(freqs, count):\n",
    "    fig, axs = plt.subplots(1, 2, figsize=(16,4))\n",
    "    axs[0].set_ylabel(\"Log frequency\")\n",
    "    axs[0].plot(np.arange(len(freqs)), np.log(list(map(lambda f: f*count, freqs))))\n",
    "    axs[1].boxplot(freqs)\n",
    "    fig.show()"
   ]
  },
  {
   "cell_type": "code",
   "execution_count": 22,
   "metadata": {},
   "outputs": [],
   "source": [
    "corpus = courses_ngram_rdd.flatMap(lambda c: c[\"description\"])\n",
    "freqs2word_rdd, count = frequency_analysis(corpus)\n",
    "freqs = np.asarray(freqs2word_rdd.map(lambda x: x[0]).collect())"
   ]
  },
  {
   "cell_type": "code",
   "execution_count": 23,
   "metadata": {},
   "outputs": [
    {
     "data": {
      "image/png": "[encoded data removed]",
      "text/plain": [
       "<Figure size 1152x288 with 2 Axes>"
      ]
     },
     "metadata": {
      "needs_background": "light"
     },
     "output_type": "display_data"
    }
   ],
   "source": [
    "plot_frequency_analysis(freqs, count)"
   ]
  },
  {
   "cell_type": "markdown",
   "metadata": {},
   "source": [
    "We want to erase words that are too frequent over the corpus as they are unlikely to differentiate further documents. We choose to keep only the words which were under the `0.995` quantile because it corresponds more or less to the big vertical bar at the beginning in the frequencies plot."
   ]
  },
  {
   "cell_type": "code",
   "execution_count": 24,
   "metadata": {},
   "outputs": [],
   "source": [
    "def frequent_words(freqs2word_rdd, freqs, quantile):\n",
    "    indices = np.where(freqs > np.quantile(freqs, quantile))[0]\n",
    "    frequent = freqs2word_rdd.take(indices[-1])\n",
    "    frequent_words = set(map(lambda x: x[1], frequent))\n",
    "    return frequent_words"
   ]
  },
  {
   "cell_type": "code",
   "execution_count": 25,
   "metadata": {},
   "outputs": [],
   "source": [
    "def rare_words(freqs2word_rdd, count, apparitions):\n",
    "    rare = freqs2word_rdd.filter(lambda x: x[0]*count == apparitions)\n",
    "    rare_words = set(rare.map(lambda x: x[1]).collect())\n",
    "    return rare_words"
   ]
  },
  {
   "cell_type": "code",
   "execution_count": 26,
   "metadata": {},
   "outputs": [],
   "source": [
    "def remove_rdd(courses_rdd, words):\n",
    "    return courses_rdd.map(\n",
    "        lambda c: {\n",
    "            \"courseId\": c[\"courseId\"],\n",
    "            \"name\": c[\"name\"],\n",
    "            \"description\": [w for w in c[\"description\"] if w not in words]\n",
    "        }\n",
    "    )"
   ]
  },
  {
   "cell_type": "code",
   "execution_count": 27,
   "metadata": {},
   "outputs": [],
   "source": [
    "fw = frequent_words(freqs2word_rdd, freqs, 0.995)\n",
    "rw = rare_words(freqs2word_rdd, count, 1)"
   ]
  },
  {
   "cell_type": "markdown",
   "metadata": {},
   "source": [
    "**Note:** Because rare words are a large part of the dataset, we decided to only cut frequent words."
   ]
  },
  {
   "cell_type": "code",
   "execution_count": 28,
   "metadata": {},
   "outputs": [
    {
     "name": "stdout",
     "output_type": "stream",
     "text": [
      "1021 of frequent words out of 207231 total words.\n",
      "171298 of rare words out of 207231 total words.\n"
     ]
    }
   ],
   "source": [
    "print(f'{len(fw)} of frequent words out of {freqs2word_rdd.count()} total words.')\n",
    "print(f'{len(rw)} of rare words out of {freqs2word_rdd.count()} total words.')"
   ]
  },
  {
   "cell_type": "code",
   "execution_count": 29,
   "metadata": {},
   "outputs": [],
   "source": [
    "lengths = [0] * 3\n",
    "for elem in fw:\n",
    "    index = len(re.findall(r'\\w+', elem))\n",
    "    lengths[index-1] += 1"
   ]
  },
  {
   "cell_type": "code",
   "execution_count": 30,
   "metadata": {},
   "outputs": [
    {
     "name": "stdout",
     "output_type": "stream",
     "text": [
      "Note there are 745 single words out of the 1021 more frequent ngrams\n"
     ]
    }
   ],
   "source": [
    "print(f'Note there are {lengths[0]} single words out of the {len(fw)} more frequent ngrams')"
   ]
  },
  {
   "cell_type": "code",
   "execution_count": 32,
   "metadata": {},
   "outputs": [],
   "source": [
    "courses_fw_rdd = remove_rdd(courses_ngram_rdd, fw)"
   ]
  },
  {
   "cell_type": "markdown",
   "metadata": {},
   "source": [
    "### Bag of words - as sets"
   ]
  },
  {
   "cell_type": "code",
   "execution_count": 34,
   "metadata": {},
   "outputs": [],
   "source": [
    "def bow_rdd(courses_rdd):\n",
    "    return courses_rdd.map(\n",
    "        lambda c: {\n",
    "            \"courseId\": c[\"courseId\"],\n",
    "            \"name\": c[\"name\"],\n",
    "            \"description\": set(c[\"description\"])\n",
    "        }\n",
    "    )"
   ]
  },
  {
   "cell_type": "code",
   "execution_count": 35,
   "metadata": {},
   "outputs": [],
   "source": [
    "def bow(courses_bow_rdd):\n",
    "    return set(courses_bow_rdd.flatMap(lambda c: c[\"description\"]).collect())"
   ]
  },
  {
   "cell_type": "code",
   "execution_count": 36,
   "metadata": {},
   "outputs": [],
   "source": [
    "courses_bow_rdd = bow_rdd(courses_fw_rdd)"
   ]
  },
  {
   "cell_type": "code",
   "execution_count": 37,
   "metadata": {},
   "outputs": [],
   "source": [
    "superbow = bow(courses_bow_rdd)"
   ]
  },
  {
   "cell_type": "markdown",
   "metadata": {},
   "source": [
    "## Class description"
   ]
  },
  {
   "cell_type": "code",
   "execution_count": 39,
   "metadata": {},
   "outputs": [],
   "source": [
    "def class_description(courses_rdd, courseid, ngrams):\n",
    "    course_rdd = courses_rdd.filter(lambda c: c[\"courseId\"] == courseid)\n",
    "    description = sorted(course_rdd.collect()[0]['description'])    \n",
    "    return [w for w in description if len(re.findall(r'\\w+', w)) <= ngrams]"
   ]
  },
  {
   "cell_type": "code",
   "execution_count": 40,
   "metadata": {},
   "outputs": [],
   "source": [
    "ix = class_description(courses_bow_rdd, 'COM-308', 3)"
   ]
  },
  {
   "cell_type": "code",
   "execution_count": 41,
   "metadata": {},
   "outputs": [
    {
     "data": {
      "text/plain": [
       "['acquire lecture',\n",
       " 'acquire lecture hand',\n",
       " 'activity lecture',\n",
       " 'activity lecture homework',\n",
       " 'ad',\n",
       " 'ad auction',\n",
       " 'ad auction learn',\n",
       " 'ad auction provide',\n",
       " 'advertisement',\n",
       " 'advertisement class']"
      ]
     },
     "execution_count": 41,
     "metadata": {},
     "output_type": "execute_result"
    }
   ],
   "source": [
    "ix[0:10]"
   ]
  },
  {
   "cell_type": "code",
   "execution_count": 42,
   "metadata": {},
   "outputs": [
    {
     "data": {
      "text/plain": [
       "True"
      ]
     },
     "execution_count": 42,
     "metadata": {},
     "output_type": "execute_result"
    }
   ],
   "source": [
    "'markov chain' in superbow"
   ]
  },
  {
   "cell_type": "markdown",
   "metadata": {},
   "source": [
    "---\n",
    "# @jeremy TO CLEAN "
   ]
  },
  {
   "cell_type": "markdown",
   "metadata": {},
   "source": [
    "---\n",
    "## Exercise 4.2: Term-document matrix"
   ]
  },
  {
   "cell_type": "markdown",
   "metadata": {},
   "source": [
    "We will use an implementation of `TF-IDF` which uses the term frequecy expression given by\n",
    "\n",
    "$$\\frac{f_{td}}{\\sum_{t' \\in d}{f_{t',d}}}$$\n",
    "\n",
    "and as inverse document frequency : $\\log{\\frac{N}{|d \\in D : t \\in d|}}$"
   ]
  },
  {
   "cell_type": "code",
   "execution_count": null,
   "metadata": {},
   "outputs": [],
   "source": [
    "course_ids = dict(zip(courses_rdd.map(lambda c: c[\"courseId\"]).collect(), range(len(courses))))\n",
    "terms_ids = dict(zip(sorted(superbow), range(len(superbow))))"
   ]
  },
  {
   "cell_type": "code",
   "execution_count": null,
   "metadata": {},
   "outputs": [],
   "source": [
    "def term_count(courses_rdd):\n",
    "    return courses_rdd.map(\n",
    "        lambda c: [((terms_ids[w], course_ids[c[\"courseId\"]]),1) for w in c[\"description\"]]\n",
    "    ).flatMap(lambda c: c).reduceByKey(lambda a,b : a+b).collect()"
   ]
  },
  {
   "cell_type": "code",
   "execution_count": null,
   "metadata": {},
   "outputs": [],
   "source": [
    "def populate_TF(TF, TC):\n",
    "    for tc in TC:\n",
    "        TF[tc[0][0]][tc[0][1]] = tc[1]\n",
    "    return TF"
   ]
  },
  {
   "cell_type": "code",
   "execution_count": null,
   "metadata": {},
   "outputs": [],
   "source": [
    "TC = term_count(courses_ngram_rdd)\n",
    "TF = populate_TF(np.zeros((len(terms_ids),len(course_ids)),dtype=np.int64), TC)\n",
    "IDF = np.ones((TF.shape[0],1),dtype=np.int64) * TF.shape[1]"
   ]
  },
  {
   "cell_type": "code",
   "execution_count": null,
   "metadata": {},
   "outputs": [],
   "source": [
    "TF = TF / TF.sum(axis=0)\n",
    "IDF = IDF / (np.bincount(np.where(TF != 0)[0]).reshape(IDF.shape[0],1))"
   ]
  },
  {
   "cell_type": "code",
   "execution_count": null,
   "metadata": {},
   "outputs": [],
   "source": [
    "TFIDF = TF * IDF"
   ]
  },
  {
   "cell_type": "markdown",
   "metadata": {},
   "source": [
    "IX top 15 words in term of TF-IDF score:"
   ]
  },
  {
   "cell_type": "code",
   "execution_count": null,
   "metadata": {
    "scrolled": true
   },
   "outputs": [],
   "source": [
    "sorted(list(zip(TFIDF[:,course_ids[\"COM-308\"]],terms_ids.keys())),key=lambda t : t[0],reverse=True)[:15]"
   ]
  },
  {
   "cell_type": "markdown",
   "metadata": {},
   "source": [
    "From the choice of our TF-IDF score implementation, its value is higher when the term is frequent in the document but not in the rest of the corpus ($t_f$ is big and ${|d \\in D : t \\in d|}$ is small thus idf is big)."
   ]
  },
  {
   "cell_type": "markdown",
   "metadata": {},
   "source": [
    "---\n",
    "## Exercise 4.3: Document similarity search"
   ]
  },
  {
   "cell_type": "code",
   "execution_count": null,
   "metadata": {},
   "outputs": [],
   "source": [
    "def cos_similarity(d_i, d_j):\n",
    "    return (d_i.T@d_j) / (np.linalg.norm(d_i) * np.linalg.norm(d_j))"
   ]
  },
  {
   "cell_type": "code",
   "execution_count": null,
   "metadata": {},
   "outputs": [],
   "source": [
    "terms_ids['markov chain']"
   ]
  },
  {
   "cell_type": "code",
   "execution_count": null,
   "metadata": {},
   "outputs": [],
   "source": [
    "query_doc = np.zeros((TFIDF.shape[0],1),dtype=np.int64)\n",
    "query_term = [\"markov chain\",\"facebook\"]\n",
    "for t in query_term:\n",
    "    query_doc[terms_ids[t]] = np.max(TFIDF)"
   ]
  },
  {
   "cell_type": "code",
   "execution_count": null,
   "metadata": {},
   "outputs": [],
   "source": [
    "query_result = np.zeros((tf_idf.shape[1],1))\n",
    "for i in range(tf_idf.shape[1]):\n",
    "    query_result[i,0] = cos_similarity(query_doc,tf_idf[:,i].reshape(tf_idf.shape[0],1))"
   ]
  },
  {
   "cell_type": "code",
   "execution_count": null,
   "metadata": {
    "scrolled": true
   },
   "outputs": [],
   "source": [
    "sorted(list(zip(query_result,course_id_document_mapping.keys())),key=lambda t : t[0],reverse=True)[:5]"
   ]
  },
  {
   "cell_type": "code",
   "execution_count": null,
   "metadata": {},
   "outputs": [],
   "source": [
    "def format_courses(courses):\n",
    "    for i in range(len(courses)):\n",
    "        print(f'{courses[i][\"courseId\"]}: {courses[i][\"name\"]}\\n')\n",
    "        print(f'{courses[i][\"description\"]}\\n')\n",
    "        print('\\n')"
   ]
  },
  {
   "cell_type": "code",
   "execution_count": null,
   "metadata": {},
   "outputs": [],
   "source": [
    "def query_processor(words_list,num=5):\n",
    "    query_doc = np.zeros((tf_idf.shape[0],1),dtype=np.int64)\n",
    "    for t in words_list:\n",
    "        query_doc[term_id_mapping[t]] = np.max(tf_idf)\n",
    "    query_result = np.zeros((tf_idf.shape[1],1))\n",
    "    for i in range(tf_idf.shape[1]):\n",
    "        query_result[i,0] = cos_similarity(query_doc,tf_idf[:,i].reshape(tf_idf.shape[0],1))\n",
    "    best_fit = sorted(list(zip(query_result,course_id_document_mapping.keys())),key=lambda t : t[0],reverse=True)[:num]\n",
    "    courses_description = courses_rdd.filter(lambda c : c[\"courseId\"] in list(map(lambda t : t[1],best_fit))).collect() \n",
    "    output = []\n",
    "    for i in best_fit:\n",
    "        for j in courses_description: ###  A UPGRADE!!!!!\n",
    "            if i[1] == j[\"courseId\"]:\n",
    "                output.append(j)\n",
    "    return format_courses(output)"
   ]
  },
  {
   "cell_type": "code",
   "execution_count": null,
   "metadata": {},
   "outputs": [],
   "source": [
    "query_processor([\"markov chain\",\"facebook\"], num=8)"
   ]
  }
 ],
 "metadata": {
  "kernelspec": {
   "display_name": "Python 3",
   "language": "python",
   "name": "python3"
  },
  "language_info": {
   "codemirror_mode": {
    "name": "ipython",
    "version": 3
   },
   "file_extension": ".py",
   "mimetype": "text/x-python",
   "name": "python",
   "nbconvert_exporter": "python",
   "pygments_lexer": "ipython3",
   "version": "3.7.6"
  }
 },
 "nbformat": 4,
 "nbformat_minor": 2
}
