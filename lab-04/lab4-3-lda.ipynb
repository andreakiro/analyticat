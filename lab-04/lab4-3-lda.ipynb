{
 "cells": [
  {
   "cell_type": "markdown",
   "metadata": {},
   "source": [
    "# Text 3: Latent Dirichlet allocation\n",
    "**Internet Analytics - Lab 4**\n",
    "\n",
    "---\n",
    "\n",
    "**Group:** *H*\n",
    "\n",
    "**Names:**\n",
    "\n",
    "* *Jérémy Baffou*\n",
    "* *Antoine Basseto*\n",
    "* *Andrea Pinto*\n",
    "\n",
    "---"
   ]
  },
  {
   "cell_type": "markdown",
   "metadata": {},
   "source": [
    "### Regular Imports"
   ]
  },
  {
   "cell_type": "code",
   "execution_count": 1,
   "metadata": {},
   "outputs": [],
   "source": [
    "import json\n",
    "import numpy as np\n",
    "from utils import load_json, load_pkl"
   ]
  },
  {
   "cell_type": "code",
   "execution_count": 2,
   "metadata": {},
   "outputs": [],
   "source": [
    "from pyspark.mllib.clustering import LDA, LDAModel\n",
    "from pyspark.mllib.linalg import Vectors, SparseVector"
   ]
  },
  {
   "cell_type": "markdown",
   "metadata": {},
   "source": [
    "`pyspark.mlli` useful docs for the lab : \n",
    "- https://spark.apache.org/docs/latest/api/python/reference/api/pyspark.mllib.clustering.LDA.html\n",
    "- https://spark.apache.org/docs/latest/api/python/reference/api/pyspark.mllib.clustering.LDAModel.html"
   ]
  },
  {
   "cell_type": "markdown",
   "metadata": {},
   "source": [
    "### Import Data"
   ]
  },
  {
   "cell_type": "code",
   "execution_count": 3,
   "metadata": {},
   "outputs": [],
   "source": [
    "# Clean data from lab4-1-vsm with all lemmatized terms \n",
    "courses_preprocessed = load_json('data/courses-lem-preprocessed.json')\n",
    "courses_preprocessed_rdd = sc.parallelize(courses_preprocessed)"
   ]
  },
  {
   "cell_type": "code",
   "execution_count": 4,
   "metadata": {},
   "outputs": [],
   "source": [
    "# Clean data from lab4-1-vsm without most frequent words (quantile 0.95)\n",
    "courses_preprocessed_fw = load_json('data/courses-lem-fw-preprocessed.json')\n",
    "courses_preprocessed_fw_rdd = sc.parallelize(courses_preprocessed_fw)"
   ]
  },
  {
   "cell_type": "markdown",
   "metadata": {},
   "source": [
    "**Note:** We tried with both datasets and the `courses_preprocessed` gives way better results. <br>\n",
    "So all the following computations are done with this latter and we'll not use `courses_preprocessed_fw`."
   ]
  },
  {
   "cell_type": "markdown",
   "metadata": {},
   "source": [
    "---\n",
    "## Prepare Data for Model"
   ]
  },
  {
   "cell_type": "markdown",
   "metadata": {},
   "source": [
    "### Tools for Data Preparation"
   ]
  },
  {
   "cell_type": "code",
   "execution_count": 5,
   "metadata": {},
   "outputs": [],
   "source": [
    "\"\"\"Create super set bag of words\n",
    "@param: (rdd) RDD dataset of courses\n",
    "@return: Set of all existing terms\n",
    "\"\"\"\n",
    "def bow(rdd):\n",
    "    return set(rdd.flatMap(lambda c: c[\"description\"]).collect())"
   ]
  },
  {
   "cell_type": "code",
   "execution_count": 6,
   "metadata": {},
   "outputs": [],
   "source": [
    "\"\"\"Populate term count matrix\n",
    "@param: (data) Term counts in a list format i.e. tuples (a, b)\n",
    "with a: tuple (doc ID, term ID) and b: number of occurences\n",
    "@param: (m) Term count matrix rows i.e. number of documents\n",
    "@param: (n) Term count matrix columns i.e. number of documents\n",
    "@return: Full term count matrix\n",
    "\"\"\"\n",
    "def populate_tc(data, n, m):\n",
    "    tc = np.zeros((n, m))\n",
    "    for x in data:\n",
    "        infos = x[0]\n",
    "        value = x[1]\n",
    "        \n",
    "        doc_id = infos[0]\n",
    "        word_id = infos[1]\n",
    "        \n",
    "        tc[doc_id][word_id] = value\n",
    "    \n",
    "    return tc"
   ]
  },
  {
   "cell_type": "code",
   "execution_count": 7,
   "metadata": {},
   "outputs": [],
   "source": [
    "\"\"\"Create Sparse Vector from Dense Vector\n",
    "@param: (dense_vect) Dense Vector input\n",
    "@return: Same vector under Sparse Vector format\n",
    "\"\"\"\n",
    "def create_sparse_vector(dense_vect):\n",
    "    d = len(dense_vect)\n",
    "    indices = []\n",
    "    values = []\n",
    "    for i, e in enumerate(dense_vect):\n",
    "        if e != 0:\n",
    "            indices.append(i)\n",
    "            values.append(e)\n",
    "    return Vectors.sparse(d, indices, values)"
   ]
  },
  {
   "cell_type": "markdown",
   "metadata": {},
   "source": [
    "### Preprocessing Data"
   ]
  },
  {
   "cell_type": "markdown",
   "metadata": {},
   "source": [
    "Useful following variables documentation. Note that none of these variables are RDDs.\n",
    "- **`superbow`** is the *set* of every existing terms we are dealing with.\n",
    "- **`words_ids_map`** is a *dict* mapping every existing terms to a specific ID $\\in N$\n",
    "- **`doc_ids_map`** is a *dict* mapping every existing documents (here courses descriptions) to a specific ID $\\in N$\n",
    "- **`tc`** is the term count *matrix*. It has one row for every document and one column for every existing term."
   ]
  },
  {
   "cell_type": "code",
   "execution_count": 8,
   "metadata": {},
   "outputs": [],
   "source": [
    "superbow = bow(courses_preprocessed_rdd)\n",
    "words_ids_map = dict(zip(superbow, range(len(superbow))))"
   ]
  },
  {
   "cell_type": "code",
   "execution_count": 9,
   "metadata": {},
   "outputs": [],
   "source": [
    "courses_ids = courses_preprocessed_rdd.map(lambda c: c['courseId']).collect()\n",
    "doc_ids_map = dict(zip(courses_ids, range(len(courses_ids))))\n",
    "doc_ids = list(doc_ids_map.values())"
   ]
  },
  {
   "cell_type": "code",
   "execution_count": 10,
   "metadata": {},
   "outputs": [],
   "source": [
    "termcount = (\n",
    "    courses_preprocessed_rdd\n",
    "    .map(lambda c: [((doc_ids_map[c[\"courseId\"]], words_ids_map[w]),1) for w in c[\"description\"]])\n",
    "    .flatMap(lambda c: c)\n",
    "    .reduceByKey(lambda x, y : x + y)\n",
    ")"
   ]
  },
  {
   "cell_type": "code",
   "execution_count": 11,
   "metadata": {},
   "outputs": [],
   "source": [
    "tc = populate_tc(termcount.collect(), len(doc_ids), len(superbow))"
   ]
  },
  {
   "cell_type": "markdown",
   "metadata": {},
   "source": [
    "### Model Parameters"
   ]
  },
  {
   "cell_type": "markdown",
   "metadata": {},
   "source": [
    "**LDA Model** requires **`doc_tc`** a list of tuples with documents IDs and corresponding terms count under a `pyspark.mllib.linalg.vector` format."
   ]
  },
  {
   "cell_type": "code",
   "execution_count": 12,
   "metadata": {},
   "outputs": [],
   "source": [
    "tcs_dense = [Vectors.dense(wordcount) for wordcount in tc]\n",
    "tcs_sparse = list(map(lambda x: create_sparse_vector(x), tcs_dense))\n",
    "doc_tc_tup = list(zip(doc_ids, tcs_dense))\n",
    "doc_tc = list(map(lambda x: list(x), doc_tc_tup))"
   ]
  },
  {
   "cell_type": "markdown",
   "metadata": {},
   "source": [
    "Upper cell can take 1-2s to run because we cast to Sparse Vectors format for Model optimization. <br>\n",
    "Note also that in reality the LDA model needs this funny `doc_tc` list but in `RDD` format : "
   ]
  },
  {
   "cell_type": "code",
   "execution_count": 13,
   "metadata": {},
   "outputs": [],
   "source": [
    "rdd = sc.parallelize(doc_tc)"
   ]
  },
  {
   "cell_type": "markdown",
   "metadata": {},
   "source": [
    "---\n",
    "## Exercise 4.8: Topics extraction"
   ]
  },
  {
   "cell_type": "code",
   "execution_count": 14,
   "metadata": {},
   "outputs": [],
   "source": [
    "\"\"\"Extract K topics from LDA Model\n",
    "@param: (model) LDA Model on which we work\n",
    "@param: (words_per_topic) Words to print per topic\n",
    "@param: (words_ids_map) Dict mapping words to their ID\n",
    "\"\"\"\n",
    "def extract_topic(model, words_per_topic, words_ids_map):\n",
    "    topics = model.describeTopics(words_per_topic)\n",
    "    for i, topic in enumerate(topics):\n",
    "        words_ids = topic[0]\n",
    "        words = []\n",
    "        for word_id in words_ids:\n",
    "            word = list(words_ids_map.keys())[word_id]\n",
    "            words.append(word)\n",
    "        print(f'For topic {i + 1 :>2} we have: {words}')"
   ]
  },
  {
   "cell_type": "markdown",
   "metadata": {},
   "source": [
    "### LDA Model and topic extraction"
   ]
  },
  {
   "cell_type": "code",
   "execution_count": 15,
   "metadata": {},
   "outputs": [],
   "source": [
    "model_48 = LDA.train(rdd, k=10, seed=1)"
   ]
  },
  {
   "cell_type": "code",
   "execution_count": 16,
   "metadata": {},
   "outputs": [
    {
     "name": "stdout",
     "output_type": "stream",
     "text": [
      "For topic  1 we have: ['image', 'method', 'signal', 'system', 'process']\n",
      "For topic  2 we have: ['data', 'student', 'method', 'report', 'analysis']\n",
      "For topic  3 we have: ['material', 'structure', 'method', 'student', 'learn']\n",
      "For topic  4 we have: ['student', 'project', 'work', 'system', 'design']\n",
      "For topic  5 we have: ['model', 'method', 'theory', 'time', 'problem']\n",
      "For topic  6 we have: ['learn', 'model', 'student', 'method', 'teach']\n",
      "For topic  7 we have: ['student', 'method', 'optic', 'engineering', 'learn']\n",
      "For topic  8 we have: ['student', 'cell', 'chemical', 'biology', 'molecular']\n",
      "For topic  9 we have: ['system', 'design', 'circuit', 'device', 'technology']\n",
      "For topic 10 we have: ['energy', 'student', 'learn', 'method', 'content']\n"
     ]
    }
   ],
   "source": [
    "extract_topic(model_48, 5, words_ids_map)"
   ]
  },
  {
   "cell_type": "markdown",
   "metadata": {},
   "source": [
    "### Label topics\n",
    "***TODO.***\n",
    "- Topic 1 could be `Image Processing`\n",
    "- etc."
   ]
  },
  {
   "cell_type": "markdown",
   "metadata": {},
   "source": [
    "### Comparison with LSI\n",
    "***TODO.***\n",
    "- Proutinos le déglingo"
   ]
  },
  {
   "cell_type": "markdown",
   "metadata": {},
   "source": [
    "---\n",
    "## Exercise 4.9: Dirichlet hyperparameters"
   ]
  },
  {
   "cell_type": "code",
   "execution_count": 17,
   "metadata": {},
   "outputs": [],
   "source": [
    "\"\"\"Create LDA Model with alpha variations\n",
    "@param: (rdd) RDD on which to train the model\n",
    "@param: (beta) Fixed beta (topic concentration) param\n",
    "@return: models - LDA Models trained with moving alpha param\n",
    "@return: alphas - Corresponding alpha's parameters\n",
    "\"\"\"\n",
    "def moving_alpha(rdd, beta):\n",
    "    models = []\n",
    "    alphas = []\n",
    "    for alpha in range(2, 30, 3):\n",
    "        print(f'alpha: {alpha} beta: {beta}', end='\\r')\n",
    "        m = LDA.train(rdd, k=10, docConcentration=float(alpha), topicConcentration=float(beta), seed=1)\n",
    "        models.append(m)\n",
    "        alphas.append(alpha)\n",
    "    print(f'Finished to train the {len(models)} models', end='\\r')\n",
    "    return models, alphas, beta"
   ]
  },
  {
   "cell_type": "code",
   "execution_count": 27,
   "metadata": {},
   "outputs": [],
   "source": [
    "\"\"\"Create LDA Model with beta variations\n",
    "@param: (rdd) RDD on which to train the model\n",
    "@param: (alpha) Fixed alpha (doc concentration) param\n",
    "@return: models - LDA Models trained with moving beta param\n",
    "@return: betas - Corresponding beta's parameters\n",
    "\"\"\"\n",
    "def moving_beta(rdd, alpha):\n",
    "    models = []\n",
    "    betas = []\n",
    "    for beta in range(2, 30, 3):\n",
    "        print(f'alpha: {alpha} beta: {beta}', end='\\r')\n",
    "        m = LDA.train(rdd, k=10, docConcentration=float(alpha), topicConcentration=float(beta), seed=1)\n",
    "        models.append(m)\n",
    "        betas.append(beta)\n",
    "    print(f'Finished to train the {len(models)} models', end='\\r')\n",
    "    return models, betas, alpha"
   ]
  },
  {
   "cell_type": "code",
   "execution_count": 19,
   "metadata": {},
   "outputs": [],
   "source": [
    "def evaluate_models(models, nargs, args, narg, arg, word_ids_map):\n",
    "    for i, m in enumerate(models):\n",
    "        print(f'For model {i + 1} with parameter {nargs} {args[i]} and {narg} {arg}')\n",
    "        extract_topic(m, 5, words_ids_map)\n",
    "        print('\\n')"
   ]
  },
  {
   "cell_type": "code",
   "execution_count": 20,
   "metadata": {},
   "outputs": [
    {
     "name": "stdout",
     "output_type": "stream",
     "text": [
      "Finished to train the 10 models\r"
     ]
    }
   ],
   "source": [
    "models_49a, alphas, beta = moving_alpha(rdd, 1.01)"
   ]
  },
  {
   "cell_type": "code",
   "execution_count": 28,
   "metadata": {},
   "outputs": [
    {
     "name": "stdout",
     "output_type": "stream",
     "text": [
      "Finished to train the 10 models\r"
     ]
    }
   ],
   "source": [
    "models_49b, betas, alpha = moving_beta(rdd, 6)"
   ]
  },
  {
   "cell_type": "code",
   "execution_count": 23,
   "metadata": {},
   "outputs": [
    {
     "name": "stdout",
     "output_type": "stream",
     "text": [
      "For model 1 with parameter alpha 2 and beta 1.01\n",
      "For topic  1 we have: ['image', 'method', 'process', 'application', 'material']\n",
      "For topic  2 we have: ['method', 'data', 'analysis', 'student', 'learn']\n",
      "For topic  3 we have: ['student', 'material', 'method', 'report', 'structure']\n",
      "For topic  4 we have: ['system', 'student', 'project', 'method', 'learn']\n",
      "For topic  5 we have: ['method', 'model', 'theory', 'problem', 'time']\n",
      "For topic  6 we have: ['learn', 'model', 'student', 'method', 'teach']\n",
      "For topic  7 we have: ['student', 'system', 'engineering', 'optic', 'method']\n",
      "For topic  8 we have: ['student', 'cell', 'biology', 'paper', 'chemical']\n",
      "For topic  9 we have: ['design', 'system', 'student', 'circuit', 'project']\n",
      "For topic 10 we have: ['energy', 'student', 'model', 'method', 'learn']\n",
      "\n",
      "\n",
      "For model 2 with parameter alpha 5 and beta 1.01\n",
      "For topic  1 we have: ['image', 'method', 'process', 'system', 'sensor']\n",
      "For topic  2 we have: ['data', 'method', 'analysis', 'student', 'learn']\n",
      "For topic  3 we have: ['student', 'material', 'method', 'write', 'report']\n",
      "For topic  4 we have: ['student', 'project', 'system', 'work', 'design']\n",
      "For topic  5 we have: ['model', 'method', 'theory', 'problem', 'time']\n",
      "For topic  6 we have: ['learn', 'student', 'method', 'model', 'teach']\n",
      "For topic  7 we have: ['student', 'engineering', 'system', 'optic', 'method']\n",
      "For topic  8 we have: ['student', 'cell', 'chemical', 'biology', 'paper']\n",
      "For topic  9 we have: ['design', 'system', 'circuit', 'technology', 'student']\n",
      "For topic 10 we have: ['energy', 'student', 'model', 'learn', 'method']\n",
      "\n",
      "\n",
      "For model 3 with parameter alpha 8 and beta 1.01\n",
      "For topic  1 we have: ['method', 'system', 'image', 'process', 'sensor']\n",
      "For topic  2 we have: ['data', 'method', 'student', 'analysis', 'learn']\n",
      "For topic  3 we have: ['student', 'method', 'material', 'structure', 'write']\n",
      "For topic  4 we have: ['student', 'project', 'work', 'system', 'design']\n",
      "For topic  5 we have: ['model', 'method', 'theory', 'time', 'problem']\n",
      "For topic  6 we have: ['learn', 'student', 'method', 'teach', 'model']\n",
      "For topic  7 we have: ['student', 'engineering', 'system', 'optic', 'method']\n",
      "For topic  8 we have: ['student', 'cell', 'chemical', 'biology', 'paper']\n",
      "For topic  9 we have: ['design', 'system', 'circuit', 'device', 'technology']\n",
      "For topic 10 we have: ['energy', 'student', 'model', 'learn', 'method']\n",
      "\n",
      "\n",
      "For model 4 with parameter alpha 11 and beta 1.01\n",
      "For topic  1 we have: ['method', 'system', 'process', 'sensor', 'electron']\n",
      "For topic  2 we have: ['data', 'student', 'method', 'analysis', 'learn']\n",
      "For topic  3 we have: ['student', 'method', 'material', 'learn', 'structure']\n",
      "For topic  4 we have: ['student', 'work', 'project', 'design', 'architecture']\n",
      "For topic  5 we have: ['model', 'method', 'theory', 'time', 'probability']\n",
      "For topic  6 we have: ['learn', 'student', 'method', 'teach', 'model']\n",
      "For topic  7 we have: ['student', 'engineering', 'system', 'optic', 'method']\n",
      "For topic  8 we have: ['student', 'cell', 'molecular', 'biology', 'chemical']\n",
      "For topic  9 we have: ['system', 'design', 'circuit', 'device', 'material']\n",
      "For topic 10 we have: ['energy', 'student', 'method', 'learn', 'model']\n",
      "\n",
      "\n",
      "For model 5 with parameter alpha 14 and beta 1.01\n",
      "For topic  1 we have: ['method', 'system', 'process', 'sensor', 'learn']\n",
      "For topic  2 we have: ['data', 'student', 'method', 'analysis', 'learn']\n",
      "For topic  3 we have: ['student', 'method', 'learn', 'material', 'structure']\n",
      "For topic  4 we have: ['student', 'work', 'project', 'design', 'architecture']\n",
      "For topic  5 we have: ['model', 'method', 'theory', 'time', 'probability']\n",
      "For topic  6 we have: ['learn', 'student', 'method', 'teach', 'model']\n",
      "For topic  7 we have: ['student', 'system', 'engineering', 'optic', 'method']\n",
      "For topic  8 we have: ['student', 'cell', 'molecular', 'biology', 'chemical']\n",
      "For topic  9 we have: ['system', 'design', 'circuit', 'student', 'material']\n",
      "For topic 10 we have: ['energy', 'student', 'method', 'learn', 'model']\n",
      "\n",
      "\n",
      "For model 6 with parameter alpha 17 and beta 1.01\n",
      "For topic  1 we have: ['method', 'system', 'student', 'learn', 'sensor']\n",
      "For topic  2 we have: ['data', 'student', 'method', 'learn', 'analysis']\n",
      "For topic  3 we have: ['student', 'method', 'learn', 'material', 'structure']\n",
      "For topic  4 we have: ['student', 'method', 'learn', 'design', 'work']\n",
      "For topic  5 we have: ['model', 'method', 'theory', 'learn', 'stochastic']\n",
      "For topic  6 we have: ['learn', 'student', 'method', 'teach', 'model']\n",
      "For topic  7 we have: ['system', 'student', 'engineering', 'method', 'optic']\n",
      "For topic  8 we have: ['student', 'cell', 'method', 'learn', 'molecular']\n",
      "For topic  9 we have: ['system', 'design', 'student', 'material', 'circuit']\n",
      "For topic 10 we have: ['energy', 'student', 'method', 'learn', 'model']\n",
      "\n",
      "\n",
      "For model 7 with parameter alpha 20 and beta 1.01\n",
      "For topic  1 we have: ['method', 'student', 'system', 'learn', 'model']\n",
      "For topic  2 we have: ['student', 'method', 'data', 'learn', 'analysis']\n",
      "For topic  3 we have: ['student', 'method', 'learn', 'material', 'project']\n",
      "For topic  4 we have: ['student', 'method', 'learn', 'architecture', 'design']\n",
      "For topic  5 we have: ['model', 'method', 'learn', 'student', 'theory']\n",
      "For topic  6 we have: ['learn', 'student', 'method', 'model', 'teach']\n",
      "For topic  7 we have: ['system', 'student', 'engineering', 'method', 'learn']\n",
      "For topic  8 we have: ['student', 'cell', 'method', 'learn', 'content']\n",
      "For topic  9 we have: ['system', 'design', 'student', 'material', 'method']\n",
      "For topic 10 we have: ['student', 'method', 'energy', 'learn', 'model']\n",
      "\n",
      "\n",
      "For model 8 with parameter alpha 23 and beta 1.01\n",
      "For topic  1 we have: ['method', 'student', 'learn', 'system', 'model']\n",
      "For topic  2 we have: ['student', 'method', 'learn', 'data', 'analysis']\n",
      "For topic  3 we have: ['student', 'method', 'learn', 'material', 'content']\n",
      "For topic  4 we have: ['student', 'method', 'learn', 'architecture', 'design']\n",
      "For topic  5 we have: ['method', 'model', 'learn', 'student', 'stochastic']\n",
      "For topic  6 we have: ['student', 'learn', 'method', 'model', 'teach']\n",
      "For topic  7 we have: ['system', 'student', 'engineering', 'method', 'learn']\n",
      "For topic  8 we have: ['student', 'method', 'cell', 'learn', 'content']\n",
      "For topic  9 we have: ['system', 'design', 'student', 'method', 'learn']\n",
      "For topic 10 we have: ['student', 'method', 'learn', 'energy', 'model']\n",
      "\n",
      "\n",
      "For model 9 with parameter alpha 26 and beta 1.01\n",
      "For topic  1 we have: ['method', 'student', 'learn', 'system', 'model']\n",
      "For topic  2 we have: ['student', 'method', 'learn', 'data', 'model']\n",
      "For topic  3 we have: ['student', 'method', 'learn', 'model', 'material']\n",
      "For topic  4 we have: ['student', 'method', 'learn', 'model', 'system']\n",
      "For topic  5 we have: ['method', 'model', 'student', 'learn', 'stochastic']\n",
      "For topic  6 we have: ['student', 'learn', 'method', 'model', 'content']\n",
      "For topic  7 we have: ['system', 'student', 'method', 'engineering', 'learn']\n",
      "For topic  8 we have: ['student', 'method', 'learn', 'cell', 'content']\n",
      "For topic  9 we have: ['system', 'design', 'student', 'method', 'learn']\n",
      "For topic 10 we have: ['student', 'method', 'learn', 'model', 'energy']\n",
      "\n",
      "\n",
      "For model 10 with parameter alpha 29 and beta 1.01\n",
      "For topic  1 we have: ['method', 'student', 'learn', 'system', 'model']\n",
      "For topic  2 we have: ['student', 'method', 'learn', 'model', 'data']\n",
      "For topic  3 we have: ['student', 'method', 'learn', 'model', 'content']\n",
      "For topic  4 we have: ['student', 'method', 'learn', 'model', 'system']\n",
      "For topic  5 we have: ['method', 'model', 'student', 'learn', 'basic']\n",
      "For topic  6 we have: ['student', 'learn', 'method', 'model', 'content']\n",
      "For topic  7 we have: ['student', 'system', 'method', 'learn', 'engineering']\n",
      "For topic  8 we have: ['student', 'method', 'learn', 'cell', 'content']\n",
      "For topic  9 we have: ['system', 'student', 'design', 'method', 'learn']\n",
      "For topic 10 we have: ['student', 'method', 'learn', 'model', 'energy']\n",
      "\n",
      "\n"
     ]
    }
   ],
   "source": [
    "evaluate_models(models_49a, 'alpha', alphas, 'beta', beta, words_ids_map)"
   ]
  },
  {
   "cell_type": "code",
   "execution_count": 29,
   "metadata": {},
   "outputs": [
    {
     "name": "stdout",
     "output_type": "stream",
     "text": [
      "For model 1 with parameter beta 2 and alpha 6\n",
      "For topic  1 we have: ['method', 'process', 'learn', 'system', 'material']\n",
      "For topic  2 we have: ['student', 'data', 'project', 'report', 'method']\n",
      "For topic  3 we have: ['student', 'method', 'learn', 'material', 'structure']\n",
      "For topic  4 we have: ['model', 'student', 'method', 'learn', 'system']\n",
      "For topic  5 we have: ['method', 'model', 'theory', 'basic', 'learn']\n",
      "For topic  6 we have: ['student', 'learn', 'method', 'model', 'analysis']\n",
      "For topic  7 we have: ['method', 'learn', 'student', 'model', 'concept']\n",
      "For topic  8 we have: ['cell', 'student', 'biology', 'molecular', 'chemical']\n",
      "For topic  9 we have: ['system', 'design', 'student', 'circuit', 'learn']\n",
      "For topic 10 we have: ['energy', 'student', 'method', 'learn', 'model']\n",
      "\n",
      "\n",
      "For model 2 with parameter beta 5 and alpha 6\n",
      "For topic  1 we have: ['method', 'student', 'learn', 'content', 'model']\n",
      "For topic  2 we have: ['student', 'method', 'learn', 'content', 'model']\n",
      "For topic  3 we have: ['method', 'student', 'content', 'learn', 'basic']\n",
      "For topic  4 we have: ['method', 'student', 'learn', 'model', 'content']\n",
      "For topic  5 we have: ['method', 'student', 'learn', 'content', 'model']\n",
      "For topic  6 we have: ['method', 'student', 'learn', 'content', 'model']\n",
      "For topic  7 we have: ['method', 'student', 'learn', 'model', 'content']\n",
      "For topic  8 we have: ['student', 'method', 'content', 'cell', 'learn']\n",
      "For topic  9 we have: ['student', 'method', 'system', 'learn', 'design']\n",
      "For topic 10 we have: ['student', 'method', 'learn', 'content', 'energy']\n",
      "\n",
      "\n",
      "For model 3 with parameter beta 8 and alpha 6\n",
      "For topic  1 we have: ['method', 'student', 'learn', 'content', 'model']\n",
      "For topic  2 we have: ['student', 'method', 'learn', 'content', 'model']\n",
      "For topic  3 we have: ['content', 'method', 'student', 'learn', 'theory']\n",
      "For topic  4 we have: ['method', 'student', 'learn', 'content', 'model']\n",
      "For topic  5 we have: ['method', 'student', 'learn', 'content', 'model']\n",
      "For topic  6 we have: ['method', 'student', 'learn', 'content', 'model']\n",
      "For topic  7 we have: ['method', 'student', 'learn', 'model', 'content']\n",
      "For topic  8 we have: ['content', 'student', 'method', 'learn', 'cell']\n",
      "For topic  9 we have: ['student', 'method', 'learn', 'system', 'model']\n",
      "For topic 10 we have: ['student', 'method', 'content', 'learn', 'model']\n",
      "\n",
      "\n",
      "For model 4 with parameter beta 11 and alpha 6\n",
      "For topic  1 we have: ['student', 'method', 'learn', 'content', 'model']\n",
      "For topic  2 we have: ['student', 'method', 'learn', 'content', 'model']\n",
      "For topic  3 we have: ['method', 'content', 'student', 'learn', 'basic']\n",
      "For topic  4 we have: ['student', 'method', 'learn', 'content', 'model']\n",
      "For topic  5 we have: ['method', 'student', 'learn', 'content', 'model']\n",
      "For topic  6 we have: ['student', 'method', 'learn', 'content', 'model']\n",
      "For topic  7 we have: ['method', 'student', 'learn', 'model', 'content']\n",
      "For topic  8 we have: ['student', 'content', 'method', 'learn', 'basic']\n",
      "For topic  9 we have: ['student', 'method', 'learn', 'system', 'model']\n",
      "For topic 10 we have: ['student', 'method', 'learn', 'content', 'model']\n",
      "\n",
      "\n",
      "For model 5 with parameter beta 14 and alpha 6\n",
      "For topic  1 we have: ['student', 'method', 'learn', 'model', 'content']\n",
      "For topic  2 we have: ['student', 'method', 'learn', 'content', 'model']\n",
      "For topic  3 we have: ['student', 'method', 'learn', 'content', 'model']\n",
      "For topic  4 we have: ['student', 'method', 'learn', 'model', 'content']\n",
      "For topic  5 we have: ['student', 'method', 'learn', 'content', 'model']\n",
      "For topic  6 we have: ['student', 'method', 'learn', 'model', 'content']\n",
      "For topic  7 we have: ['student', 'method', 'learn', 'model', 'system']\n",
      "For topic  8 we have: ['student', 'method', 'learn', 'content', 'model']\n",
      "For topic  9 we have: ['student', 'method', 'learn', 'system', 'model']\n",
      "For topic 10 we have: ['student', 'method', 'learn', 'content', 'model']\n",
      "\n",
      "\n",
      "For model 6 with parameter beta 17 and alpha 6\n",
      "For topic  1 we have: ['student', 'method', 'learn', 'model', 'system']\n",
      "For topic  2 we have: ['student', 'method', 'learn', 'model', 'content']\n",
      "For topic  3 we have: ['student', 'method', 'learn', 'content', 'model']\n",
      "For topic  4 we have: ['student', 'method', 'learn', 'model', 'system']\n",
      "For topic  5 we have: ['student', 'method', 'learn', 'model', 'content']\n",
      "For topic  6 we have: ['student', 'method', 'learn', 'model', 'content']\n",
      "For topic  7 we have: ['student', 'method', 'learn', 'model', 'system']\n",
      "For topic  8 we have: ['student', 'method', 'learn', 'content', 'model']\n",
      "For topic  9 we have: ['student', 'method', 'learn', 'system', 'model']\n",
      "For topic 10 we have: ['student', 'method', 'learn', 'model', 'content']\n",
      "\n",
      "\n",
      "For model 7 with parameter beta 20 and alpha 6\n",
      "For topic  1 we have: ['student', 'method', 'learn', 'model', 'system']\n",
      "For topic  2 we have: ['student', 'method', 'learn', 'model', 'system']\n",
      "For topic  3 we have: ['student', 'method', 'learn', 'model', 'content']\n",
      "For topic  4 we have: ['student', 'method', 'learn', 'model', 'system']\n",
      "For topic  5 we have: ['student', 'method', 'learn', 'model', 'system']\n",
      "For topic  6 we have: ['student', 'method', 'learn', 'model', 'system']\n",
      "For topic  7 we have: ['student', 'method', 'learn', 'model', 'system']\n",
      "For topic  8 we have: ['student', 'method', 'learn', 'model', 'content']\n",
      "For topic  9 we have: ['student', 'method', 'learn', 'system', 'model']\n",
      "For topic 10 we have: ['student', 'method', 'learn', 'model', 'system']\n",
      "\n",
      "\n",
      "For model 8 with parameter beta 23 and alpha 6\n",
      "For topic  1 we have: ['student', 'method', 'learn', 'system', 'model']\n",
      "For topic  2 we have: ['student', 'method', 'learn', 'model', 'system']\n",
      "For topic  3 we have: ['student', 'method', 'learn', 'model', 'system']\n",
      "For topic  4 we have: ['student', 'method', 'learn', 'model', 'system']\n",
      "For topic  5 we have: ['student', 'method', 'learn', 'model', 'system']\n",
      "For topic  6 we have: ['student', 'method', 'learn', 'model', 'system']\n",
      "For topic  7 we have: ['student', 'method', 'learn', 'system', 'model']\n",
      "For topic  8 we have: ['student', 'method', 'learn', 'model', 'system']\n",
      "For topic  9 we have: ['student', 'method', 'learn', 'system', 'model']\n",
      "For topic 10 we have: ['student', 'method', 'learn', 'model', 'system']\n",
      "\n",
      "\n",
      "For model 9 with parameter beta 26 and alpha 6\n",
      "For topic  1 we have: ['student', 'method', 'learn', 'system', 'model']\n",
      "For topic  2 we have: ['student', 'method', 'learn', 'model', 'system']\n",
      "For topic  3 we have: ['student', 'method', 'learn', 'model', 'system']\n",
      "For topic  4 we have: ['student', 'method', 'learn', 'model', 'system']\n",
      "For topic  5 we have: ['student', 'method', 'learn', 'model', 'system']\n",
      "For topic  6 we have: ['student', 'method', 'learn', 'model', 'system']\n",
      "For topic  7 we have: ['student', 'method', 'learn', 'system', 'model']\n",
      "For topic  8 we have: ['student', 'method', 'learn', 'model', 'system']\n",
      "For topic  9 we have: ['student', 'method', 'learn', 'system', 'model']\n",
      "For topic 10 we have: ['student', 'method', 'learn', 'model', 'system']\n",
      "\n",
      "\n",
      "For model 10 with parameter beta 29 and alpha 6\n",
      "For topic  1 we have: ['student', 'method', 'learn', 'system', 'model']\n",
      "For topic  2 we have: ['student', 'method', 'learn', 'model', 'system']\n",
      "For topic  3 we have: ['student', 'method', 'learn', 'model', 'system']\n",
      "For topic  4 we have: ['student', 'method', 'learn', 'system', 'model']\n",
      "For topic  5 we have: ['student', 'method', 'learn', 'model', 'system']\n",
      "For topic  6 we have: ['student', 'method', 'learn', 'model', 'system']\n",
      "For topic  7 we have: ['student', 'method', 'learn', 'system', 'model']\n",
      "For topic  8 we have: ['student', 'method', 'learn', 'model', 'system']\n",
      "For topic  9 we have: ['student', 'method', 'learn', 'system', 'model']\n",
      "For topic 10 we have: ['student', 'method', 'learn', 'model', 'system']\n",
      "\n",
      "\n"
     ]
    }
   ],
   "source": [
    "evaluate_models(models_49b, 'beta', betas, 'alpha', alpha, words_ids_map)"
   ]
  },
  {
   "cell_type": "markdown",
   "metadata": {},
   "source": [
    "### Conclusion\n",
    "***TODO.***\n",
    "- Bonsoir on peut voir que proutinos est champion du monde"
   ]
  },
  {
   "cell_type": "markdown",
   "metadata": {},
   "source": [
    "---\n",
    "## Exercise 4.10: EPFL's taught subjects"
   ]
  },
  {
   "cell_type": "markdown",
   "metadata": {},
   "source": [
    "From exercise `4.9` we found out that parameters that give the most interpretable results are : "
   ]
  },
  {
   "cell_type": "code",
   "execution_count": null,
   "metadata": {},
   "outputs": [],
   "source": [
    "k = 10\n",
    "alpha = 5\n",
    "beta = 1.5"
   ]
  },
  {
   "cell_type": "markdown",
   "metadata": {},
   "source": [
    "***TODO.*** We chose these values because el proutor is a boss "
   ]
  },
  {
   "cell_type": "markdown",
   "metadata": {},
   "source": [
    "### Run with optimal hyperparameters"
   ]
  },
  {
   "cell_type": "code",
   "execution_count": null,
   "metadata": {},
   "outputs": [],
   "source": [
    "model_410 = LDA.train(rdd, k=k, docConcentration=float(alpha), topicConcentration=float(beta), seed=1)"
   ]
  },
  {
   "cell_type": "code",
   "execution_count": null,
   "metadata": {},
   "outputs": [],
   "source": [
    "extract_topic(model_410, 5, words_ids_map)"
   ]
  },
  {
   "cell_type": "markdown",
   "metadata": {},
   "source": [
    "### Label topics\n",
    "\n",
    "- Topic 1 `prout-prout`\n",
    "- etc."
   ]
  },
  {
   "cell_type": "markdown",
   "metadata": {},
   "source": [
    "---\n",
    "# Wikipedia structure"
   ]
  },
  {
   "cell_type": "markdown",
   "metadata": {},
   "source": [
    "### Import Data"
   ]
  },
  {
   "cell_type": "code",
   "execution_count": 30,
   "metadata": {},
   "outputs": [],
   "source": [
    "wikipedia_rdd = sc.textFile('/ix/wikipedia-for-schools.txt').map(json.loads)"
   ]
  },
  {
   "cell_type": "markdown",
   "metadata": {},
   "source": [
    "### Tools for Data Preparation"
   ]
  },
  {
   "cell_type": "code",
   "execution_count": 31,
   "metadata": {},
   "outputs": [],
   "source": [
    "\"\"\"Create super set bag of words\n",
    "@param: (rdd) RDD dataset of courses\n",
    "@return: Set of all existing terms\n",
    "\"\"\"\n",
    "def bow_wiki(rdd):\n",
    "    return set(rdd.flatMap(lambda c: c[\"tokens\"]).collect())"
   ]
  },
  {
   "cell_type": "markdown",
   "metadata": {},
   "source": [
    "### Preprocessing Data"
   ]
  },
  {
   "cell_type": "markdown",
   "metadata": {},
   "source": [
    "Useful following variables documentation. Note that none of these variables are RDDs.\n",
    "- **`superbow`** is the *set* of every existing terms we are dealing with.\n",
    "- **`words_ids_map`** is a *dict* mapping every existing terms to a specific ID $\\in N$\n",
    "- **`doc_ids_map`** is a *dict* mapping every existing documents (here courses descriptions) to a specific ID $\\in N$\n",
    "- **`tc`** is the term count *matrix*. It has one row for every document and one column for every existing term."
   ]
  },
  {
   "cell_type": "code",
   "execution_count": 32,
   "metadata": {},
   "outputs": [],
   "source": [
    "wiki_superbow = bow_wiki(wikipedia_rdd)\n",
    "tokens_ids_map = dict(zip(wiki_superbow, range(len(wiki_superbow))))"
   ]
  },
  {
   "cell_type": "code",
   "execution_count": 33,
   "metadata": {},
   "outputs": [],
   "source": [
    "page_ids = wikipedia_rdd.map(lambda c: c['page_id']).collect()\n",
    "wiki_doc_ids_map = dict(zip(page_ids, range(len(page_ids))))\n",
    "wiki_doc_ids = list(wiki_doc_ids_map.values())"
   ]
  },
  {
   "cell_type": "code",
   "execution_count": 34,
   "metadata": {},
   "outputs": [],
   "source": [
    "wiki_termcount = (\n",
    "    wikipedia_rdd\n",
    "    .map(lambda c: [((wiki_doc_ids_map[c[\"page_id\"]], tokens_ids_map[w]),1) for w in c[\"tokens\"]])\n",
    "    .flatMap(lambda c: c)\n",
    "    .reduceByKey(lambda x, y : x + y)\n",
    ")"
   ]
  },
  {
   "cell_type": "code",
   "execution_count": 35,
   "metadata": {},
   "outputs": [],
   "source": [
    "wiki_tc = populate_tc(wiki_termcount.collect(), len(wiki_doc_ids), len(wiki_superbow))"
   ]
  },
  {
   "cell_type": "code",
   "execution_count": 36,
   "metadata": {},
   "outputs": [
    {
     "data": {
      "text/plain": [
       "(5554, 494494)"
      ]
     },
     "execution_count": 36,
     "metadata": {},
     "output_type": "execute_result"
    }
   ],
   "source": [
    "wiki_tc.shape"
   ]
  },
  {
   "cell_type": "markdown",
   "metadata": {},
   "source": [
    "### Model Parameters"
   ]
  },
  {
   "cell_type": "markdown",
   "metadata": {},
   "source": [
    "**LDA Model** requires **`doc_tc`** a list of tuples with documents IDs and corresponding terms count under a `pyspark.mllib.linalg.vector` format."
   ]
  },
  {
   "cell_type": "code",
   "execution_count": 37,
   "metadata": {},
   "outputs": [],
   "source": [
    "wiki_tcs_dense = [Vectors.dense(wordcount) for wordcount in tc]\n",
    "#wiki_tcs_sparse = list(map(lambda x: create_sparse_vector(x), wiki_tcs_dense))\n",
    "wiki_doc_tc_tup = list(zip(doc_ids, wiki_tcs_dense))\n",
    "wiki_doc_tc = list(map(lambda x: list(x), wiki_doc_tc_tup))"
   ]
  },
  {
   "cell_type": "markdown",
   "metadata": {},
   "source": [
    "Upper cell can take 1-2s to run because we cast to Sparse Vectors format for Model optimization. <br>\n",
    "Note also that in reality the LDA model needs this funny `doc_tc` list but in `RDD` format : "
   ]
  },
  {
   "cell_type": "code",
   "execution_count": 38,
   "metadata": {},
   "outputs": [],
   "source": [
    "wiki_rdd = sc.parallelize(wiki_doc_tc)"
   ]
  },
  {
   "cell_type": "markdown",
   "metadata": {},
   "source": [
    "---\n",
    "## Exercise 4.11: Wikipedia structure"
   ]
  },
  {
   "cell_type": "markdown",
   "metadata": {},
   "source": [
    "From our interpretations we think that optimal parameters giving most interpretable results are : "
   ]
  },
  {
   "cell_type": "code",
   "execution_count": null,
   "metadata": {},
   "outputs": [],
   "source": [
    "k = ?\n",
    "alpha = ?\n",
    "beta = ?"
   ]
  },
  {
   "cell_type": "markdown",
   "metadata": {},
   "source": [
    "***TODO.*** Explanations"
   ]
  },
  {
   "cell_type": "markdown",
   "metadata": {},
   "source": [
    "### Run with optimal hyperparameters"
   ]
  },
  {
   "cell_type": "code",
   "execution_count": 39,
   "metadata": {},
   "outputs": [],
   "source": [
    "model_411 = LDA.train(wiki_rdd, k=100, docConcentration=float(5), topicConcentration=float(1.01), seed=1)"
   ]
  },
  {
   "cell_type": "code",
   "execution_count": 41,
   "metadata": {},
   "outputs": [
    {
     "name": "stdout",
     "output_type": "stream",
     "text": [
      "For topic  1 we have: ['years—but', 'mandatethough', 'diamondbattles', 'museumseveral', 'enguerrand', 'jacksonnelson', 'islandsthors', 'pteridophyta', 'oligonucleotides', 'feathersthe', 'bunratty', 'mitteilungen', 'marz', 'metrictablespoon', 'worsenscystic', 'courtdrugs', 'ordersreligions', 'lightmeasures', 'corporationpaknetpublic', 'resistanceaccording']\n",
      "For topic  2 we have: ['years—but', 'mandatethough', 'diamondbattles', 'museumseveral', 'jacksonnelson', 'enguerrand', 'islandsthors', 'ordersreligions', 'pteridophyta', 'oligonucleotides', 'feathersthe', 'waxhaws', 'courtdrugs', 'guillotines', 'marz', 'worsenscystic', 'mitteilungen', 'metrictablespoon', 'lightmeasures', 'tml']\n",
      "For topic  3 we have: ['years—but', 'mandatethough', 'diamondbattles', 'museumseveral', 'jacksonnelson', 'enguerrand', 'islandsthors', 'feathersthe', 'oligonucleotides', 'courtdrugs', 'ordersreligions', 'pteridophyta', 'worsenscystic', 'marz', 'metrictablespoon', 'waxhaws', 'mitteilungen', 'resistanceaccording', 'lightmeasures', 'islandbiological']\n",
      "For topic  4 we have: ['years—but', 'mandatethough', 'diamondbattles', 'museumseveral', 'jacksonnelson', 'enguerrand', 'islandsthors', 'oligonucleotides', 'ordersreligions', 'pteridophyta', 'feathersthe', 'courtdrugs', 'marz', 'metrictablespoon', 'waxhaws', 'lightmeasures', 'worsenscystic', 'mitteilungen', 'guillotines', 'zealandbrisbane']\n",
      "For topic  5 we have: ['years—but', 'mandatethough', 'diamondbattles', 'jacksonnelson', 'museumseveral', 'enguerrand', 'islandsthors', 'ordersreligions', 'oligonucleotides', 'pteridophyta', 'feathersthe', 'courtdrugs', 'marz', 'waxhaws', 'guillotines', 'mitteilungen', 'metrictablespoon', 'lightmeasures', 'worsenscystic', 'corporationpaknetpublic']\n",
      "For topic  6 we have: ['years—but', 'mandatethough', 'diamondbattles', 'museumseveral', 'jacksonnelson', 'enguerrand', 'islandsthors', 'pteridophyta', 'oligonucleotides', 'ordersreligions', 'marz', 'waxhaws', 'mitteilungen', 'feathersthe', 'guillotines', 'worsenscystic', 'metrictablespoon', 'courtdrugs', 'lightmeasures', 'zealandbrisbane']\n",
      "For topic  7 we have: ['years—but', 'mandatethough', 'diamondbattles', 'jacksonnelson', 'enguerrand', 'museumseveral', 'islandsthors', 'ordersreligions', 'oligonucleotides', 'feathersthe', 'pteridophyta', 'courtdrugs', 'waxhaws', 'marz', 'worsenscystic', 'metrictablespoon', 'mitteilungen', 'corporationpaknetpublic', 'guillotines', 'tml']\n",
      "For topic  8 we have: ['years—but', 'mandatethough', 'diamondbattles', 'jacksonnelson', 'museumseveral', 'enguerrand', 'islandsthors', 'ordersreligions', 'courtdrugs', 'pteridophyta', 'waxhaws', 'oligonucleotides', 'marz', 'feathersthe', 'worsenscystic', 'guillotines', 'lightmeasures', 'metrictablespoon', 'mitteilungen', 'zealandbrisbane']\n",
      "For topic  9 we have: ['years—but', 'mandatethough', 'diamondbattles', 'museumseveral', 'jacksonnelson', 'enguerrand', 'islandsthors', 'courtdrugs', 'oligonucleotides', 'ordersreligions', 'feathersthe', 'waxhaws', 'mitteilungen', 'marz', 'pteridophyta', 'metrictablespoon', 'lightmeasures', 'paddlewheelers', 'resistanceaccording', 'zealandbrisbane']\n",
      "For topic 10 we have: ['years—but', 'mandatethough', 'diamondbattles', 'jacksonnelson', 'museumseveral', 'islandsthors', 'enguerrand', 'oligonucleotides', 'courtdrugs', 'feathersthe', 'pteridophyta', 'ordersreligions', 'waxhaws', 'mitteilungen', 'metrictablespoon', 'marz', 'worsenscystic', 'islandbiological', 'corporationpaknetpublic', 'lightmeasures']\n",
      "For topic 11 we have: ['years—but', 'mandatethough', 'diamondbattles', 'jacksonnelson', 'museumseveral', 'islandsthors', 'enguerrand', 'oligonucleotides', 'ordersreligions', 'feathersthe', 'courtdrugs', 'pteridophyta', 'metrictablespoon', 'waxhaws', 'worsenscystic', 'mitteilungen', 'marz', 'lightmeasures', 'resistanceaccording', 'paddlewheelers']\n",
      "For topic 12 we have: ['years—but', 'mandatethough', 'diamondbattles', 'museumseveral', 'jacksonnelson', 'islandsthors', 'enguerrand', 'ordersreligions', 'pteridophyta', 'islandbiological', 'oligonucleotides', 'waxhaws', 'mitteilungen', 'marz', 'feathersthe', 'courtdrugs', 'metrictablespoon', 'lightmeasures', 'guillotines', 'resistanceaccording']\n",
      "For topic 13 we have: ['years—but', 'mandatethough', 'diamondbattles', 'jacksonnelson', 'museumseveral', 'enguerrand', 'islandsthors', 'pteridophyta', 'oligonucleotides', 'feathersthe', 'courtdrugs', 'ordersreligions', 'metrictablespoon', 'marz', 'mitteilungen', 'rɔtərdɑm', 'waxhaws', 'resistanceaccording', 'worsenscystic', 'tml']\n",
      "For topic 14 we have: ['years—but', 'mandatethough', 'diamondbattles', 'jacksonnelson', 'museumseveral', 'enguerrand', 'islandsthors', 'ordersreligions', 'pteridophyta', 'courtdrugs', 'oligonucleotides', 'waxhaws', 'marz', 'feathersthe', 'metrictablespoon', 'lightmeasures', 'worsenscystic', 'resistanceaccording', 'zealandbrisbane', 'mitteilungen']\n",
      "For topic 15 we have: ['years—but', 'mandatethough', 'diamondbattles', 'museumseveral', 'jacksonnelson', 'islandsthors', 'enguerrand', 'ordersreligions', 'feathersthe', 'oligonucleotides', 'waxhaws', 'pteridophyta', 'courtdrugs', 'guillotines', 'metrictablespoon', 'marz', 'mitteilungen', 'worsenscystic', 'zealandbrisbane', 'lightmeasures']\n",
      "For topic 16 we have: ['years—but', 'mandatethough', 'diamondbattles', 'jacksonnelson', 'museumseveral', 'islandsthors', 'enguerrand', 'pteridophyta', 'courtdrugs', 'ordersreligions', 'oligonucleotides', 'feathersthe', 'marz', 'metrictablespoon', 'mitteilungen', 'worsenscystic', 'waxhaws', 'rɔtərdɑm', 'zealandbrisbane', 'lightmeasures']\n",
      "For topic 17 we have: ['years—but', 'mandatethough', 'diamondbattles', 'museumseveral', 'jacksonnelson', 'enguerrand', 'islandsthors', 'oligonucleotides', 'pteridophyta', 'ordersreligions', 'courtdrugs', 'mitteilungen', 'feathersthe', 'marz', 'rɔtərdɑm', 'waxhaws', 'metrictablespoon', 'worsenscystic', 'resistanceaccording', 'zealandbrisbane']\n",
      "For topic 18 we have: ['years—but', 'mandatethough', 'diamondbattles', 'jacksonnelson', 'museumseveral', 'enguerrand', 'islandsthors', 'ordersreligions', 'oligonucleotides', 'courtdrugs', 'pteridophyta', 'feathersthe', 'marz', 'mitteilungen', 'waxhaws', 'worsenscystic', 'metrictablespoon', 'zealandbrisbane', 'resistanceaccording', 'guillotines']\n",
      "For topic 19 we have: ['years—but', 'mandatethough', 'diamondbattles', 'museumseveral', 'jacksonnelson', 'islandsthors', 'enguerrand', 'ordersreligions', 'oligonucleotides', 'feathersthe', 'pteridophyta', 'marz', 'courtdrugs', 'metrictablespoon', 'waxhaws', 'tml', 'worsenscystic', 'mitteilungen', 'lightmeasures', 'corporationpaknetpublic']\n",
      "For topic 20 we have: ['years—but', 'mandatethough', 'diamondbattles', 'jacksonnelson', 'museumseveral', 'enguerrand', 'islandsthors', 'ordersreligions', 'pteridophyta', 'oligonucleotides', 'waxhaws', 'courtdrugs', 'marz', 'feathersthe', 'mitteilungen', 'metrictablespoon', 'lightmeasures', 'worsenscystic', 'tml', 'resistanceaccording']\n",
      "For topic 21 we have: ['years—but', 'mandatethough', 'diamondbattles', 'museumseveral', 'jacksonnelson', 'enguerrand', 'islandsthors', 'pteridophyta', 'courtdrugs', 'oligonucleotides', 'ordersreligions', 'feathersthe', 'marz', 'worsenscystic', 'waxhaws', 'metrictablespoon', 'mitteilungen', 'lightmeasures', 'resistanceaccording', 'rangekurita']\n",
      "For topic 22 we have: ['years—but', 'mandatethough', 'diamondbattles', 'museumseveral', 'jacksonnelson', 'enguerrand', 'islandsthors', 'pteridophyta', 'oligonucleotides', 'feathersthe', 'courtdrugs', 'marz', 'ordersreligions', 'waxhaws', 'worsenscystic', 'rɔtərdɑm', 'guillotines', 'metrictablespoon', 'mitteilungen', 'lightmeasures']\n",
      "For topic 23 we have: ['years—but', 'mandatethough', 'diamondbattles', 'museumseveral', 'jacksonnelson', 'enguerrand', 'islandsthors', 'oligonucleotides', 'pteridophyta', 'ordersreligions', 'feathersthe', 'courtdrugs', 'marz', 'waxhaws', 'metrictablespoon', 'guillotines', 'worsenscystic', 'lightmeasures', 'mitteilungen', 'resistanceaccording']\n",
      "For topic 24 we have: ['years—but', 'mandatethough', 'diamondbattles', 'jacksonnelson', 'museumseveral', 'ordersreligions', 'islandsthors', 'enguerrand', 'pteridophyta', 'oligonucleotides', 'courtdrugs', 'feathersthe', 'guillotines', 'metrictablespoon', 'marz', 'waxhaws', 'worsenscystic', 'mitteilungen', 'lightmeasures', 'protoichthyosaurs']\n"
     ]
    },
    {
     "name": "stdout",
     "output_type": "stream",
     "text": [
      "For topic 25 we have: ['years—but', 'mandatethough', 'diamondbattles', 'jacksonnelson', 'museumseveral', 'enguerrand', 'islandsthors', 'ordersreligions', 'pteridophyta', 'oligonucleotides', 'courtdrugs', 'waxhaws', 'feathersthe', 'marz', 'mitteilungen', 'lightmeasures', 'guillotines', 'metrictablespoon', 'rɔtərdɑm', 'worsenscystic']\n",
      "For topic 26 we have: ['years—but', 'mandatethough', 'diamondbattles', 'jacksonnelson', 'museumseveral', 'enguerrand', 'islandsthors', 'pteridophyta', 'oligonucleotides', 'ordersreligions', 'feathersthe', 'lightmeasures', 'waxhaws', 'marz', 'mitteilungen', 'courtdrugs', 'metrictablespoon', 'corporationpaknetpublic', 'resistanceaccording', 'worsenscystic']\n",
      "For topic 27 we have: ['years—but', 'mandatethough', 'diamondbattles', 'jacksonnelson', 'museumseveral', 'enguerrand', 'islandsthors', 'pteridophyta', 'feathersthe', 'ordersreligions', 'marz', 'courtdrugs', 'oligonucleotides', 'mitteilungen', 'waxhaws', 'worsenscystic', 'metrictablespoon', 'lightmeasures', 'zealandbrisbane', 'guillotines']\n",
      "For topic 28 we have: ['years—but', 'mandatethough', 'diamondbattles', 'museumseveral', 'enguerrand', 'jacksonnelson', 'islandsthors', 'ordersreligions', 'pteridophyta', 'oligonucleotides', 'feathersthe', 'guillotines', 'courtdrugs', 'waxhaws', 'metrictablespoon', 'marz', 'lightmeasures', 'mitteilungen', 'resistanceaccording', 'islandbiological']\n",
      "For topic 29 we have: ['years—but', 'mandatethough', 'diamondbattles', 'jacksonnelson', 'museumseveral', 'islandsthors', 'enguerrand', 'ordersreligions', 'pteridophyta', 'courtdrugs', 'oligonucleotides', 'feathersthe', 'marz', 'waxhaws', 'metrictablespoon', 'mitteilungen', 'worsenscystic', 'lightmeasures', 'guillotines', 'resistanceaccording']\n",
      "For topic 30 we have: ['years—but', 'mandatethough', 'diamondbattles', 'jacksonnelson', 'museumseveral', 'enguerrand', 'islandsthors', 'ordersreligions', 'courtdrugs', 'oligonucleotides', 'pteridophyta', 'marz', 'worsenscystic', 'waxhaws', 'mitteilungen', 'metrictablespoon', 'feathersthe', 'resistanceaccording', 'lightmeasures', 'rɔtərdɑm']\n",
      "For topic 31 we have: ['years—but', 'mandatethough', 'diamondbattles', 'museumseveral', 'jacksonnelson', 'enguerrand', 'islandsthors', 'ordersreligions', 'pteridophyta', 'oligonucleotides', 'waxhaws', 'guillotines', 'feathersthe', 'courtdrugs', 'marz', 'metrictablespoon', 'mitteilungen', 'worsenscystic', 'lightmeasures', 'resistanceaccording']\n",
      "For topic 32 we have: ['years—but', 'mandatethough', 'diamondbattles', 'museumseveral', 'jacksonnelson', 'enguerrand', 'islandsthors', 'ordersreligions', 'oligonucleotides', 'feathersthe', 'mitteilungen', 'pteridophyta', 'courtdrugs', 'rɔtərdɑm', 'marz', 'waxhaws', 'metrictablespoon', 'worsenscystic', 'islandbiological', 'lightmeasures']\n",
      "For topic 33 we have: ['years—but', 'mandatethough', 'jacksonnelson', 'diamondbattles', 'museumseveral', 'enguerrand', 'islandsthors', 'pteridophyta', 'oligonucleotides', 'courtdrugs', 'feathersthe', 'ordersreligions', 'marz', 'mitteilungen', 'rɔtərdɑm', 'metrictablespoon', 'waxhaws', 'resistanceaccording', 'worsenscystic', 'zealandbrisbane']\n",
      "For topic 34 we have: ['years—but', 'mandatethough', 'diamondbattles', 'jacksonnelson', 'museumseveral', 'enguerrand', 'islandsthors', 'ordersreligions', 'oligonucleotides', 'feathersthe', 'waxhaws', 'courtdrugs', 'pteridophyta', 'marz', 'metrictablespoon', 'guillotines', 'mitteilungen', 'worsenscystic', 'lightmeasures', 'rɔtərdɑm']\n",
      "For topic 35 we have: ['years—but', 'mandatethough', 'diamondbattles', 'jacksonnelson', 'museumseveral', 'islandsthors', 'enguerrand', 'pteridophyta', 'ordersreligions', 'oligonucleotides', 'courtdrugs', 'feathersthe', 'marz', 'waxhaws', 'guillotines', 'metrictablespoon', 'mitteilungen', 'lightmeasures', 'worsenscystic', 'zealandbrisbane']\n",
      "For topic 36 we have: ['years—but', 'mandatethough', 'diamondbattles', 'jacksonnelson', 'museumseveral', 'enguerrand', 'islandsthors', 'oligonucleotides', 'courtdrugs', 'pteridophyta', 'ordersreligions', 'waxhaws', 'metrictablespoon', 'marz', 'mitteilungen', 'lightmeasures', 'rɔtərdɑm', 'feathersthe', 'worsenscystic', 'islandbiological']\n",
      "For topic 37 we have: ['years—but', 'mandatethough', 'diamondbattles', 'jacksonnelson', 'museumseveral', 'enguerrand', 'islandsthors', 'oligonucleotides', 'feathersthe', 'courtdrugs', 'pteridophyta', 'marz', 'mitteilungen', 'worsenscystic', 'metrictablespoon', 'ordersreligions', 'islandbiological', 'waxhaws', 'lightmeasures', 'resistanceaccording']\n",
      "For topic 38 we have: ['years—but', 'mandatethough', 'diamondbattles', 'museumseveral', 'jacksonnelson', 'islandsthors', 'enguerrand', 'oligonucleotides', 'pteridophyta', 'ordersreligions', 'courtdrugs', 'marz', 'guillotines', 'feathersthe', 'mitteilungen', 'metrictablespoon', 'zealandbrisbane', 'lightmeasures', 'waxhaws', 'worsenscystic']\n",
      "For topic 39 we have: ['years—but', 'mandatethough', 'diamondbattles', 'museumseveral', 'jacksonnelson', 'islandsthors', 'enguerrand', 'ordersreligions', 'oligonucleotides', 'pteridophyta', 'courtdrugs', 'waxhaws', 'feathersthe', 'marz', 'metrictablespoon', 'mitteilungen', 'worsenscystic', 'rɔtərdɑm', 'guillotines', 'tml']\n",
      "For topic 40 we have: ['years—but', 'mandatethough', 'diamondbattles', 'jacksonnelson', 'museumseveral', 'islandsthors', 'enguerrand', 'ordersreligions', 'oligonucleotides', 'waxhaws', 'pteridophyta', 'feathersthe', 'courtdrugs', 'majeure', 'worsenscystic', 'marz', 'mitteilungen', 'rɔtərdɑm', 'lightmeasures', 'metrictablespoon']\n",
      "For topic 41 we have: ['years—but', 'mandatethough', 'diamondbattles', 'museumseveral', 'jacksonnelson', 'islandsthors', 'enguerrand', 'pteridophyta', 'ordersreligions', 'feathersthe', 'oligonucleotides', 'marz', 'mitteilungen', 'courtdrugs', 'metrictablespoon', 'waxhaws', 'lightmeasures', 'guillotines', 'worsenscystic', 'resistanceaccording']\n",
      "For topic 42 we have: ['years—but', 'mandatethough', 'diamondbattles', 'museumseveral', 'jacksonnelson', 'enguerrand', 'islandsthors', 'ordersreligions', 'pteridophyta', 'oligonucleotides', 'courtdrugs', 'feathersthe', 'guillotines', 'waxhaws', 'metrictablespoon', 'marz', 'mitteilungen', 'lightmeasures', 'worsenscystic', 'resistanceaccording']\n",
      "For topic 43 we have: ['years—but', 'mandatethough', 'diamondbattles', 'museumseveral', 'jacksonnelson', 'enguerrand', 'islandsthors', 'ordersreligions', 'courtdrugs', 'pteridophyta', 'oligonucleotides', 'marz', 'feathersthe', 'waxhaws', 'rɔtərdɑm', 'worsenscystic', 'metrictablespoon', 'mitteilungen', 'guillotines', 'resistanceaccording']\n",
      "For topic 44 we have: ['years—but', 'jacksonnelson', 'mandatethough', 'diamondbattles', 'museumseveral', 'enguerrand', 'islandsthors', 'pteridophyta', 'oligonucleotides', 'courtdrugs', 'feathersthe', 'marz', 'mitteilungen', 'lightmeasures', 'rɔtərdɑm', 'worsenscystic', 'ordersreligions', 'metrictablespoon', 'waxhaws', 'guillotines']\n",
      "For topic 45 we have: ['years—but', 'mandatethough', 'diamondbattles', 'jacksonnelson', 'museumseveral', 'islandsthors', 'enguerrand', 'ordersreligions', 'oligonucleotides', 'feathersthe', 'pteridophyta', 'courtdrugs', 'worsenscystic', 'guillotines', 'marz', 'waxhaws', 'metrictablespoon', 'islandbiological', 'resistanceaccording', 'corporationpaknetpublic']\n",
      "For topic 46 we have: ['years—but', 'mandatethough', 'diamondbattles', 'museumseveral', 'jacksonnelson', 'enguerrand', 'islandsthors', 'ordersreligions', 'oligonucleotides', 'pteridophyta', 'courtdrugs', 'metrictablespoon', 'feathersthe', 'marz', 'waxhaws', 'worsenscystic', 'mitteilungen', 'lightmeasures', 'rɔtərdɑm', 'resistanceaccording']\n",
      "For topic 47 we have: ['years—but', 'mandatethough', 'diamondbattles', 'museumseveral', 'jacksonnelson', 'enguerrand', 'islandsthors', 'ordersreligions', 'oligonucleotides', 'pteridophyta', 'feathersthe', 'marz', 'guillotines', 'courtdrugs', 'metrictablespoon', 'waxhaws', 'protoichthyosaurs', 'zealandbrisbane', 'mitteilungen', 'worsenscystic']\n",
      "For topic 48 we have: ['years—but', 'mandatethough', 'diamondbattles', 'museumseveral', 'jacksonnelson', 'enguerrand', 'islandsthors', 'oligonucleotides', 'courtdrugs', 'ordersreligions', 'feathersthe', 'pteridophyta', 'mitteilungen', 'lightmeasures', 'marz', 'waxhaws', 'rɔtərdɑm', 'worsenscystic', 'metrictablespoon', 'resistanceaccording']\n"
     ]
    },
    {
     "name": "stdout",
     "output_type": "stream",
     "text": [
      "For topic 49 we have: ['years—but', 'mandatethough', 'diamondbattles', 'museumseveral', 'jacksonnelson', 'islandsthors', 'enguerrand', 'ordersreligions', 'pteridophyta', 'oligonucleotides', 'marz', 'courtdrugs', 'feathersthe', 'waxhaws', 'metrictablespoon', 'islandbiological', 'lightmeasures', 'resistanceaccording', 'mitteilungen', 'tml']\n",
      "For topic 50 we have: ['years—but', 'mandatethough', 'diamondbattles', 'museumseveral', 'jacksonnelson', 'enguerrand', 'islandsthors', 'pteridophyta', 'oligonucleotides', 'feathersthe', 'ordersreligions', 'courtdrugs', 'metrictablespoon', 'bunratty', 'worsenscystic', 'marz', 'mitteilungen', 'waxhaws', 'lightmeasures', 'tml']\n",
      "For topic 51 we have: ['years—but', 'mandatethough', 'diamondbattles', 'jacksonnelson', 'museumseveral', 'islandsthors', 'enguerrand', 'pteridophyta', 'oligonucleotides', 'feathersthe', 'courtdrugs', 'metrictablespoon', 'marz', 'ordersreligions', 'rɔtərdɑm', 'mitteilungen', 'corporationpaknetpublic', 'waxhaws', 'sitas', 'resistanceaccording']\n",
      "For topic 52 we have: ['years—but', 'mandatethough', 'diamondbattles', 'jacksonnelson', 'museumseveral', 'islandsthors', 'enguerrand', 'ordersreligions', 'pteridophyta', 'oligonucleotides', 'feathersthe', 'courtdrugs', 'waxhaws', 'metrictablespoon', 'mitteilungen', 'worsenscystic', 'marz', 'lightmeasures', 'rɔtərdɑm', 'resistanceaccording']\n",
      "For topic 53 we have: ['years—but', 'mandatethough', 'diamondbattles', 'museumseveral', 'enguerrand', 'jacksonnelson', 'islandsthors', 'ordersreligions', 'oligonucleotides', 'pteridophyta', 'feathersthe', 'marz', 'courtdrugs', 'metrictablespoon', 'mitteilungen', 'guillotines', 'worsenscystic', 'waxhaws', 'rɔtərdɑm', 'rangekurita']\n",
      "For topic 54 we have: ['years—but', 'mandatethough', 'diamondbattles', 'jacksonnelson', 'museumseveral', 'enguerrand', 'islandsthors', 'ordersreligions', 'oligonucleotides', 'pteridophyta', 'feathersthe', 'courtdrugs', 'guillotines', 'mitteilungen', 'marz', 'worsenscystic', 'metrictablespoon', 'waxhaws', 'lightmeasures', 'resistanceaccording']\n",
      "For topic 55 we have: ['years—but', 'mandatethough', 'diamondbattles', 'museumseveral', 'jacksonnelson', 'islandsthors', 'enguerrand', 'ordersreligions', 'oligonucleotides', 'courtdrugs', 'waxhaws', 'pteridophyta', 'marz', 'feathersthe', 'islandbiological', 'guillotines', 'mitteilungen', 'worsenscystic', 'metrictablespoon', 'lightmeasures']\n",
      "For topic 56 we have: ['years—but', 'mandatethough', 'diamondbattles', 'museumseveral', 'jacksonnelson', 'islandsthors', 'enguerrand', 'feathersthe', 'oligonucleotides', 'pteridophyta', 'mitteilungen', 'ordersreligions', 'waxhaws', 'marz', 'courtdrugs', 'worsenscystic', 'metrictablespoon', 'corporationpaknetpublic', 'lightmeasures', 'paddlewheelers']\n",
      "For topic 57 we have: ['years—but', 'mandatethough', 'diamondbattles', 'museumseveral', 'jacksonnelson', 'islandsthors', 'enguerrand', 'ordersreligions', 'pteridophyta', 'oligonucleotides', 'waxhaws', 'guillotines', 'marz', 'feathersthe', 'metrictablespoon', 'courtdrugs', 'mitteilungen', 'worsenscystic', 'zealandbrisbane', 'lightmeasures']\n",
      "For topic 58 we have: ['years—but', 'mandatethough', 'diamondbattles', 'museumseveral', 'jacksonnelson', 'islandsthors', 'enguerrand', 'ordersreligions', 'pteridophyta', 'oligonucleotides', 'feathersthe', 'courtdrugs', 'marz', 'metrictablespoon', 'waxhaws', 'mitteilungen', 'rɔtərdɑm', 'lightmeasures', 'resistanceaccording', 'rangekurita']\n",
      "For topic 59 we have: ['years—but', 'mandatethough', 'diamondbattles', 'museumseveral', 'jacksonnelson', 'islandsthors', 'enguerrand', 'ordersreligions', 'oligonucleotides', 'pteridophyta', 'courtdrugs', 'waxhaws', 'feathersthe', 'marz', 'metrictablespoon', 'worsenscystic', 'mitteilungen', 'guillotines', 'zealandbrisbane', 'lightmeasures']\n",
      "For topic 60 we have: ['mandatethough', 'years—but', 'diamondbattles', 'jacksonnelson', 'museumseveral', 'enguerrand', 'islandsthors', 'pteridophyta', 'oligonucleotides', 'courtdrugs', 'feathersthe', 'marz', 'metrictablespoon', 'mitteilungen', 'guillotines', 'ordersreligions', 'worsenscystic', 'islandbiological', 'lightmeasures', 'waxhaws']\n",
      "For topic 61 we have: ['years—but', 'mandatethough', 'diamondbattles', 'museumseveral', 'jacksonnelson', 'islandsthors', 'enguerrand', 'ordersreligions', 'pteridophyta', 'oligonucleotides', 'feathersthe', 'courtdrugs', 'guillotines', 'marz', 'waxhaws', 'metrictablespoon', 'rɔtərdɑm', 'mitteilungen', 'worsenscystic', 'zealandbrisbane']\n",
      "For topic 62 we have: ['years—but', 'mandatethough', 'diamondbattles', 'jacksonnelson', 'museumseveral', 'enguerrand', 'islandsthors', 'majeure', 'oligonucleotides', 'ordersreligions', 'courtdrugs', 'pteridophyta', 'feathersthe', 'waxhaws', 'marz', 'worsenscystic', 'metrictablespoon', 'lightmeasures', 'mitteilungen', 'resistanceaccording']\n",
      "For topic 63 we have: ['years—but', 'mandatethough', 'diamondbattles', 'jacksonnelson', 'museumseveral', 'enguerrand', 'islandsthors', 'ordersreligions', 'oligonucleotides', 'pteridophyta', 'courtdrugs', 'marz', 'feathersthe', 'guillotines', 'lightmeasures', 'rɔtərdɑm', 'metrictablespoon', 'worsenscystic', 'waxhaws', 'islandbiological']\n",
      "For topic 64 we have: ['years—but', 'mandatethough', 'diamondbattles', 'museumseveral', 'jacksonnelson', 'islandsthors', 'enguerrand', 'oligonucleotides', 'pteridophyta', 'ordersreligions', 'feathersthe', 'marz', 'courtdrugs', 'waxhaws', 'lightmeasures', 'metrictablespoon', 'mitteilungen', 'rɔtərdɑm', 'resistanceaccording', 'worsenscystic']\n",
      "For topic 65 we have: ['years—but', 'mandatethough', 'diamondbattles', 'jacksonnelson', 'museumseveral', 'enguerrand', 'islandsthors', 'oligonucleotides', 'pteridophyta', 'feathersthe', 'ordersreligions', 'marz', 'courtdrugs', 'islandbiological', 'metrictablespoon', 'waxhaws', 'mitteilungen', 'corporationpaknetpublic', 'worsenscystic', 'resistanceaccording']\n",
      "For topic 66 we have: ['years—but', 'mandatethough', 'diamondbattles', 'jacksonnelson', 'museumseveral', 'islandsthors', 'enguerrand', 'pteridophyta', 'oligonucleotides', 'ordersreligions', 'courtdrugs', 'feathersthe', 'waxhaws', 'marz', 'worsenscystic', 'mitteilungen', 'islandbiological', 'corporationpaknetpublic', 'rɔtərdɑm', 'lightmeasures']\n",
      "For topic 67 we have: ['mandatethough', 'years—but', 'diamondbattles', 'jacksonnelson', 'museumseveral', 'islandsthors', 'enguerrand', 'courtdrugs', 'oligonucleotides', 'metrictablespoon', 'feathersthe', 'marz', 'pteridophyta', 'worsenscystic', 'waxhaws', 'corporationpaknetpublic', 'rɔtərdɑm', 'mitteilungen', 'resistanceaccording', 'ordersreligions']\n",
      "For topic 68 we have: ['years—but', 'mandatethough', 'diamondbattles', 'jacksonnelson', 'museumseveral', 'islandsthors', 'enguerrand', 'oligonucleotides', 'ordersreligions', 'feathersthe', 'courtdrugs', 'guillotines', 'marz', 'pteridophyta', 'metrictablespoon', 'mitteilungen', 'lightmeasures', 'resistanceaccording', 'waxhaws', 'corporationpaknetpublic']\n",
      "For topic 69 we have: ['years—but', 'mandatethough', 'diamondbattles', 'museumseveral', 'jacksonnelson', 'enguerrand', 'islandsthors', 'ordersreligions', 'oligonucleotides', 'pteridophyta', 'marz', 'courtdrugs', 'feathersthe', 'metrictablespoon', 'mitteilungen', 'islandbiological', 'rɔtərdɑm', 'waxhaws', 'worsenscystic', 'guillotines']\n",
      "For topic 70 we have: ['years—but', 'mandatethough', 'diamondbattles', 'jacksonnelson', 'museumseveral', 'enguerrand', 'islandsthors', 'oligonucleotides', 'ordersreligions', 'feathersthe', 'courtdrugs', 'pteridophyta', 'mitteilungen', 'marz', 'waxhaws', 'guillotines', 'worsenscystic', 'metrictablespoon', 'rɔtərdɑm', 'lightmeasures']\n",
      "For topic 71 we have: ['years—but', 'mandatethough', 'diamondbattles', 'enguerrand', 'jacksonnelson', 'museumseveral', 'bunratty', 'islandsthors', 'impalas', 'oligonucleotides', 'ordersreligions', 'courtdrugs', 'feathersthe', 'pteridophyta', 'marz', 'waxhaws', 'mitteilungen', 'metrictablespoon', 'worsenscystic', 'rɔtərdɑm']\n",
      "For topic 72 we have: ['years—but', 'mandatethough', 'diamondbattles', 'museumseveral', 'jacksonnelson', 'enguerrand', 'islandsthors', 'oligonucleotides', 'feathersthe', 'courtdrugs', 'ordersreligions', 'marz', 'mitteilungen', 'waxhaws', 'pteridophyta', 'metrictablespoon', 'lightmeasures', 'tml', 'worsenscystic', 'resistanceaccording']\n"
     ]
    },
    {
     "name": "stdout",
     "output_type": "stream",
     "text": [
      "For topic 73 we have: ['years—but', 'mandatethough', 'diamondbattles', 'museumseveral', 'jacksonnelson', 'islandsthors', 'enguerrand', 'ordersreligions', 'pteridophyta', 'oligonucleotides', 'courtdrugs', 'marz', 'feathersthe', 'waxhaws', 'guillotines', 'mitteilungen', 'worsenscystic', 'metrictablespoon', 'resistanceaccording', 'lightmeasures']\n",
      "For topic 74 we have: ['years—but', 'mandatethough', 'diamondbattles', 'jacksonnelson', 'museumseveral', 'enguerrand', 'islandsthors', 'ordersreligions', 'oligonucleotides', 'marz', 'pteridophyta', 'feathersthe', 'courtdrugs', 'mitteilungen', 'metrictablespoon', 'lightmeasures', 'resistanceaccording', 'waxhaws', 'worsenscystic', 'rɔtərdɑm']\n",
      "For topic 75 we have: ['years—but', 'mandatethough', 'diamondbattles', 'jacksonnelson', 'museumseveral', 'enguerrand', 'islandsthors', 'pteridophyta', 'ordersreligions', 'oligonucleotides', 'waxhaws', 'marz', 'feathersthe', 'metrictablespoon', 'rɔtərdɑm', 'mitteilungen', 'worsenscystic', 'courtdrugs', 'islandbiological', 'lightmeasures']\n",
      "For topic 76 we have: ['years—but', 'mandatethough', 'diamondbattles', 'jacksonnelson', 'museumseveral', 'enguerrand', 'islandsthors', 'ordersreligions', 'pteridophyta', 'courtdrugs', 'oligonucleotides', 'feathersthe', 'rɔtərdɑm', 'waxhaws', 'mitteilungen', 'marz', 'metrictablespoon', 'lightmeasures', 'guillotines', 'resistanceaccording']\n",
      "For topic 77 we have: ['years—but', 'mandatethough', 'diamondbattles', 'jacksonnelson', 'museumseveral', 'enguerrand', 'islandsthors', 'pteridophyta', 'ordersreligions', 'oligonucleotides', 'courtdrugs', 'waxhaws', 'mitteilungen', 'marz', 'feathersthe', 'metrictablespoon', 'worsenscystic', 'resistanceaccording', 'lightmeasures', 'guillotines']\n",
      "For topic 78 we have: ['years—but', 'mandatethough', 'diamondbattles', 'jacksonnelson', 'museumseveral', 'enguerrand', 'islandsthors', 'ordersreligions', 'oligonucleotides', 'pteridophyta', 'courtdrugs', 'feathersthe', 'waxhaws', 'marz', 'metrictablespoon', 'mitteilungen', 'guillotines', 'worsenscystic', 'lightmeasures', 'tml']\n",
      "For topic 79 we have: ['years—but', 'mandatethough', 'diamondbattles', 'museumseveral', 'jacksonnelson', 'enguerrand', 'islandsthors', 'ordersreligions', 'oligonucleotides', 'pteridophyta', 'islandbiological', 'waxhaws', 'mitteilungen', 'courtdrugs', 'marz', 'feathersthe', 'metrictablespoon', 'worsenscystic', 'corporationpaknetpublic', 'lightmeasures']\n",
      "For topic 80 we have: ['years—but', 'mandatethough', 'jacksonnelson', 'diamondbattles', 'museumseveral', 'enguerrand', 'islandsthors', 'pteridophyta', 'oligonucleotides', 'feathersthe', 'ordersreligions', 'courtdrugs', 'marz', 'mitteilungen', 'metrictablespoon', 'worsenscystic', 'lightmeasures', 'corporationpaknetpublic', 'rɔtərdɑm', 'guillotines']\n",
      "For topic 81 we have: ['years—but', 'mandatethough', 'diamondbattles', 'museumseveral', 'jacksonnelson', 'islandsthors', 'enguerrand', 'pteridophyta', 'oligonucleotides', 'courtdrugs', 'feathersthe', 'ordersreligions', 'waxhaws', 'marz', 'metrictablespoon', 'mitteilungen', 'zealandbrisbane', 'lightmeasures', 'worsenscystic', 'islandbiological']\n",
      "For topic 82 we have: ['years—but', 'mandatethough', 'diamondbattles', 'jacksonnelson', 'museumseveral', 'enguerrand', 'islandsthors', 'ordersreligions', 'oligonucleotides', 'courtdrugs', 'feathersthe', 'marz', 'pteridophyta', 'metrictablespoon', 'waxhaws', 'worsenscystic', 'rɔtərdɑm', 'mitteilungen', 'islandbiological', 'resistanceaccording']\n",
      "For topic 83 we have: ['years—but', 'mandatethough', 'diamondbattles', 'museumseveral', 'jacksonnelson', 'islandsthors', 'enguerrand', 'oligonucleotides', 'courtdrugs', 'feathersthe', 'pteridophyta', 'marz', 'ordersreligions', 'islandbiological', 'mitteilungen', 'lightmeasures', 'waxhaws', 'corporationpaknetpublic', 'metrictablespoon', 'resistanceaccording']\n",
      "For topic 84 we have: ['years—but', 'mandatethough', 'diamondbattles', 'museumseveral', 'jacksonnelson', 'islandsthors', 'enguerrand', 'ordersreligions', 'oligonucleotides', 'pteridophyta', 'feathersthe', 'metrictablespoon', 'courtdrugs', 'marz', 'waxhaws', 'mitteilungen', 'rangekurita', 'guillotines', 'lightmeasures', 'tml']\n",
      "For topic 85 we have: ['years—but', 'mandatethough', 'diamondbattles', 'museumseveral', 'jacksonnelson', 'enguerrand', 'islandsthors', 'oligonucleotides', 'ordersreligions', 'pteridophyta', 'feathersthe', 'mitteilungen', 'courtdrugs', 'marz', 'metrictablespoon', 'lightmeasures', 'zealandbrisbane', 'worsenscystic', 'guillotines', 'waxhaws']\n",
      "For topic 86 we have: ['years—but', 'mandatethough', 'diamondbattles', 'jacksonnelson', 'museumseveral', 'enguerrand', 'islandsthors', 'ordersreligions', 'oligonucleotides', 'courtdrugs', 'waxhaws', 'rɔtərdɑm', 'marz', 'guillotines', 'feathersthe', 'metrictablespoon', 'pteridophyta', 'lightmeasures', 'mitteilungen', 'tml']\n",
      "For topic 87 we have: ['years—but', 'mandatethough', 'diamondbattles', 'jacksonnelson', 'museumseveral', 'enguerrand', 'islandsthors', 'ordersreligions', 'guillotines', 'oligonucleotides', 'courtdrugs', 'metrictablespoon', 'feathersthe', 'pteridophyta', 'marz', 'waxhaws', 'mitteilungen', 'lightmeasures', 'islandbiological', 'worsenscystic']\n",
      "For topic 88 we have: ['years—but', 'mandatethough', 'diamondbattles', 'museumseveral', 'jacksonnelson', 'islandsthors', 'enguerrand', 'pteridophyta', 'oligonucleotides', 'ordersreligions', 'feathersthe', 'courtdrugs', 'metrictablespoon', 'lightmeasures', 'marz', 'waxhaws', 'mitteilungen', 'resistanceaccording', 'guillotines', 'rɔtərdɑm']\n",
      "For topic 89 we have: ['years—but', 'mandatethough', 'diamondbattles', 'jacksonnelson', 'museumseveral', 'enguerrand', 'islandsthors', 'islandbiological', 'ordersreligions', 'oligonucleotides', 'pteridophyta', 'marz', 'metrictablespoon', 'feathersthe', 'mitteilungen', 'courtdrugs', 'waxhaws', 'lightmeasures', 'corporationpaknetpublic', 'tml']\n",
      "For topic 90 we have: ['years—but', 'mandatethough', 'diamondbattles', 'jacksonnelson', 'museumseveral', 'ordersreligions', 'enguerrand', 'islandsthors', 'guillotines', 'pteridophyta', 'oligonucleotides', 'feathersthe', 'waxhaws', 'marz', 'mitteilungen', 'metrictablespoon', 'lightmeasures', 'tml', 'courtdrugs', 'rɔtərdɑm']\n",
      "For topic 91 we have: ['years—but', 'mandatethough', 'diamondbattles', 'museumseveral', 'jacksonnelson', 'islandsthors', 'enguerrand', 'ordersreligions', 'oligonucleotides', 'waxhaws', 'marz', 'pteridophyta', 'metrictablespoon', 'islandbiological', 'feathersthe', 'courtdrugs', 'mitteilungen', 'rɔtərdɑm', 'resistanceaccording', 'corporationpaknetpublic']\n",
      "For topic 92 we have: ['years—but', 'mandatethough', 'diamondbattles', 'museumseveral', 'jacksonnelson', 'enguerrand', 'islandsthors', 'pteridophyta', 'feathersthe', 'oligonucleotides', 'ordersreligions', 'courtdrugs', 'mitteilungen', 'marz', 'rɔtərdɑm', 'metrictablespoon', 'guillotines', 'worsenscystic', 'lightmeasures', 'waxhaws']\n",
      "For topic 93 we have: ['years—but', 'mandatethough', 'diamondbattles', 'jacksonnelson', 'museumseveral', 'enguerrand', 'islandsthors', 'pteridophyta', 'oligonucleotides', 'feathersthe', 'courtdrugs', 'worsenscystic', 'marz', 'mitteilungen', 'ordersreligions', 'waxhaws', 'rɔtərdɑm', 'metrictablespoon', 'lightmeasures', 'resistanceaccording']\n",
      "For topic 94 we have: ['years—but', 'mandatethough', 'diamondbattles', 'museumseveral', 'jacksonnelson', 'islandsthors', 'enguerrand', 'ordersreligions', 'pteridophyta', 'oligonucleotides', 'feathersthe', 'courtdrugs', 'marz', 'guillotines', 'waxhaws', 'mitteilungen', 'rɔtərdɑm', 'metrictablespoon', 'resistanceaccording', 'lightmeasures']\n",
      "For topic 95 we have: ['years—but', 'mandatethough', 'diamondbattles', 'jacksonnelson', 'museumseveral', 'enguerrand', 'islandsthors', 'oligonucleotides', 'pteridophyta', 'ordersreligions', 'islandbiological', 'courtdrugs', 'feathersthe', 'metrictablespoon', 'marz', 'mitteilungen', 'rɔtərdɑm', 'worsenscystic', 'corporationpaknetpublic', 'waxhaws']\n",
      "For topic 96 we have: ['years—but', 'mandatethough', 'diamondbattles', 'museumseveral', 'jacksonnelson', 'enguerrand', 'islandsthors', 'ordersreligions', 'pteridophyta', 'oligonucleotides', 'courtdrugs', 'waxhaws', 'feathersthe', 'marz', 'guillotines', 'metrictablespoon', 'tml', 'mitteilungen', 'worsenscystic', 'lightmeasures']\n"
     ]
    },
    {
     "name": "stdout",
     "output_type": "stream",
     "text": [
      "For topic 97 we have: ['years—but', 'mandatethough', 'diamondbattles', 'museumseveral', 'jacksonnelson', 'enguerrand', 'islandsthors', 'ordersreligions', 'oligonucleotides', 'pteridophyta', 'courtdrugs', 'marz', 'waxhaws', 'lightmeasures', 'feathersthe', 'metrictablespoon', 'mitteilungen', 'guillotines', 'rɔtərdɑm', 'tml']\n",
      "For topic 98 we have: ['years—but', 'mandatethough', 'diamondbattles', 'museumseveral', 'jacksonnelson', 'enguerrand', 'islandsthors', 'oligonucleotides', 'feathersthe', 'pteridophyta', 'courtdrugs', 'rɔtərdɑm', 'ordersreligions', 'metrictablespoon', 'mitteilungen', 'worsenscystic', 'marz', 'waxhaws', 'resistanceaccording', 'lightmeasures']\n",
      "For topic 99 we have: ['years—but', 'mandatethough', 'diamondbattles', 'jacksonnelson', 'museumseveral', 'enguerrand', 'islandsthors', 'ordersreligions', 'oligonucleotides', 'pteridophyta', 'feathersthe', 'courtdrugs', 'rɔtərdɑm', 'marz', 'waxhaws', 'guillotines', 'metrictablespoon', 'mitteilungen', 'lightmeasures', 'worsenscystic']\n",
      "For topic 100 we have: ['years—but', 'mandatethough', 'diamondbattles', 'museumseveral', 'enguerrand', 'jacksonnelson', 'islandsthors', 'ordersreligions', 'oligonucleotides', 'feathersthe', 'courtdrugs', 'pteridophyta', 'marz', 'waxhaws', 'metrictablespoon', 'mitteilungen', 'islandbiological', 'worsenscystic', 'rɔtərdɑm', 'corporationpaknetpublic']\n"
     ]
    }
   ],
   "source": [
    "extract_topic(model_411, 20, tokens_ids_map)"
   ]
  },
  {
   "cell_type": "markdown",
   "metadata": {},
   "source": [
    "### Label topics\n",
    "\n",
    "- Topic 1 `prout-prout`\n",
    "- etc."
   ]
  }
 ],
 "metadata": {
  "kernelspec": {
   "display_name": "Python 3",
   "language": "python",
   "name": "python3"
  },
  "language_info": {
   "codemirror_mode": {
    "name": "ipython",
    "version": 3
   },
   "file_extension": ".py",
   "mimetype": "text/x-python",
   "name": "python",
   "nbconvert_exporter": "python",
   "pygments_lexer": "ipython3",
   "version": "3.7.6"
  }
 },
 "nbformat": 4,
 "nbformat_minor": 2
}
