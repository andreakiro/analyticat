{
 "cells": [
  {
   "cell_type": "markdown",
   "metadata": {},
   "source": [
    "# Jupyter Notebook\n",
    "\n",
    "A [Jupyter Notebook](http://jupyter.org/index.html) is an HTML-based notebook which allows you to create and share documents that contain live code, equations, visualizations and explanatory text. It allows a clean presentation of computational results as HTML or PDF reports and is well suited for interactive tasks such as data cleaning, transformation and exploration, numerical simulation, statistical modeling, machine learning and more. It runs everywhere (Window, Mac, Linux, Cloud) and supports multiple languages through various kernels, e.g. Python, R, Julia, Matlab.\n",
    "\n",
    "## Modes\n",
    "\n",
    "When inside a notebook, there are two modes:\n",
    "\n",
    "1. **Edit mode**: as its name tells, you are editing a cell (writing something). The selected cell has a <span style=\"color: green;\">green</span> border.\n",
    "2. **Command mode**: this mode allows you to interact with the notebook structure. The selected cell has a <span style=\"color: blue;\">blue</span> border.\n",
    "\n",
    "When in command mode, press `<Enter>` or click to *enter* edit mode. When in edit mode, press `<Esc>` to *leave* edit mode and enter command mode.\n",
    "\n",
    "## Keyboard shortcuts\n",
    "\n",
    "Something that you should know is that you can perform a lot of actions using specific keyboard shortcuts. That way you never have to remove your hands from the keys to reach the mouse. You can keep your brain connected directly to the screen, allowing your ideas to flow smoothly to the editor :) Productivity improvement guaranteed!\n",
    "\n",
    "## Cells\n",
    "\n",
    "A notebook is composed of **cells**. Each cell has a *type*, the most relevant being the *Code* and the *[Markdown](https://en.wikipedia.org/wiki/Markdown)* types. You can interact with the cells in different ways. We will go through the basic actions that you can perform.\n",
    "\n",
    "### Insert a cell\n",
    "The first thing is of course to **create** a cell. You always create cells *relatively to the selected one* (the one that has a colored border). There are several ways to do that:\n",
    "\n",
    "1. **Using the menu.** Click on `Insert -> Insert Cell Above/Bellow`.\n",
    "2. **Using a shortcut.** When in command mode, press `<A>` (**a**bove) or `<B>` (**b**ellow).\n",
    "\n",
    "Insert cells bellow this one using the two methods."
   ]
  },
  {
   "cell_type": "markdown",
   "metadata": {},
   "source": [
    "### Delete a cell\n",
    "\n",
    "You can of course **delete** a cell. Again, there are two ways to do so. After selecting a cell to delete, you can:\n",
    "\n",
    "1. In the menu, select `Edit -> Delete Cells`.\n",
    "2. When in command mode, press `<DD>` (**d**elete, twice because it is a risky operation...).\n",
    "\n",
    "You can still *undo* it using the `Edit -> Undo [move]` menu.\n",
    "\n",
    "Delete the following two cells."
   ]
  },
  {
   "cell_type": "markdown",
   "metadata": {},
   "source": [
    "### Execute a cell\n",
    "\n",
    "We have not done anything meaningful so far. To really make use of the notebook, we need to be able to **execute** the cells. Executing a Markdown cell will only *render* its content. Executing a Code cell will actually evaluate it. Potential outputs (print, plot, ...) will be displayed right bellow the cell. Again, there are several ways to do that:\n",
    "\n",
    "1. Using the menu, select one of `Cell -> Run [something]`.\n",
    "2. Using the toolbar, click on the \"play\" button (the triangle with a bar on its right, next to the big square).\n",
    "3. Using the keyboard, you have several options:\n",
    "    - `<Ctrl>-<Enter>` will execute the cell and keep it selected.\n",
    "    - `<Shift>-<Enter>` will execute the cell and select the one bellow.\n",
    "    - `<Alt>-<Enter>` will execute the cell and insert a new one bellow.\n",
    "    \n",
    "Execute the following cell with the different methods."
   ]
  },
  {
   "cell_type": "code",
   "execution_count": 1,
   "metadata": {},
   "outputs": [
    {
     "name": "stdout",
     "output_type": "stream",
     "text": [
      "Hi there! Did you know a + b = 5 ?\n"
     ]
    }
   ],
   "source": [
    "a = 2\n",
    "b = 3\n",
    "print(\"Hi there! Did you know a + b = %d ?\" % (a + b))"
   ]
  },
  {
   "cell_type": "markdown",
   "metadata": {},
   "source": [
    "### Select the cell type\n",
    "\n",
    "You can change the cell type in the toolbar at the top of the screen. Select the desired type in the dropdown menu. You can also use the keyboad. When in command mode:\n",
    "\n",
    "- Press `<M>` to change the type to **M**arkdown.\n",
    "- Press `<Y>` to change the type to Code.\n",
    "\n",
    "The following cell contains some Markdown text, but its type is set on code. Fix it!"
   ]
  },
  {
   "cell_type": "markdown",
   "metadata": {},
   "source": [
    "### This is a 3rd-level heading\n",
    "\n",
    "This is some *normal* text."
   ]
  },
  {
   "cell_type": "markdown",
   "metadata": {},
   "source": [
    "### More advanced\n",
    "\n",
    "There exists more actions to interact with your notebook, such as:\n",
    "\n",
    "- Spliting cells\n",
    "- Merging cells\n",
    "- Moving cells up and down\n",
    "- Restarting the kernel\n",
    "- Clearing the outputs\n",
    "\n",
    "But we leave it to the curious reader or the eager user to find them out by herself."
   ]
  },
  {
   "cell_type": "markdown",
   "metadata": {},
   "source": [
    "## Relevant features\n",
    "\n",
    "Here comes a non-exhaustive of relevant features that are widely used when developing in notebooks.\n",
    "\n",
    "### Magic cells and lines\n",
    "\n",
    "Jupyter provides a bunch of magic commands. Line magics start with `%` and involve only one line (meaning that you can mix them with other things, like code). Cell magics start with `%%` and involve the whole cell.\n",
    "\n",
    "Examples of useful magic commands are:\n",
    "\n",
    "- `%%time`: display a report of the execution time of the cell\n",
    "- `%matplotlib inline`: display the plots in the cell output and not in a new window (see notebook `2-data-science`)\n",
    "- Automatically reload Python modules to avoid restarting the kernel (see notebook `1-python`):\n",
    "```\n",
    "%reload_ext autoreload\n",
    "%autoreload 2\n",
    "```\n",
    "\n",
    "You can list all the magic commands with `%lsmagic`."
   ]
  },
  {
   "cell_type": "code",
   "execution_count": 4,
   "metadata": {},
   "outputs": [
    {
     "data": {
      "application/json": {
       "cell": {
        "!": "OSMagics",
        "HTML": "Other",
        "SVG": "Other",
        "bash": "Other",
        "capture": "ExecutionMagics",
        "debug": "ExecutionMagics",
        "file": "Other",
        "html": "DisplayMagics",
        "javascript": "DisplayMagics",
        "js": "DisplayMagics",
        "latex": "DisplayMagics",
        "markdown": "DisplayMagics",
        "perl": "Other",
        "prun": "ExecutionMagics",
        "pypy": "Other",
        "python": "Other",
        "python2": "Other",
        "python3": "Other",
        "ruby": "Other",
        "script": "ScriptMagics",
        "sh": "Other",
        "svg": "DisplayMagics",
        "sx": "OSMagics",
        "system": "OSMagics",
        "time": "ExecutionMagics",
        "timeit": "ExecutionMagics",
        "writefile": "OSMagics"
       },
       "line": {
        "alias": "OSMagics",
        "alias_magic": "BasicMagics",
        "autoawait": "AsyncMagics",
        "autocall": "AutoMagics",
        "automagic": "AutoMagics",
        "autosave": "KernelMagics",
        "bookmark": "OSMagics",
        "cat": "Other",
        "cd": "OSMagics",
        "clear": "KernelMagics",
        "colors": "BasicMagics",
        "conda": "PackagingMagics",
        "config": "ConfigMagics",
        "connect_info": "KernelMagics",
        "cp": "Other",
        "debug": "ExecutionMagics",
        "dhist": "OSMagics",
        "dirs": "OSMagics",
        "doctest_mode": "BasicMagics",
        "ed": "Other",
        "edit": "KernelMagics",
        "env": "OSMagics",
        "gui": "BasicMagics",
        "hist": "Other",
        "history": "HistoryMagics",
        "killbgscripts": "ScriptMagics",
        "ldir": "Other",
        "less": "KernelMagics",
        "lf": "Other",
        "lk": "Other",
        "ll": "Other",
        "load": "CodeMagics",
        "load_ext": "ExtensionMagics",
        "loadpy": "CodeMagics",
        "logoff": "LoggingMagics",
        "logon": "LoggingMagics",
        "logstart": "LoggingMagics",
        "logstate": "LoggingMagics",
        "logstop": "LoggingMagics",
        "ls": "Other",
        "lsmagic": "BasicMagics",
        "lx": "Other",
        "macro": "ExecutionMagics",
        "magic": "BasicMagics",
        "man": "KernelMagics",
        "matplotlib": "PylabMagics",
        "mkdir": "Other",
        "more": "KernelMagics",
        "mv": "Other",
        "notebook": "BasicMagics",
        "page": "BasicMagics",
        "pastebin": "CodeMagics",
        "pdb": "ExecutionMagics",
        "pdef": "NamespaceMagics",
        "pdoc": "NamespaceMagics",
        "pfile": "NamespaceMagics",
        "pinfo": "NamespaceMagics",
        "pinfo2": "NamespaceMagics",
        "pip": "PackagingMagics",
        "popd": "OSMagics",
        "pprint": "BasicMagics",
        "precision": "BasicMagics",
        "prun": "ExecutionMagics",
        "psearch": "NamespaceMagics",
        "psource": "NamespaceMagics",
        "pushd": "OSMagics",
        "pwd": "OSMagics",
        "pycat": "OSMagics",
        "pylab": "PylabMagics",
        "qtconsole": "KernelMagics",
        "quickref": "BasicMagics",
        "recall": "HistoryMagics",
        "rehashx": "OSMagics",
        "reload_ext": "ExtensionMagics",
        "rep": "Other",
        "rerun": "HistoryMagics",
        "reset": "NamespaceMagics",
        "reset_selective": "NamespaceMagics",
        "rm": "Other",
        "rmdir": "Other",
        "run": "ExecutionMagics",
        "save": "CodeMagics",
        "sc": "OSMagics",
        "set_env": "OSMagics",
        "store": "StoreMagics",
        "sx": "OSMagics",
        "system": "OSMagics",
        "tb": "ExecutionMagics",
        "time": "ExecutionMagics",
        "timeit": "ExecutionMagics",
        "unalias": "OSMagics",
        "unload_ext": "ExtensionMagics",
        "who": "NamespaceMagics",
        "who_ls": "NamespaceMagics",
        "whos": "NamespaceMagics",
        "xdel": "NamespaceMagics",
        "xmode": "BasicMagics"
       }
      },
      "text/plain": [
       "Available line magics:\n",
       "%alias  %alias_magic  %autoawait  %autocall  %automagic  %autosave  %bookmark  %cat  %cd  %clear  %colors  %conda  %config  %connect_info  %cp  %debug  %dhist  %dirs  %doctest_mode  %ed  %edit  %env  %gui  %hist  %history  %killbgscripts  %ldir  %less  %lf  %lk  %ll  %load  %load_ext  %loadpy  %logoff  %logon  %logstart  %logstate  %logstop  %ls  %lsmagic  %lx  %macro  %magic  %man  %matplotlib  %mkdir  %more  %mv  %notebook  %page  %pastebin  %pdb  %pdef  %pdoc  %pfile  %pinfo  %pinfo2  %pip  %popd  %pprint  %precision  %prun  %psearch  %psource  %pushd  %pwd  %pycat  %pylab  %qtconsole  %quickref  %recall  %rehashx  %reload_ext  %rep  %rerun  %reset  %reset_selective  %rm  %rmdir  %run  %save  %sc  %set_env  %store  %sx  %system  %tb  %time  %timeit  %unalias  %unload_ext  %who  %who_ls  %whos  %xdel  %xmode\n",
       "\n",
       "Available cell magics:\n",
       "%%!  %%HTML  %%SVG  %%bash  %%capture  %%debug  %%file  %%html  %%javascript  %%js  %%latex  %%markdown  %%perl  %%prun  %%pypy  %%python  %%python2  %%python3  %%ruby  %%script  %%sh  %%svg  %%sx  %%system  %%time  %%timeit  %%writefile\n",
       "\n",
       "Automagic is ON, % prefix IS NOT needed for line magics."
      ]
     },
     "execution_count": 4,
     "metadata": {},
     "output_type": "execute_result"
    }
   ],
   "source": [
    "%lsmagic"
   ]
  },
  {
   "cell_type": "markdown",
   "metadata": {},
   "source": [
    "### Latex\n",
    "In your Markdown cells, you can also include $\\LaTeX$ equations using the usual delimiters `$` (inline equation) and `$$` (block equation). \n",
    "\n",
    "Here is an example of the [most beautiful equation](https://www.quora.com/What-is-the-most-beautiful-equation/answer/Tracy-Chou?srid=dVcP):\n",
    "\n",
    "$$\n",
    "  e^{\\pi i} + 1 = 0\n",
    "$$\n",
    "\n",
    "You can also define a whole cell as Latex by using the cell magics `%%latex` at the beginning of a *Code* cell."
   ]
  },
  {
   "cell_type": "markdown",
   "metadata": {},
   "source": [
    "### Shell commands\n",
    "\n",
    "You can also run shell commands directly in the cells by starting the line with `!`:"
   ]
  },
  {
   "cell_type": "code",
   "execution_count": null,
   "metadata": {},
   "outputs": [],
   "source": [
    "!ls -alh"
   ]
  },
  {
   "cell_type": "markdown",
   "metadata": {},
   "source": [
    "### Sharing\n",
    "\n",
    "A notebook is just a [JSON](https://en.wikipedia.org/wiki/JSON) file. You can therefore easily share it with other people or display it on [notebook viewer](https://nbviewer.jupyter.org) platforms. Export it using `File -> Download as -> Notebook`. Several output formats are moreover available. Keep in mind the **HTML** format. "
   ]
  },
  {
   "cell_type": "markdown",
   "metadata": {},
   "source": [
    "## References\n",
    "\n",
    "You should definitely take the **User Interface Tour** and read through the **Keyboard Shortcuts**, both located in the help menu. If you are interested, here is a link to the complete [documentation](http://jupyter-notebook.readthedocs.io/en/latest/)."
   ]
  }
 ],
 "metadata": {
  "kernelspec": {
   "display_name": "Python 3",
   "language": "python",
   "name": "python3"
  },
  "language_info": {
   "codemirror_mode": {
    "name": "ipython",
    "version": 3
   },
   "file_extension": ".py",
   "mimetype": "text/x-python",
   "name": "python",
   "nbconvert_exporter": "python",
   "pygments_lexer": "ipython3",
   "version": "3.7.3"
  }
 },
 "nbformat": 4,
 "nbformat_minor": 2
}
